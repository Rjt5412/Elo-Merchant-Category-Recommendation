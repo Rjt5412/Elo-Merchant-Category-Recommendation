{
  "nbformat": 4,
  "nbformat_minor": 0,
  "metadata": {
    "kernelspec": {
      "display_name": "Python 3",
      "language": "python",
      "name": "python3"
    },
    "language_info": {
      "codemirror_mode": {
        "name": "ipython",
        "version": 3
      },
      "file_extension": ".py",
      "mimetype": "text/x-python",
      "name": "python",
      "nbconvert_exporter": "python",
      "pygments_lexer": "ipython3",
      "version": "3.6.5"
    },
    "colab": {
      "name": "Elo_EDA",
      "provenance": [],
      "collapsed_sections": [],
      "toc_visible": true
    },
    "widgets": {
      "application/vnd.jupyter.widget-state+json": {
        "76da4fca26134c85b40c8c6de8ee0d83": {
          "model_module": "@jupyter-widgets/controls",
          "model_name": "HBoxModel",
          "state": {
            "_view_name": "HBoxView",
            "_dom_classes": [],
            "_model_name": "HBoxModel",
            "_view_module": "@jupyter-widgets/controls",
            "_model_module_version": "1.5.0",
            "_view_count": null,
            "_view_module_version": "1.5.0",
            "box_style": "",
            "layout": "IPY_MODEL_73fffd88486e4c4f8c2de94b01bfe45f",
            "_model_module": "@jupyter-widgets/controls",
            "children": [
              "IPY_MODEL_0396c4eec3d24244a6a7a679691348f1",
              "IPY_MODEL_cdd8302d1bef4145b469362d5376b84b"
            ]
          }
        },
        "73fffd88486e4c4f8c2de94b01bfe45f": {
          "model_module": "@jupyter-widgets/base",
          "model_name": "LayoutModel",
          "state": {
            "_view_name": "LayoutView",
            "grid_template_rows": null,
            "right": null,
            "justify_content": null,
            "_view_module": "@jupyter-widgets/base",
            "overflow": null,
            "_model_module_version": "1.2.0",
            "_view_count": null,
            "flex_flow": null,
            "width": null,
            "min_width": null,
            "border": null,
            "align_items": null,
            "bottom": null,
            "_model_module": "@jupyter-widgets/base",
            "top": null,
            "grid_column": null,
            "overflow_y": null,
            "overflow_x": null,
            "grid_auto_flow": null,
            "grid_area": null,
            "grid_template_columns": null,
            "flex": null,
            "_model_name": "LayoutModel",
            "justify_items": null,
            "grid_row": null,
            "max_height": null,
            "align_content": null,
            "visibility": null,
            "align_self": null,
            "height": null,
            "min_height": null,
            "padding": null,
            "grid_auto_rows": null,
            "grid_gap": null,
            "max_width": null,
            "order": null,
            "_view_module_version": "1.2.0",
            "grid_template_areas": null,
            "object_position": null,
            "object_fit": null,
            "grid_auto_columns": null,
            "margin": null,
            "display": null,
            "left": null
          }
        },
        "0396c4eec3d24244a6a7a679691348f1": {
          "model_module": "@jupyter-widgets/controls",
          "model_name": "FloatProgressModel",
          "state": {
            "_view_name": "ProgressView",
            "style": "IPY_MODEL_f579bd13826f41bdb436055ca8a74b7a",
            "_dom_classes": [],
            "description": "100%",
            "_model_name": "FloatProgressModel",
            "bar_style": "success",
            "max": 290001,
            "_view_module": "@jupyter-widgets/controls",
            "_model_module_version": "1.5.0",
            "value": 290001,
            "_view_count": null,
            "_view_module_version": "1.5.0",
            "orientation": "horizontal",
            "min": 0,
            "description_tooltip": null,
            "_model_module": "@jupyter-widgets/controls",
            "layout": "IPY_MODEL_93b193b844404b94a05e0bccf2496419"
          }
        },
        "cdd8302d1bef4145b469362d5376b84b": {
          "model_module": "@jupyter-widgets/controls",
          "model_name": "HTMLModel",
          "state": {
            "_view_name": "HTMLView",
            "style": "IPY_MODEL_b8e7a0545ec54c8a8412dfef0f221a0b",
            "_dom_classes": [],
            "description": "",
            "_model_name": "HTMLModel",
            "placeholder": "​",
            "_view_module": "@jupyter-widgets/controls",
            "_model_module_version": "1.5.0",
            "value": " 290001/290001 [09:57&lt;00:00, 485.04it/s]",
            "_view_count": null,
            "_view_module_version": "1.5.0",
            "description_tooltip": null,
            "_model_module": "@jupyter-widgets/controls",
            "layout": "IPY_MODEL_b18633b60c8c409fa3d5ff5d6cb0d06d"
          }
        },
        "f579bd13826f41bdb436055ca8a74b7a": {
          "model_module": "@jupyter-widgets/controls",
          "model_name": "ProgressStyleModel",
          "state": {
            "_view_name": "StyleView",
            "_model_name": "ProgressStyleModel",
            "description_width": "initial",
            "_view_module": "@jupyter-widgets/base",
            "_model_module_version": "1.5.0",
            "_view_count": null,
            "_view_module_version": "1.2.0",
            "bar_color": null,
            "_model_module": "@jupyter-widgets/controls"
          }
        },
        "93b193b844404b94a05e0bccf2496419": {
          "model_module": "@jupyter-widgets/base",
          "model_name": "LayoutModel",
          "state": {
            "_view_name": "LayoutView",
            "grid_template_rows": null,
            "right": null,
            "justify_content": null,
            "_view_module": "@jupyter-widgets/base",
            "overflow": null,
            "_model_module_version": "1.2.0",
            "_view_count": null,
            "flex_flow": null,
            "width": null,
            "min_width": null,
            "border": null,
            "align_items": null,
            "bottom": null,
            "_model_module": "@jupyter-widgets/base",
            "top": null,
            "grid_column": null,
            "overflow_y": null,
            "overflow_x": null,
            "grid_auto_flow": null,
            "grid_area": null,
            "grid_template_columns": null,
            "flex": null,
            "_model_name": "LayoutModel",
            "justify_items": null,
            "grid_row": null,
            "max_height": null,
            "align_content": null,
            "visibility": null,
            "align_self": null,
            "height": null,
            "min_height": null,
            "padding": null,
            "grid_auto_rows": null,
            "grid_gap": null,
            "max_width": null,
            "order": null,
            "_view_module_version": "1.2.0",
            "grid_template_areas": null,
            "object_position": null,
            "object_fit": null,
            "grid_auto_columns": null,
            "margin": null,
            "display": null,
            "left": null
          }
        },
        "b8e7a0545ec54c8a8412dfef0f221a0b": {
          "model_module": "@jupyter-widgets/controls",
          "model_name": "DescriptionStyleModel",
          "state": {
            "_view_name": "StyleView",
            "_model_name": "DescriptionStyleModel",
            "description_width": "",
            "_view_module": "@jupyter-widgets/base",
            "_model_module_version": "1.5.0",
            "_view_count": null,
            "_view_module_version": "1.2.0",
            "_model_module": "@jupyter-widgets/controls"
          }
        },
        "b18633b60c8c409fa3d5ff5d6cb0d06d": {
          "model_module": "@jupyter-widgets/base",
          "model_name": "LayoutModel",
          "state": {
            "_view_name": "LayoutView",
            "grid_template_rows": null,
            "right": null,
            "justify_content": null,
            "_view_module": "@jupyter-widgets/base",
            "overflow": null,
            "_model_module_version": "1.2.0",
            "_view_count": null,
            "flex_flow": null,
            "width": null,
            "min_width": null,
            "border": null,
            "align_items": null,
            "bottom": null,
            "_model_module": "@jupyter-widgets/base",
            "top": null,
            "grid_column": null,
            "overflow_y": null,
            "overflow_x": null,
            "grid_auto_flow": null,
            "grid_area": null,
            "grid_template_columns": null,
            "flex": null,
            "_model_name": "LayoutModel",
            "justify_items": null,
            "grid_row": null,
            "max_height": null,
            "align_content": null,
            "visibility": null,
            "align_self": null,
            "height": null,
            "min_height": null,
            "padding": null,
            "grid_auto_rows": null,
            "grid_gap": null,
            "max_width": null,
            "order": null,
            "_view_module_version": "1.2.0",
            "grid_template_areas": null,
            "object_position": null,
            "object_fit": null,
            "grid_auto_columns": null,
            "margin": null,
            "display": null,
            "left": null
          }
        }
      }
    }
  },
  "cells": [
    {
      "cell_type": "markdown",
      "metadata": {
        "id": "qUSW7d-wYsoE"
      },
      "source": [
        "## Mount Drive"
      ]
    },
    {
      "cell_type": "code",
      "metadata": {
        "id": "Elwsg0vMTY_D"
      },
      "source": [
        "from google.colab import drive\n",
        "drive.mount('/content/drive')"
      ],
      "execution_count": null,
      "outputs": []
    },
    {
      "cell_type": "code",
      "metadata": {
        "id": "yTlE13HW3Wii",
        "outputId": "9ac3f2e9-9005-42b3-9b87-5881d43d98e8",
        "colab": {
          "base_uri": "https://localhost:8080/",
          "height": 34
        }
      },
      "source": [
        "cd /content/drive/My Drive/Applied\\ AI\\ course\\ Assignments/Case\\ Study\\ 1"
      ],
      "execution_count": null,
      "outputs": [
        {
          "output_type": "stream",
          "text": [
            "/content/drive/My Drive/Applied AI course Assignments/Case Study 1\n"
          ],
          "name": "stdout"
        }
      ]
    },
    {
      "cell_type": "code",
      "metadata": {
        "id": "Dez-qSQe12UM",
        "outputId": "c8b41c29-c369-4474-ccdd-14d7d00e9ee4",
        "colab": {
          "base_uri": "https://localhost:8080/",
          "height": 71
        }
      },
      "source": [
        "import pandas as pd\n",
        "import numpy as np\n",
        "import seaborn as sns\n",
        "import matplotlib.pyplot as plt\n",
        "\n",
        "import gc\n",
        "import warnings\n",
        "warnings.filterwarnings('ignore')\n",
        "\n",
        "#plt.style.use('dark_background')"
      ],
      "execution_count": null,
      "outputs": [
        {
          "output_type": "stream",
          "text": [
            "/usr/local/lib/python3.6/dist-packages/statsmodels/tools/_testing.py:19: FutureWarning: pandas.util.testing is deprecated. Use the functions in the public API at pandas.testing instead.\n",
            "  import pandas.util.testing as tm\n"
          ],
          "name": "stderr"
        }
      ]
    },
    {
      "cell_type": "code",
      "metadata": {
        "id": "j7nyGKAl62B_"
      },
      "source": [
        "#https://www.kaggle.com/fabiendaniel/elo-world\n",
        "#Function to load data into pandas and reduce memory usage\n",
        "\n",
        "def reduce_mem_usage(df, verbose=True):\n",
        "    numerics = ['int16', 'int32', 'int64', 'float16', 'float32', 'float64']\n",
        "    start_mem = df.memory_usage().sum() / 1024**2    \n",
        "    for col in df.columns:\n",
        "        col_type = df[col].dtypes\n",
        "        if col_type in numerics:\n",
        "            c_min = df[col].min()\n",
        "            c_max = df[col].max()\n",
        "            if str(col_type)[:3] == 'int':\n",
        "                if c_min > np.iinfo(np.int8).min and c_max < np.iinfo(np.int8).max:\n",
        "                    df[col] = df[col].astype(np.int8)\n",
        "                elif c_min > np.iinfo(np.int16).min and c_max < np.iinfo(np.int16).max:\n",
        "                    df[col] = df[col].astype(np.int16)\n",
        "                elif c_min > np.iinfo(np.int32).min and c_max < np.iinfo(np.int32).max:\n",
        "                    df[col] = df[col].astype(np.int32)\n",
        "                elif c_min > np.iinfo(np.int64).min and c_max < np.iinfo(np.int64).max:\n",
        "                    df[col] = df[col].astype(np.int64)  \n",
        "            else:\n",
        "                if c_min > np.finfo(np.float16).min and c_max < np.finfo(np.float16).max:\n",
        "                    df[col] = df[col].astype(np.float16)\n",
        "                elif c_min > np.finfo(np.float32).min and c_max < np.finfo(np.float32).max:\n",
        "                    df[col] = df[col].astype(np.float32)\n",
        "                else:\n",
        "                    df[col] = df[col].astype(np.float64)    \n",
        "    end_mem = df.memory_usage().sum() / 1024**2\n",
        "    if verbose: print('Mem. usage decreased to {:5.2f} Mb ({:.1f}% reduction)'.format(end_mem, 100 * (start_mem - end_mem) / start_mem))\n",
        "    return df"
      ],
      "execution_count": null,
      "outputs": []
    },
    {
      "cell_type": "markdown",
      "metadata": {
        "id": "Yra9d18YvstD"
      },
      "source": [
        "## Loading Files"
      ]
    },
    {
      "cell_type": "code",
      "metadata": {
        "id": "sV6Xbj7G12UU",
        "outputId": "3775fbbc-0036-4dcd-aa2d-96bc9b485108",
        "colab": {
          "base_uri": "https://localhost:8080/",
          "height": 34
        }
      },
      "source": [
        "historical_transactions = reduce_mem_usage(pd.read_csv('historical_transactions.csv'))"
      ],
      "execution_count": null,
      "outputs": [
        {
          "output_type": "stream",
          "text": [
            "Mem. usage decreased to 1749.11 Mb (43.7% reduction)\n"
          ],
          "name": "stdout"
        }
      ]
    },
    {
      "cell_type": "code",
      "metadata": {
        "id": "cVNdYBgCS5mh"
      },
      "source": [
        "new_merchant_transactions = reduce_mem_usage(pd.read_csv('new_merchant_transactions.csv'))"
      ],
      "execution_count": null,
      "outputs": []
    },
    {
      "cell_type": "code",
      "metadata": {
        "id": "oeoFKuo-hFqS",
        "outputId": "d6a89918-6a59-44a1-da43-81ab83cbd896",
        "colab": {
          "base_uri": "https://localhost:8080/",
          "height": 34
        }
      },
      "source": [
        "merchants = reduce_mem_usage(pd.read_csv('merchants.csv'))"
      ],
      "execution_count": null,
      "outputs": [
        {
          "output_type": "stream",
          "text": [
            "Mem. usage decreased to 30.32 Mb (46.0% reduction)\n"
          ],
          "name": "stdout"
        }
      ]
    },
    {
      "cell_type": "code",
      "metadata": {
        "id": "eoCw5Hft12UZ",
        "outputId": "9bdbb1e7-1feb-4ab4-9342-cbd9de9e3ef6",
        "colab": {
          "base_uri": "https://localhost:8080/",
          "height": 51
        }
      },
      "source": [
        "train = pd.read_csv('train.csv')\n",
        "test = pd.read_csv('test.csv')\n",
        "print(\"Rows and columns in train data: \", train.shape)\n",
        "print(\"Rows and columns in test data: \", test.shape)"
      ],
      "execution_count": null,
      "outputs": [
        {
          "output_type": "stream",
          "text": [
            "Rows and columns in train data:  (201917, 6)\n",
            "Rows and columns in test data:  (123623, 5)\n"
          ],
          "name": "stdout"
        }
      ]
    },
    {
      "cell_type": "markdown",
      "metadata": {
        "id": "k7V5xwqlQ-y1"
      },
      "source": [
        "## Data Dictionary files"
      ]
    },
    {
      "cell_type": "code",
      "metadata": {
        "id": "nk05BCKHQ-DE"
      },
      "source": [
        "data_dictionary_history = pd.read_excel('Data_Dictionary.xlsx', sheet_name='history')\n",
        "data_dictionary_train = pd.read_excel('Data_Dictionary.xlsx', sheet_name='train')\n",
        "data_dictionary_merchant = pd.read_excel('Data_Dictionary.xlsx', sheet_name='merchant')\n",
        "data_dictionary_new_merchant = pd.read_excel('Data_Dictionary.xlsx', sheet_name='new_merchant_period')\n"
      ],
      "execution_count": null,
      "outputs": []
    },
    {
      "cell_type": "markdown",
      "metadata": {
        "id": "Xbq9tn0HQlhx"
      },
      "source": [
        "## Train file"
      ]
    },
    {
      "cell_type": "code",
      "metadata": {
        "id": "vfPz54pcSG6D",
        "outputId": "ace50772-45b0-4289-c322-f5f3d8fdd0d7",
        "colab": {
          "base_uri": "https://localhost:8080/",
          "height": 235
        }
      },
      "source": [
        "data_dictionary_train[2:]"
      ],
      "execution_count": null,
      "outputs": [
        {
          "output_type": "execute_result",
          "data": {
            "text/html": [
              "<div>\n",
              "<style scoped>\n",
              "    .dataframe tbody tr th:only-of-type {\n",
              "        vertical-align: middle;\n",
              "    }\n",
              "\n",
              "    .dataframe tbody tr th {\n",
              "        vertical-align: top;\n",
              "    }\n",
              "\n",
              "    .dataframe thead th {\n",
              "        text-align: right;\n",
              "    }\n",
              "</style>\n",
              "<table border=\"1\" class=\"dataframe\">\n",
              "  <thead>\n",
              "    <tr style=\"text-align: right;\">\n",
              "      <th></th>\n",
              "      <th>train.csv</th>\n",
              "      <th>Unnamed: 1</th>\n",
              "    </tr>\n",
              "  </thead>\n",
              "  <tbody>\n",
              "    <tr>\n",
              "      <th>2</th>\n",
              "      <td>card_id</td>\n",
              "      <td>Unique card identifier</td>\n",
              "    </tr>\n",
              "    <tr>\n",
              "      <th>3</th>\n",
              "      <td>first_active_month</td>\n",
              "      <td>'YYYY-MM', month of first purchase</td>\n",
              "    </tr>\n",
              "    <tr>\n",
              "      <th>4</th>\n",
              "      <td>feature_1</td>\n",
              "      <td>Anonymized card categorical feature</td>\n",
              "    </tr>\n",
              "    <tr>\n",
              "      <th>5</th>\n",
              "      <td>feature_2</td>\n",
              "      <td>Anonymized card categorical feature</td>\n",
              "    </tr>\n",
              "    <tr>\n",
              "      <th>6</th>\n",
              "      <td>feature_3</td>\n",
              "      <td>Anonymized card categorical feature</td>\n",
              "    </tr>\n",
              "    <tr>\n",
              "      <th>7</th>\n",
              "      <td>target</td>\n",
              "      <td>Loyalty numerical score calculated 2 months af...</td>\n",
              "    </tr>\n",
              "  </tbody>\n",
              "</table>\n",
              "</div>"
            ],
            "text/plain": [
              "            train.csv                                         Unnamed: 1\n",
              "2             card_id                             Unique card identifier\n",
              "3  first_active_month                 'YYYY-MM', month of first purchase\n",
              "4           feature_1                Anonymized card categorical feature\n",
              "5           feature_2                Anonymized card categorical feature\n",
              "6           feature_3                Anonymized card categorical feature\n",
              "7              target  Loyalty numerical score calculated 2 months af..."
            ]
          },
          "metadata": {
            "tags": []
          },
          "execution_count": 10
        }
      ]
    },
    {
      "cell_type": "code",
      "metadata": {
        "id": "vJk3YfOe9tz6",
        "outputId": "8007f0eb-7a8e-421f-85d4-8ba1108660c7",
        "colab": {
          "base_uri": "https://localhost:8080/",
          "height": 204
        }
      },
      "source": [
        "train.head()"
      ],
      "execution_count": null,
      "outputs": [
        {
          "output_type": "execute_result",
          "data": {
            "text/html": [
              "<div>\n",
              "<style scoped>\n",
              "    .dataframe tbody tr th:only-of-type {\n",
              "        vertical-align: middle;\n",
              "    }\n",
              "\n",
              "    .dataframe tbody tr th {\n",
              "        vertical-align: top;\n",
              "    }\n",
              "\n",
              "    .dataframe thead th {\n",
              "        text-align: right;\n",
              "    }\n",
              "</style>\n",
              "<table border=\"1\" class=\"dataframe\">\n",
              "  <thead>\n",
              "    <tr style=\"text-align: right;\">\n",
              "      <th></th>\n",
              "      <th>first_active_month</th>\n",
              "      <th>card_id</th>\n",
              "      <th>feature_1</th>\n",
              "      <th>feature_2</th>\n",
              "      <th>feature_3</th>\n",
              "      <th>target</th>\n",
              "    </tr>\n",
              "  </thead>\n",
              "  <tbody>\n",
              "    <tr>\n",
              "      <th>0</th>\n",
              "      <td>2017-06</td>\n",
              "      <td>C_ID_92a2005557</td>\n",
              "      <td>5</td>\n",
              "      <td>2</td>\n",
              "      <td>1</td>\n",
              "      <td>-0.820283</td>\n",
              "    </tr>\n",
              "    <tr>\n",
              "      <th>1</th>\n",
              "      <td>2017-01</td>\n",
              "      <td>C_ID_3d0044924f</td>\n",
              "      <td>4</td>\n",
              "      <td>1</td>\n",
              "      <td>0</td>\n",
              "      <td>0.392913</td>\n",
              "    </tr>\n",
              "    <tr>\n",
              "      <th>2</th>\n",
              "      <td>2016-08</td>\n",
              "      <td>C_ID_d639edf6cd</td>\n",
              "      <td>2</td>\n",
              "      <td>2</td>\n",
              "      <td>0</td>\n",
              "      <td>0.688056</td>\n",
              "    </tr>\n",
              "    <tr>\n",
              "      <th>3</th>\n",
              "      <td>2017-09</td>\n",
              "      <td>C_ID_186d6a6901</td>\n",
              "      <td>4</td>\n",
              "      <td>3</td>\n",
              "      <td>0</td>\n",
              "      <td>0.142495</td>\n",
              "    </tr>\n",
              "    <tr>\n",
              "      <th>4</th>\n",
              "      <td>2017-11</td>\n",
              "      <td>C_ID_cdbd2c0db2</td>\n",
              "      <td>1</td>\n",
              "      <td>3</td>\n",
              "      <td>0</td>\n",
              "      <td>-0.159749</td>\n",
              "    </tr>\n",
              "  </tbody>\n",
              "</table>\n",
              "</div>"
            ],
            "text/plain": [
              "  first_active_month          card_id  ...  feature_3    target\n",
              "0            2017-06  C_ID_92a2005557  ...          1 -0.820283\n",
              "1            2017-01  C_ID_3d0044924f  ...          0  0.392913\n",
              "2            2016-08  C_ID_d639edf6cd  ...          0  0.688056\n",
              "3            2017-09  C_ID_186d6a6901  ...          0  0.142495\n",
              "4            2017-11  C_ID_cdbd2c0db2  ...          0 -0.159749\n",
              "\n",
              "[5 rows x 6 columns]"
            ]
          },
          "metadata": {
            "tags": []
          },
          "execution_count": 11
        }
      ]
    },
    {
      "cell_type": "code",
      "metadata": {
        "id": "gjrm0n8491LD",
        "outputId": "356434e4-30bd-497f-f93c-29ac6c4ec3f6",
        "colab": {
          "base_uri": "https://localhost:8080/",
          "height": 295
        }
      },
      "source": [
        "sns.distplot(train['target'])\n",
        "plt.title('Target variable distribution')\n",
        "plt.show()"
      ],
      "execution_count": null,
      "outputs": [
        {
          "output_type": "display_data",
          "data": {
            "image/png": "[encoded data removed]",
            "text/plain": [
              "<Figure size 432x288 with 1 Axes>"
            ]
          },
          "metadata": {
            "tags": [],
            "needs_background": "light"
          }
        }
      ]
    },
    {
      "cell_type": "markdown",
      "metadata": {
        "id": "8t4CBEubD31C"
      },
      "source": [
        "As we can see there are some points that are far away from all the points which have loyalty scores below -30. Lets analyze these points further"
      ]
    },
    {
      "cell_type": "code",
      "metadata": {
        "id": "qEtO122k-_VZ"
      },
      "source": [
        "train_outliers = train[train['target'] < -30]"
      ],
      "execution_count": null,
      "outputs": []
    },
    {
      "cell_type": "code",
      "metadata": {
        "id": "fRXjbhs9-PAw",
        "outputId": "d601b141-4393-46e4-fe1d-f90ec40ec796",
        "colab": {
          "base_uri": "https://localhost:8080/",
          "height": 34
        }
      },
      "source": [
        "perct = train_outliers.shape[0]/train.shape[0]\n",
        "print(\"{:3.2f}% of values are these odd points in our train data\".format(perct*100))"
      ],
      "execution_count": null,
      "outputs": [
        {
          "output_type": "stream",
          "text": [
            "1.09% of values are these odd points in our train data\n"
          ],
          "name": "stdout"
        }
      ]
    },
    {
      "cell_type": "markdown",
      "metadata": {
        "id": "d17-F6d0FfSd"
      },
      "source": [
        "Since these odd points constitute to 1% of our data. These are not exactly outliers. These are rare data points."
      ]
    },
    {
      "cell_type": "markdown",
      "metadata": {
        "id": "fKgYu34OfzSY"
      },
      "source": [
        "### Categorical Features"
      ]
    },
    {
      "cell_type": "code",
      "metadata": {
        "id": "rFZ1goeMLkaH",
        "outputId": "d16c6bfe-8151-4c87-8ed3-c9597ccb7e2c",
        "colab": {
          "base_uri": "https://localhost:8080/",
          "height": 663
        }
      },
      "source": [
        "fig, ax = plt.subplots(1,3, figsize = (15, 10))\n",
        "train['feature_1'].value_counts().sort_index().plot(kind='barh', title='Feature 1', ax = ax[0])\n",
        "train['feature_2'].value_counts().sort_index().plot(kind='barh', title='Feature 2', ax = ax[1])\n",
        "train['feature_3'].value_counts().sort_index().plot(kind='barh', title='Feature 3', ax = ax[2])\n",
        "plt.suptitle('Non rare data points')\n",
        "plt.show()"
      ],
      "execution_count": null,
      "outputs": [
        {
          "output_type": "display_data",
          "data": {
            "image/png": "[encoded data removed]",
            "text/plain": [
              "<Figure size 1080x720 with 3 Axes>"
            ]
          },
          "metadata": {
            "tags": [],
            "needs_background": "light"
          }
        }
      ]
    },
    {
      "cell_type": "code",
      "metadata": {
        "id": "oUNtIhx3KdtL",
        "outputId": "7144340a-3e67-4d6f-a22e-e122fee6d43f",
        "colab": {
          "base_uri": "https://localhost:8080/",
          "height": 663
        }
      },
      "source": [
        "fig, ax = plt.subplots(1,3, figsize = (15, 10))\n",
        "train_outliers['feature_1'].value_counts().sort_index().plot(kind='barh', title='Feature 1', ax = ax[0])\n",
        "train_outliers['feature_2'].value_counts().sort_index().plot(kind='barh', title='Feature 2', ax = ax[1])\n",
        "train_outliers['feature_3'].value_counts().sort_index().plot(kind='barh', title='Feature 3', ax = ax[2])\n",
        "plt.suptitle('Rare data points')\n",
        "plt.show()"
      ],
      "execution_count": null,
      "outputs": [
        {
          "output_type": "display_data",
          "data": {
            "image/png": "[encoded data removed]",
            "text/plain": [
              "<Figure size 1080x720 with 3 Axes>"
            ]
          },
          "metadata": {
            "tags": [],
            "needs_background": "light"
          }
        }
      ]
    },
    {
      "cell_type": "markdown",
      "metadata": {
        "id": "NDM6ylT7Ls_d"
      },
      "source": [
        "There is not much difference between the features 1,2 and 3 for rare and non rare data points. Extracting features from historical transactions and merchant transactions might be helpful to better predict these rare loyalty scores of <-30."
      ]
    },
    {
      "cell_type": "markdown",
      "metadata": {
        "id": "B-D3WuabfrGn"
      },
      "source": [
        "### First Active month"
      ]
    },
    {
      "cell_type": "code",
      "metadata": {
        "id": "hDPNQywRQHGa",
        "outputId": "b736a8eb-edee-45a2-cb2a-8ee5d12099c9",
        "colab": {
          "base_uri": "https://localhost:8080/",
          "height": 221
        }
      },
      "source": [
        "train['first_active_month'].value_counts()"
      ],
      "execution_count": null,
      "outputs": [
        {
          "output_type": "execute_result",
          "data": {
            "text/plain": [
              "2017-09    13878\n",
              "2017-10    13695\n",
              "2017-08    13638\n",
              "2017-11    12930\n",
              "2017-07    12363\n",
              "           ...  \n",
              "2012-03       10\n",
              "2011-11        8\n",
              "2012-02        7\n",
              "2011-12        2\n",
              "2018-02        1\n",
              "Name: first_active_month, Length: 75, dtype: int64"
            ]
          },
          "metadata": {
            "tags": []
          },
          "execution_count": 17
        }
      ]
    },
    {
      "cell_type": "markdown",
      "metadata": {
        "id": "tT0OSFNWjN-3"
      },
      "source": [
        "Converting these date values to months difference from today"
      ]
    },
    {
      "cell_type": "code",
      "metadata": {
        "id": "QMnW_x_QhphI"
      },
      "source": [
        "train['first_active_month'] = pd.to_datetime(train['first_active_month'], format='%Y-%M')\n",
        "today = pd.to_datetime('today')"
      ],
      "execution_count": null,
      "outputs": []
    },
    {
      "cell_type": "code",
      "metadata": {
        "id": "ZquKlmySX7aa",
        "outputId": "42dee41c-53fc-47d2-e886-fdf5903680a4",
        "colab": {
          "base_uri": "https://localhost:8080/",
          "height": 170
        }
      },
      "source": [
        "train['first_active_month_diff_from_today'] = (12 * (today.year - train['first_active_month'].dt.year) + (today.month - train['first_active_month'].dt.month)) \n",
        "train['first_active_month_diff_from_today'].value_counts()"
      ],
      "execution_count": null,
      "outputs": [
        {
          "output_type": "execute_result",
          "data": {
            "text/plain": [
              "44     130519\n",
              "56      51277\n",
              "68      14142\n",
              "80       4523\n",
              "92       1129\n",
              "104       282\n",
              "32         35\n",
              "116        10\n",
              "Name: first_active_month_diff_from_today, dtype: int64"
            ]
          },
          "metadata": {
            "tags": []
          },
          "execution_count": 19
        }
      ]
    },
    {
      "cell_type": "code",
      "metadata": {
        "id": "L5GdB6-Kep6W",
        "outputId": "6e9563db-a615-48e8-8dd4-05551934d6c5",
        "colab": {
          "base_uri": "https://localhost:8080/",
          "height": 296
        }
      },
      "source": [
        "sns.scatterplot(x=train['first_active_month_diff_from_today'], y=train['target'], color='purple')\n",
        "plt.title('Scatterplot of account activation date difference from today against the target variable(Loaylty score)')\n",
        "plt.show()"
      ],
      "execution_count": null,
      "outputs": [
        {
          "output_type": "display_data",
          "data": {
            "image/png": "[encoded data removed]",
            "text/plain": [
              "<Figure size 432x288 with 1 Axes>"
            ]
          },
          "metadata": {
            "tags": [],
            "needs_background": "light"
          }
        }
      ]
    },
    {
      "cell_type": "markdown",
      "metadata": {
        "id": "AhgcvgLwkHOU"
      },
      "source": [
        "- We can observe a trend here that the most recent have higher loyalty scores. \n",
        "- However, this also shows that there are more number of recent users as compared to long time users.\n",
        "- One more observation that we can see here is the number of users that have a loyalty score of <=-30 are at the very bottom of the plot for each of the bin/value ranges of the active month difference from today. This shows that this feature might not be useful enough to separate our rare data points from the actual data.\n",
        "- This feature would definitely help in predicting the loyalty scores."
      ]
    },
    {
      "cell_type": "markdown",
      "metadata": {
        "id": "DzXY3v5gQtVu"
      },
      "source": [
        "## Historical Transactions file"
      ]
    },
    {
      "cell_type": "code",
      "metadata": {
        "id": "3LbvkxCuRIT8",
        "outputId": "8196e187-1adf-47a0-d3da-928a3dd44fc0",
        "colab": {
          "base_uri": "https://localhost:8080/",
          "height": 483
        }
      },
      "source": [
        "data_dictionary_history[2:]"
      ],
      "execution_count": null,
      "outputs": [
        {
          "output_type": "execute_result",
          "data": {
            "text/html": [
              "<div>\n",
              "<style scoped>\n",
              "    .dataframe tbody tr th:only-of-type {\n",
              "        vertical-align: middle;\n",
              "    }\n",
              "\n",
              "    .dataframe tbody tr th {\n",
              "        vertical-align: top;\n",
              "    }\n",
              "\n",
              "    .dataframe thead th {\n",
              "        text-align: right;\n",
              "    }\n",
              "</style>\n",
              "<table border=\"1\" class=\"dataframe\">\n",
              "  <thead>\n",
              "    <tr style=\"text-align: right;\">\n",
              "      <th></th>\n",
              "      <th>historical_transactions.csv</th>\n",
              "      <th>Unnamed: 1</th>\n",
              "    </tr>\n",
              "  </thead>\n",
              "  <tbody>\n",
              "    <tr>\n",
              "      <th>2</th>\n",
              "      <td>card_id</td>\n",
              "      <td>Card identifier</td>\n",
              "    </tr>\n",
              "    <tr>\n",
              "      <th>3</th>\n",
              "      <td>month_lag</td>\n",
              "      <td>month lag to reference date</td>\n",
              "    </tr>\n",
              "    <tr>\n",
              "      <th>4</th>\n",
              "      <td>purchase_date</td>\n",
              "      <td>Purchase date</td>\n",
              "    </tr>\n",
              "    <tr>\n",
              "      <th>5</th>\n",
              "      <td>authorized_flag</td>\n",
              "      <td>Y' if approved, 'N' if denied</td>\n",
              "    </tr>\n",
              "    <tr>\n",
              "      <th>6</th>\n",
              "      <td>category_3</td>\n",
              "      <td>anonymized category</td>\n",
              "    </tr>\n",
              "    <tr>\n",
              "      <th>7</th>\n",
              "      <td>installments</td>\n",
              "      <td>number of installments of purchase</td>\n",
              "    </tr>\n",
              "    <tr>\n",
              "      <th>8</th>\n",
              "      <td>category_1</td>\n",
              "      <td>anonymized category</td>\n",
              "    </tr>\n",
              "    <tr>\n",
              "      <th>9</th>\n",
              "      <td>merchant_category_id</td>\n",
              "      <td>Merchant category identifier (anonymized )</td>\n",
              "    </tr>\n",
              "    <tr>\n",
              "      <th>10</th>\n",
              "      <td>subsector_id</td>\n",
              "      <td>Merchant category group identifier (anonymized )</td>\n",
              "    </tr>\n",
              "    <tr>\n",
              "      <th>11</th>\n",
              "      <td>merchant_id</td>\n",
              "      <td>Merchant identifier (anonymized)</td>\n",
              "    </tr>\n",
              "    <tr>\n",
              "      <th>12</th>\n",
              "      <td>purchase_amount</td>\n",
              "      <td>Normalized purchase amount</td>\n",
              "    </tr>\n",
              "    <tr>\n",
              "      <th>13</th>\n",
              "      <td>city_id</td>\n",
              "      <td>City identifier (anonymized )</td>\n",
              "    </tr>\n",
              "    <tr>\n",
              "      <th>14</th>\n",
              "      <td>state_id</td>\n",
              "      <td>State identifier (anonymized )</td>\n",
              "    </tr>\n",
              "    <tr>\n",
              "      <th>15</th>\n",
              "      <td>category_2</td>\n",
              "      <td>anonymized category</td>\n",
              "    </tr>\n",
              "  </tbody>\n",
              "</table>\n",
              "</div>"
            ],
            "text/plain": [
              "   historical_transactions.csv                                        Unnamed: 1\n",
              "2                      card_id                                   Card identifier\n",
              "3                    month_lag                       month lag to reference date\n",
              "4                purchase_date                                     Purchase date\n",
              "5              authorized_flag                     Y' if approved, 'N' if denied\n",
              "6                   category_3                               anonymized category\n",
              "7                 installments                number of installments of purchase\n",
              "8                   category_1                               anonymized category\n",
              "9         merchant_category_id        Merchant category identifier (anonymized )\n",
              "10                subsector_id  Merchant category group identifier (anonymized )\n",
              "11                 merchant_id                  Merchant identifier (anonymized)\n",
              "12             purchase_amount                        Normalized purchase amount\n",
              "13                     city_id                     City identifier (anonymized )\n",
              "14                    state_id                    State identifier (anonymized )\n",
              "15                  category_2                               anonymized category"
            ]
          },
          "metadata": {
            "tags": []
          },
          "execution_count": 21
        }
      ]
    },
    {
      "cell_type": "code",
      "metadata": {
        "id": "FGhlCHvXQyDu",
        "outputId": "075fdfdc-37fe-452a-b709-b4044a97faae",
        "colab": {
          "base_uri": "https://localhost:8080/",
          "height": 309
        }
      },
      "source": [
        "historical_transactions.head()"
      ],
      "execution_count": null,
      "outputs": [
        {
          "output_type": "execute_result",
          "data": {
            "text/html": [
              "<div>\n",
              "<style scoped>\n",
              "    .dataframe tbody tr th:only-of-type {\n",
              "        vertical-align: middle;\n",
              "    }\n",
              "\n",
              "    .dataframe tbody tr th {\n",
              "        vertical-align: top;\n",
              "    }\n",
              "\n",
              "    .dataframe thead th {\n",
              "        text-align: right;\n",
              "    }\n",
              "</style>\n",
              "<table border=\"1\" class=\"dataframe\">\n",
              "  <thead>\n",
              "    <tr style=\"text-align: right;\">\n",
              "      <th></th>\n",
              "      <th>authorized_flag</th>\n",
              "      <th>card_id</th>\n",
              "      <th>city_id</th>\n",
              "      <th>category_1</th>\n",
              "      <th>installments</th>\n",
              "      <th>category_3</th>\n",
              "      <th>merchant_category_id</th>\n",
              "      <th>merchant_id</th>\n",
              "      <th>month_lag</th>\n",
              "      <th>purchase_amount</th>\n",
              "      <th>purchase_date</th>\n",
              "      <th>category_2</th>\n",
              "      <th>state_id</th>\n",
              "      <th>subsector_id</th>\n",
              "    </tr>\n",
              "  </thead>\n",
              "  <tbody>\n",
              "    <tr>\n",
              "      <th>0</th>\n",
              "      <td>Y</td>\n",
              "      <td>C_ID_4e6213e9bc</td>\n",
              "      <td>88</td>\n",
              "      <td>N</td>\n",
              "      <td>0</td>\n",
              "      <td>A</td>\n",
              "      <td>80</td>\n",
              "      <td>M_ID_e020e9b302</td>\n",
              "      <td>-8</td>\n",
              "      <td>-0.703331</td>\n",
              "      <td>2017-06-25 15:33:07</td>\n",
              "      <td>1.0</td>\n",
              "      <td>16</td>\n",
              "      <td>37</td>\n",
              "    </tr>\n",
              "    <tr>\n",
              "      <th>1</th>\n",
              "      <td>Y</td>\n",
              "      <td>C_ID_4e6213e9bc</td>\n",
              "      <td>88</td>\n",
              "      <td>N</td>\n",
              "      <td>0</td>\n",
              "      <td>A</td>\n",
              "      <td>367</td>\n",
              "      <td>M_ID_86ec983688</td>\n",
              "      <td>-7</td>\n",
              "      <td>-0.733128</td>\n",
              "      <td>2017-07-15 12:10:45</td>\n",
              "      <td>1.0</td>\n",
              "      <td>16</td>\n",
              "      <td>16</td>\n",
              "    </tr>\n",
              "    <tr>\n",
              "      <th>2</th>\n",
              "      <td>Y</td>\n",
              "      <td>C_ID_4e6213e9bc</td>\n",
              "      <td>88</td>\n",
              "      <td>N</td>\n",
              "      <td>0</td>\n",
              "      <td>A</td>\n",
              "      <td>80</td>\n",
              "      <td>M_ID_979ed661fc</td>\n",
              "      <td>-6</td>\n",
              "      <td>-0.720386</td>\n",
              "      <td>2017-08-09 22:04:29</td>\n",
              "      <td>1.0</td>\n",
              "      <td>16</td>\n",
              "      <td>37</td>\n",
              "    </tr>\n",
              "    <tr>\n",
              "      <th>3</th>\n",
              "      <td>Y</td>\n",
              "      <td>C_ID_4e6213e9bc</td>\n",
              "      <td>88</td>\n",
              "      <td>N</td>\n",
              "      <td>0</td>\n",
              "      <td>A</td>\n",
              "      <td>560</td>\n",
              "      <td>M_ID_e6d5ae8ea6</td>\n",
              "      <td>-5</td>\n",
              "      <td>-0.735352</td>\n",
              "      <td>2017-09-02 10:06:26</td>\n",
              "      <td>1.0</td>\n",
              "      <td>16</td>\n",
              "      <td>34</td>\n",
              "    </tr>\n",
              "    <tr>\n",
              "      <th>4</th>\n",
              "      <td>Y</td>\n",
              "      <td>C_ID_4e6213e9bc</td>\n",
              "      <td>88</td>\n",
              "      <td>N</td>\n",
              "      <td>0</td>\n",
              "      <td>A</td>\n",
              "      <td>80</td>\n",
              "      <td>M_ID_e020e9b302</td>\n",
              "      <td>-11</td>\n",
              "      <td>-0.722865</td>\n",
              "      <td>2017-03-10 01:14:19</td>\n",
              "      <td>1.0</td>\n",
              "      <td>16</td>\n",
              "      <td>37</td>\n",
              "    </tr>\n",
              "  </tbody>\n",
              "</table>\n",
              "</div>"
            ],
            "text/plain": [
              "  authorized_flag          card_id  city_id  ... category_2  state_id subsector_id\n",
              "0               Y  C_ID_4e6213e9bc       88  ...        1.0        16           37\n",
              "1               Y  C_ID_4e6213e9bc       88  ...        1.0        16           16\n",
              "2               Y  C_ID_4e6213e9bc       88  ...        1.0        16           37\n",
              "3               Y  C_ID_4e6213e9bc       88  ...        1.0        16           34\n",
              "4               Y  C_ID_4e6213e9bc       88  ...        1.0        16           37\n",
              "\n",
              "[5 rows x 14 columns]"
            ]
          },
          "metadata": {
            "tags": []
          },
          "execution_count": 22
        }
      ]
    },
    {
      "cell_type": "code",
      "metadata": {
        "id": "kEPsGPON58i9",
        "outputId": "ecf9acfd-ca30-4eef-9a6e-6a3789f60b25",
        "colab": {
          "base_uri": "https://localhost:8080/",
          "height": 311
        }
      },
      "source": [
        "auth = historical_transactions['authorized_flag'].value_counts()\n",
        "print(\"{:3.3f} of all transactions are authorized\".format(auth['Y']*100.0/(auth['Y'] + auth['N'])))\n",
        "historical_transactions['authorized_flag'].value_counts().sort_index().plot(kind='barh', title = 'Authorized transactions value counts')\n",
        "plt.show()"
      ],
      "execution_count": null,
      "outputs": [
        {
          "output_type": "stream",
          "text": [
            "91.355 of all transactions are authorized\n"
          ],
          "name": "stdout"
        },
        {
          "output_type": "display_data",
          "data": {
            "image/png": "[encoded data removed]",
            "text/plain": [
              "<Figure size 432x288 with 1 Axes>"
            ]
          },
          "metadata": {
            "tags": [],
            "needs_background": "light"
          }
        }
      ]
    },
    {
      "cell_type": "markdown",
      "metadata": {
        "id": "MvNH-1RSKkw-"
      },
      "source": [
        "### Installments"
      ]
    },
    {
      "cell_type": "code",
      "metadata": {
        "id": "s74pz5Mz6VeB",
        "outputId": "0d93b350-7a67-4dcc-a555-bbcfb4894509",
        "colab": {
          "base_uri": "https://localhost:8080/",
          "height": 289
        }
      },
      "source": [
        "historical_transactions['installments'].value_counts()"
      ],
      "execution_count": null,
      "outputs": [
        {
          "output_type": "execute_result",
          "data": {
            "text/plain": [
              " 0      15411747\n",
              " 1      11677522\n",
              " 2        666416\n",
              " 3        538207\n",
              " 4        179525\n",
              "-1        178159\n",
              " 6        132634\n",
              " 10       118827\n",
              " 5        116090\n",
              " 12        55064\n",
              " 8         20474\n",
              " 7         10906\n",
              " 9          5772\n",
              " 11          830\n",
              " 999         188\n",
              "Name: installments, dtype: int64"
            ]
          },
          "metadata": {
            "tags": []
          },
          "execution_count": 24
        }
      ]
    },
    {
      "cell_type": "markdown",
      "metadata": {
        "id": "up5ULK_a8Pzo"
      },
      "source": [
        "Values of -1 and 999 seem odd for the installments."
      ]
    },
    {
      "cell_type": "code",
      "metadata": {
        "id": "S8YJ3dr28hGX",
        "outputId": "ed19ddf7-6b9e-4df5-a7b2-98e0aea5acaf",
        "colab": {
          "base_uri": "https://localhost:8080/",
          "height": 290
        }
      },
      "source": [
        "historical_transactions['installments'].value_counts().sort_index().plot(kind='bar', title= 'Installments', color = 'red')\n",
        "plt.show()"
      ],
      "execution_count": null,
      "outputs": [
        {
          "output_type": "display_data",
          "data": {
            "image/png": "[encoded data removed]",
            "text/plain": [
              "<Figure size 432x288 with 1 Axes>"
            ]
          },
          "metadata": {
            "tags": [],
            "needs_background": "light"
          }
        }
      ]
    },
    {
      "cell_type": "markdown",
      "metadata": {
        "id": "-TU8N-MaKf9s"
      },
      "source": [
        "### Purchase Amounts"
      ]
    },
    {
      "cell_type": "code",
      "metadata": {
        "id": "W9pbpo6d87Ln",
        "outputId": "51e92053-775c-4e98-c7e5-d4e65b0340de",
        "colab": {
          "base_uri": "https://localhost:8080/",
          "height": 294
        }
      },
      "source": [
        "plt.hist(historical_transactions['purchase_amount'], color='orange')\n",
        "plt.title('Purchase amount Histogram')\n",
        "plt.show()"
      ],
      "execution_count": null,
      "outputs": [
        {
          "output_type": "display_data",
          "data": {
            "image/png": "[encoded data removed]",
            "text/plain": [
              "<Figure size 432x288 with 1 Axes>"
            ]
          },
          "metadata": {
            "tags": [],
            "needs_background": "light"
          }
        }
      ]
    },
    {
      "cell_type": "code",
      "metadata": {
        "id": "iEhM5ygc9E1-",
        "outputId": "3076dc09-e725-4b71-bf1a-a563e900a2fa",
        "colab": {
          "base_uri": "https://localhost:8080/",
          "height": 204
        }
      },
      "source": [
        "for i in range(90, 101):\n",
        "  print(\"{} percentile value is {:3.3f}\".format(i, np.percentile(historical_transactions['purchase_amount'], i)))"
      ],
      "execution_count": null,
      "outputs": [
        {
          "output_type": "stream",
          "text": [
            "90 percentile value is -0.428\n",
            "91 percentile value is -0.396\n",
            "92 percentile value is -0.359\n",
            "93 percentile value is -0.311\n",
            "94 percentile value is -0.252\n",
            "95 percentile value is -0.169\n",
            "96 percentile value is -0.053\n",
            "97 percentile value is 0.130\n",
            "98 percentile value is 0.455\n",
            "99 percentile value is 1.221\n",
            "100 percentile value is 6010604.000\n"
          ],
          "name": "stdout"
        }
      ]
    },
    {
      "cell_type": "markdown",
      "metadata": {
        "id": "7SaQ5bL498Ql"
      },
      "source": [
        "The 100th percentile value is definitely an outlier. We would have to remove that later."
      ]
    },
    {
      "cell_type": "code",
      "metadata": {
        "id": "G_z8_RrBoHqj",
        "outputId": "2ee5504f-8c2f-4511-babc-231a7fff589f",
        "colab": {
          "base_uri": "https://localhost:8080/",
          "height": 68
        }
      },
      "source": [
        "historical_transactions['category_1'].value_counts()"
      ],
      "execution_count": null,
      "outputs": [
        {
          "output_type": "execute_result",
          "data": {
            "text/plain": [
              "N    27028332\n",
              "Y     2084029\n",
              "Name: category_1, dtype: int64"
            ]
          },
          "metadata": {
            "tags": []
          },
          "execution_count": 28
        }
      ]
    },
    {
      "cell_type": "code",
      "metadata": {
        "id": "v1EUnV23pd6E",
        "outputId": "3dc45016-cdea-4407-ba34-3cc50814de73",
        "colab": {
          "base_uri": "https://localhost:8080/",
          "height": 119
        }
      },
      "source": [
        "historical_transactions['category_2'].value_counts()"
      ],
      "execution_count": null,
      "outputs": [
        {
          "output_type": "execute_result",
          "data": {
            "text/plain": [
              "1.0    15177199\n",
              "3.0     3911795\n",
              "5.0     3725915\n",
              "4.0     2618053\n",
              "2.0     1026535\n",
              "Name: category_2, dtype: int64"
            ]
          },
          "metadata": {
            "tags": []
          },
          "execution_count": 29
        }
      ]
    },
    {
      "cell_type": "code",
      "metadata": {
        "id": "OgFUQUQipmuN",
        "outputId": "731e7ec8-3115-486f-c325-4ea52870508a",
        "colab": {
          "base_uri": "https://localhost:8080/",
          "height": 85
        }
      },
      "source": [
        "historical_transactions['category_3'].value_counts()"
      ],
      "execution_count": null,
      "outputs": [
        {
          "output_type": "execute_result",
          "data": {
            "text/plain": [
              "A    15411747\n",
              "B    11677522\n",
              "C     1844933\n",
              "Name: category_3, dtype: int64"
            ]
          },
          "metadata": {
            "tags": []
          },
          "execution_count": 30
        }
      ]
    },
    {
      "cell_type": "markdown",
      "metadata": {
        "id": "ZcpyE3qOlWnh"
      },
      "source": [
        "## New merchant transactions"
      ]
    },
    {
      "cell_type": "code",
      "metadata": {
        "id": "HsZIvIZ2TcAE",
        "outputId": "95bd30e6-e996-4570-8e4f-ee83608d6440",
        "colab": {
          "base_uri": "https://localhost:8080/",
          "height": 483
        }
      },
      "source": [
        "data_dictionary_new_merchant[2:]"
      ],
      "execution_count": null,
      "outputs": [
        {
          "output_type": "execute_result",
          "data": {
            "text/html": [
              "<div>\n",
              "<style scoped>\n",
              "    .dataframe tbody tr th:only-of-type {\n",
              "        vertical-align: middle;\n",
              "    }\n",
              "\n",
              "    .dataframe tbody tr th {\n",
              "        vertical-align: top;\n",
              "    }\n",
              "\n",
              "    .dataframe thead th {\n",
              "        text-align: right;\n",
              "    }\n",
              "</style>\n",
              "<table border=\"1\" class=\"dataframe\">\n",
              "  <thead>\n",
              "    <tr style=\"text-align: right;\">\n",
              "      <th></th>\n",
              "      <th>new_merchant_period.csv</th>\n",
              "      <th>Unnamed: 1</th>\n",
              "    </tr>\n",
              "  </thead>\n",
              "  <tbody>\n",
              "    <tr>\n",
              "      <th>2</th>\n",
              "      <td>card_id</td>\n",
              "      <td>Card identifier</td>\n",
              "    </tr>\n",
              "    <tr>\n",
              "      <th>3</th>\n",
              "      <td>month_lag</td>\n",
              "      <td>month lag to reference date</td>\n",
              "    </tr>\n",
              "    <tr>\n",
              "      <th>4</th>\n",
              "      <td>purchase_date</td>\n",
              "      <td>Purchase date</td>\n",
              "    </tr>\n",
              "    <tr>\n",
              "      <th>5</th>\n",
              "      <td>authorized_flag</td>\n",
              "      <td>Y' if approved, 'N' if denied</td>\n",
              "    </tr>\n",
              "    <tr>\n",
              "      <th>6</th>\n",
              "      <td>category_3</td>\n",
              "      <td>anonymized category</td>\n",
              "    </tr>\n",
              "    <tr>\n",
              "      <th>7</th>\n",
              "      <td>installments</td>\n",
              "      <td>number of installments of purchase</td>\n",
              "    </tr>\n",
              "    <tr>\n",
              "      <th>8</th>\n",
              "      <td>category_1</td>\n",
              "      <td>anonymized category</td>\n",
              "    </tr>\n",
              "    <tr>\n",
              "      <th>9</th>\n",
              "      <td>merchant_category_id</td>\n",
              "      <td>Merchant category identifier (anonymized )</td>\n",
              "    </tr>\n",
              "    <tr>\n",
              "      <th>10</th>\n",
              "      <td>subsector_id</td>\n",
              "      <td>Merchant category group identifier (anonymized )</td>\n",
              "    </tr>\n",
              "    <tr>\n",
              "      <th>11</th>\n",
              "      <td>merchant_id</td>\n",
              "      <td>Merchant identifier (anonymized)</td>\n",
              "    </tr>\n",
              "    <tr>\n",
              "      <th>12</th>\n",
              "      <td>purchase_amount</td>\n",
              "      <td>Normalized purchase amount</td>\n",
              "    </tr>\n",
              "    <tr>\n",
              "      <th>13</th>\n",
              "      <td>city_id</td>\n",
              "      <td>City identifier (anonymized )</td>\n",
              "    </tr>\n",
              "    <tr>\n",
              "      <th>14</th>\n",
              "      <td>state_id</td>\n",
              "      <td>State identifier (anonymized )</td>\n",
              "    </tr>\n",
              "    <tr>\n",
              "      <th>15</th>\n",
              "      <td>category_2</td>\n",
              "      <td>anonymized category</td>\n",
              "    </tr>\n",
              "  </tbody>\n",
              "</table>\n",
              "</div>"
            ],
            "text/plain": [
              "   new_merchant_period.csv                                        Unnamed: 1\n",
              "2                  card_id                                   Card identifier\n",
              "3                month_lag                       month lag to reference date\n",
              "4            purchase_date                                     Purchase date\n",
              "5          authorized_flag                     Y' if approved, 'N' if denied\n",
              "6               category_3                               anonymized category\n",
              "7             installments                number of installments of purchase\n",
              "8               category_1                               anonymized category\n",
              "9     merchant_category_id        Merchant category identifier (anonymized )\n",
              "10            subsector_id  Merchant category group identifier (anonymized )\n",
              "11             merchant_id                  Merchant identifier (anonymized)\n",
              "12         purchase_amount                        Normalized purchase amount\n",
              "13                 city_id                     City identifier (anonymized )\n",
              "14                state_id                    State identifier (anonymized )\n",
              "15              category_2                               anonymized category"
            ]
          },
          "metadata": {
            "tags": []
          },
          "execution_count": 31
        }
      ]
    },
    {
      "cell_type": "code",
      "metadata": {
        "id": "GNWnSHD_laOt",
        "outputId": "e8a170ef-69bc-40a8-a5ed-c846a6b6e6c4",
        "colab": {
          "base_uri": "https://localhost:8080/",
          "height": 51
        }
      },
      "source": [
        "new_merchant_transactions['authorized_flag'].value_counts()"
      ],
      "execution_count": null,
      "outputs": [
        {
          "output_type": "execute_result",
          "data": {
            "text/plain": [
              "Y    1963031\n",
              "Name: authorized_flag, dtype: int64"
            ]
          },
          "metadata": {
            "tags": []
          },
          "execution_count": 32
        }
      ]
    },
    {
      "cell_type": "markdown",
      "metadata": {
        "id": "pfVFATWdJHIT"
      },
      "source": [
        "There are no unauthorized transactions in this one."
      ]
    },
    {
      "cell_type": "code",
      "metadata": {
        "id": "0dOx-IoDI7hR",
        "outputId": "805d2f8f-b57c-4fb3-ca98-cc7e7c719557",
        "colab": {
          "base_uri": "https://localhost:8080/",
          "height": 289
        }
      },
      "source": [
        "new_merchant_transactions['installments'].value_counts()"
      ],
      "execution_count": null,
      "outputs": [
        {
          "output_type": "execute_result",
          "data": {
            "text/plain": [
              " 0      922244\n",
              " 1      836178\n",
              "-1       55922\n",
              " 2       54729\n",
              " 3       44750\n",
              " 4       14815\n",
              " 6       10389\n",
              " 5        9296\n",
              " 10       8899\n",
              " 12       2850\n",
              " 8        1555\n",
              " 7         863\n",
              " 9         478\n",
              " 11         61\n",
              " 999         2\n",
              "Name: installments, dtype: int64"
            ]
          },
          "metadata": {
            "tags": []
          },
          "execution_count": 33
        }
      ]
    },
    {
      "cell_type": "markdown",
      "metadata": {
        "id": "iEAvMQFJJgFp"
      },
      "source": [
        "We can see the same two strange values of -1 and 999 for installments here as well."
      ]
    },
    {
      "cell_type": "markdown",
      "metadata": {
        "id": "EfcVcyUSKoT1"
      },
      "source": [
        "### Installments"
      ]
    },
    {
      "cell_type": "code",
      "metadata": {
        "id": "77i_4M-bJeZ5",
        "outputId": "ccd0139a-7270-4629-f671-53dbc6138110",
        "colab": {
          "base_uri": "https://localhost:8080/",
          "height": 290
        }
      },
      "source": [
        "new_merchant_transactions['installments'].value_counts().sort_index().plot(kind='bar', title= 'Installments', color = 'red')\n",
        "plt.show()"
      ],
      "execution_count": null,
      "outputs": [
        {
          "output_type": "display_data",
          "data": {
            "image/png": "[encoded data removed]",
            "text/plain": [
              "<Figure size 432x288 with 1 Axes>"
            ]
          },
          "metadata": {
            "tags": [],
            "needs_background": "light"
          }
        }
      ]
    },
    {
      "cell_type": "markdown",
      "metadata": {
        "id": "akI1jv8BJw83"
      },
      "source": [
        "Most of the installments are in range of -1 and 12."
      ]
    },
    {
      "cell_type": "markdown",
      "metadata": {
        "id": "IrO2Dhq-KpZe"
      },
      "source": [
        "### Purchase Amounts"
      ]
    },
    {
      "cell_type": "code",
      "metadata": {
        "id": "baLFAfedJoZl",
        "outputId": "587c8e5a-f163-4bcf-b6f4-03bdf37513af",
        "colab": {
          "base_uri": "https://localhost:8080/",
          "height": 281
        }
      },
      "source": [
        "plt.hist(new_merchant_transactions['purchase_amount'], color='orange')\n",
        "plt.title('Purchase amount Histogram')\n",
        "plt.show()"
      ],
      "execution_count": null,
      "outputs": [
        {
          "output_type": "display_data",
          "data": {
            "image/png": "[encoded data removed]",
            "text/plain": [
              "<Figure size 432x288 with 1 Axes>"
            ]
          },
          "metadata": {
            "tags": [],
            "needs_background": "light"
          }
        }
      ]
    },
    {
      "cell_type": "markdown",
      "metadata": {
        "id": "6qFRBl2XKBFf"
      },
      "source": [
        "Majority of the purchase amounts are less than 30."
      ]
    },
    {
      "cell_type": "code",
      "metadata": {
        "id": "lDD7_2wTKAIf",
        "outputId": "d1f94281-efe4-484e-9735-941c2822ee2b",
        "colab": {
          "base_uri": "https://localhost:8080/",
          "height": 204
        }
      },
      "source": [
        "for i in range(90, 101):\n",
        "  print(\"{} percentile value is {:3.3f}\".format(i, np.percentile(new_merchant_transactions['purchase_amount'], i)))"
      ],
      "execution_count": null,
      "outputs": [
        {
          "output_type": "stream",
          "text": [
            "90 percentile value is -0.371\n",
            "91 percentile value is -0.340\n",
            "92 percentile value is -0.296\n",
            "93 percentile value is -0.245\n",
            "94 percentile value is -0.176\n",
            "95 percentile value is -0.086\n",
            "96 percentile value is 0.043\n",
            "97 percentile value is 0.251\n",
            "98 percentile value is 0.617\n",
            "99 percentile value is 1.463\n",
            "100 percentile value is 263.250\n"
          ],
          "name": "stdout"
        }
      ]
    },
    {
      "cell_type": "markdown",
      "metadata": {
        "id": "qmNpy6TdKPu7"
      },
      "source": [
        "The 100th percentile value is 263.250. This maybe an outlier as it is very far from all other values. "
      ]
    },
    {
      "cell_type": "markdown",
      "metadata": {
        "id": "0PdztIKN6-gG"
      },
      "source": [
        "### One hot encoding categorical variables"
      ]
    },
    {
      "cell_type": "code",
      "metadata": {
        "id": "mXkLM1Jm7BR7"
      },
      "source": [
        "new_merchant_transactions = pd.get_dummies(new_merchant_transactions, columns=['category_1', 'category_2', 'category_3'])\n",
        "historical_transactions = pd.get_dummies(historical_transactions, columns=['category_1', 'category_2', 'category_3'])"
      ],
      "execution_count": null,
      "outputs": []
    },
    {
      "cell_type": "markdown",
      "metadata": {
        "id": "EEBHec1u7fd2"
      },
      "source": [
        "### Combining with train dataframe"
      ]
    },
    {
      "cell_type": "code",
      "metadata": {
        "id": "Ir6c2nBY7i7Y"
      },
      "source": [
        "grouped_transactions_1 = new_merchant_transactions.groupby('card_id')[['installments', 'purchase_amount', 'category_1_N', 'category_1_N',\t'category_1_Y',\t'category_2_1.0',\t'category_2_2.0',\t'category_2_3.0',\t'category_2_4.0',\t'category_2_5.0',\t'category_3_A',\t'category_3_B','category_3_C']].sum()\n",
        "grouped_transactions_2 = historical_transactions.groupby('card_id')[['installments', 'purchase_amount', 'category_1_N', 'category_1_N',\t'category_1_Y',\t'category_2_1.0',\t'category_2_2.0',\t'category_2_3.0',\t'category_2_4.0',\t'category_2_5.0',\t'category_3_A',\t'category_3_B','category_3_C']].sum()"
      ],
      "execution_count": null,
      "outputs": []
    },
    {
      "cell_type": "code",
      "metadata": {
        "id": "FtNTHhI5AHwb",
        "outputId": "3240f8a0-7c0d-4bdc-bc31-fb0feea2bfc9",
        "colab": {
          "base_uri": "https://localhost:8080/",
          "height": 255
        }
      },
      "source": [
        "grouped_transactions_1.head()"
      ],
      "execution_count": null,
      "outputs": [
        {
          "output_type": "execute_result",
          "data": {
            "text/html": [
              "<div>\n",
              "<style scoped>\n",
              "    .dataframe tbody tr th:only-of-type {\n",
              "        vertical-align: middle;\n",
              "    }\n",
              "\n",
              "    .dataframe tbody tr th {\n",
              "        vertical-align: top;\n",
              "    }\n",
              "\n",
              "    .dataframe thead th {\n",
              "        text-align: right;\n",
              "    }\n",
              "</style>\n",
              "<table border=\"1\" class=\"dataframe\">\n",
              "  <thead>\n",
              "    <tr style=\"text-align: right;\">\n",
              "      <th></th>\n",
              "      <th>installments</th>\n",
              "      <th>purchase_amount</th>\n",
              "      <th>category_1_N</th>\n",
              "      <th>category_1_N</th>\n",
              "      <th>category_1_Y</th>\n",
              "      <th>category_2_1.0</th>\n",
              "      <th>category_2_2.0</th>\n",
              "      <th>category_2_3.0</th>\n",
              "      <th>category_2_4.0</th>\n",
              "      <th>category_2_5.0</th>\n",
              "      <th>category_3_A</th>\n",
              "      <th>category_3_B</th>\n",
              "      <th>category_3_C</th>\n",
              "    </tr>\n",
              "    <tr>\n",
              "      <th>card_id</th>\n",
              "      <th></th>\n",
              "      <th></th>\n",
              "      <th></th>\n",
              "      <th></th>\n",
              "      <th></th>\n",
              "      <th></th>\n",
              "      <th></th>\n",
              "      <th></th>\n",
              "      <th></th>\n",
              "      <th></th>\n",
              "      <th></th>\n",
              "      <th></th>\n",
              "      <th></th>\n",
              "    </tr>\n",
              "  </thead>\n",
              "  <tbody>\n",
              "    <tr>\n",
              "      <th>C_ID_00007093c1</th>\n",
              "      <td>2</td>\n",
              "      <td>-1.328125</td>\n",
              "      <td>2</td>\n",
              "      <td>2</td>\n",
              "      <td>0</td>\n",
              "      <td>1</td>\n",
              "      <td>0</td>\n",
              "      <td>1</td>\n",
              "      <td>0</td>\n",
              "      <td>0</td>\n",
              "      <td>0</td>\n",
              "      <td>2</td>\n",
              "      <td>0</td>\n",
              "    </tr>\n",
              "    <tr>\n",
              "      <th>C_ID_0001238066</th>\n",
              "      <td>42</td>\n",
              "      <td>-14.851562</td>\n",
              "      <td>24</td>\n",
              "      <td>24</td>\n",
              "      <td>2</td>\n",
              "      <td>20</td>\n",
              "      <td>0</td>\n",
              "      <td>0</td>\n",
              "      <td>0</td>\n",
              "      <td>3</td>\n",
              "      <td>0</td>\n",
              "      <td>21</td>\n",
              "      <td>4</td>\n",
              "    </tr>\n",
              "    <tr>\n",
              "      <th>C_ID_0001506ef0</th>\n",
              "      <td>0</td>\n",
              "      <td>-1.447266</td>\n",
              "      <td>2</td>\n",
              "      <td>2</td>\n",
              "      <td>0</td>\n",
              "      <td>0</td>\n",
              "      <td>0</td>\n",
              "      <td>2</td>\n",
              "      <td>0</td>\n",
              "      <td>0</td>\n",
              "      <td>2</td>\n",
              "      <td>0</td>\n",
              "      <td>0</td>\n",
              "    </tr>\n",
              "    <tr>\n",
              "      <th>C_ID_0001793786</th>\n",
              "      <td>0</td>\n",
              "      <td>-0.229004</td>\n",
              "      <td>31</td>\n",
              "      <td>31</td>\n",
              "      <td>0</td>\n",
              "      <td>15</td>\n",
              "      <td>8</td>\n",
              "      <td>5</td>\n",
              "      <td>0</td>\n",
              "      <td>1</td>\n",
              "      <td>31</td>\n",
              "      <td>0</td>\n",
              "      <td>0</td>\n",
              "    </tr>\n",
              "    <tr>\n",
              "      <th>C_ID_000183fdda</th>\n",
              "      <td>16</td>\n",
              "      <td>-6.589844</td>\n",
              "      <td>11</td>\n",
              "      <td>11</td>\n",
              "      <td>0</td>\n",
              "      <td>0</td>\n",
              "      <td>0</td>\n",
              "      <td>11</td>\n",
              "      <td>0</td>\n",
              "      <td>0</td>\n",
              "      <td>0</td>\n",
              "      <td>6</td>\n",
              "      <td>4</td>\n",
              "    </tr>\n",
              "  </tbody>\n",
              "</table>\n",
              "</div>"
            ],
            "text/plain": [
              "                 installments  purchase_amount  ...  category_3_B  category_3_C\n",
              "card_id                                         ...                            \n",
              "C_ID_00007093c1             2        -1.328125  ...             2             0\n",
              "C_ID_0001238066            42       -14.851562  ...            21             4\n",
              "C_ID_0001506ef0             0        -1.447266  ...             0             0\n",
              "C_ID_0001793786             0        -0.229004  ...             0             0\n",
              "C_ID_000183fdda            16        -6.589844  ...             6             4\n",
              "\n",
              "[5 rows x 13 columns]"
            ]
          },
          "metadata": {
            "tags": []
          },
          "execution_count": 39
        }
      ]
    },
    {
      "cell_type": "markdown",
      "metadata": {
        "id": "qL5AkXjSXv37"
      },
      "source": [
        "Removing the duplicated columns"
      ]
    },
    {
      "cell_type": "code",
      "metadata": {
        "id": "cLfahK4wAwsv"
      },
      "source": [
        "grouped_transactions_1 = grouped_transactions_1.loc[:,~grouped_transactions_1.columns.duplicated()]\n",
        "grouped_transactions_2 = grouped_transactions_2.loc[:,~grouped_transactions_2.columns.duplicated()]"
      ],
      "execution_count": null,
      "outputs": []
    },
    {
      "cell_type": "code",
      "metadata": {
        "id": "rbLALhYxEbW1"
      },
      "source": [
        "grouped_transactions_1 = grouped_transactions_1.reset_index()\n",
        "grouped_transactions_2 = grouped_transactions_2.reset_index()"
      ],
      "execution_count": null,
      "outputs": []
    },
    {
      "cell_type": "code",
      "metadata": {
        "id": "HKV9xekEDNnd",
        "outputId": "c181ba45-cc04-4cca-99a2-cd2605491f07",
        "colab": {
          "base_uri": "https://localhost:8080/",
          "height": 51
        }
      },
      "source": [
        "print(len(grouped_transactions_1.index.values)) \n",
        "print(len(grouped_transactions_2.index.values))"
      ],
      "execution_count": null,
      "outputs": [
        {
          "output_type": "stream",
          "text": [
            "290001\n",
            "325540\n"
          ],
          "name": "stdout"
        }
      ]
    },
    {
      "cell_type": "markdown",
      "metadata": {
        "id": "4GQwc4uIEvvA"
      },
      "source": [
        "We have some extra cards in the second dataframe."
      ]
    },
    {
      "cell_type": "code",
      "metadata": {
        "id": "JTxvX1kgDvwj",
        "outputId": "17508990-b234-49de-fea9-693eea77551d",
        "colab": {
          "base_uri": "https://localhost:8080/",
          "height": 66,
          "referenced_widgets": [
            "76da4fca26134c85b40c8c6de8ee0d83",
            "73fffd88486e4c4f8c2de94b01bfe45f",
            "0396c4eec3d24244a6a7a679691348f1",
            "cdd8302d1bef4145b469362d5376b84b",
            "f579bd13826f41bdb436055ca8a74b7a",
            "93b193b844404b94a05e0bccf2496419",
            "b8e7a0545ec54c8a8412dfef0f221a0b",
            "b18633b60c8c409fa3d5ff5d6cb0d06d"
          ]
        }
      },
      "source": [
        "from tqdm.autonotebook import tqdm\n",
        "\n",
        "for i in tqdm(range(len(grouped_transactions_1['card_id']))):\n",
        "  grouped_transactions_2['installments'][i] = grouped_transactions_2['installments'][i] + grouped_transactions_1['installments'][i]\n",
        "  grouped_transactions_2['purchase_amount'][i] = grouped_transactions_2['purchase_amount'][i] + grouped_transactions_1['purchase_amount'][i]\n",
        "  grouped_transactions_2['category_1_N'][i] = grouped_transactions_2['category_1_N'][i] + grouped_transactions_1['category_1_N'][i]\n",
        "  grouped_transactions_2['category_1_Y'][i] = grouped_transactions_2['category_1_Y'][i] + grouped_transactions_1['category_1_Y'][i]\n",
        "  grouped_transactions_2['category_2_1.0'][i] = grouped_transactions_2['category_2_1.0'][i] + grouped_transactions_1['category_2_1.0'][i]\n",
        "  grouped_transactions_2['category_2_2.0'][i] = grouped_transactions_2['category_2_2.0'][i] + grouped_transactions_1['category_2_2.0'][i]\n",
        "  grouped_transactions_2['category_2_3.0'][i] = grouped_transactions_2['category_2_3.0'][i] + grouped_transactions_1['category_2_3.0'][i]\n",
        "  grouped_transactions_2['category_2_4.0'][i] = grouped_transactions_2['category_2_4.0'][i] + grouped_transactions_1['category_2_4.0'][i]\n",
        "  grouped_transactions_2['category_2_5.0'][i] = grouped_transactions_2['category_2_5.0'][i] + grouped_transactions_1['category_2_5.0'][i]\n",
        "  grouped_transactions_2['category_3_A'][i] = grouped_transactions_2['category_3_A'][i] + grouped_transactions_1['category_3_A'][i]\n",
        "  grouped_transactions_2['category_3_B'][i] = grouped_transactions_2['category_3_B'][i] + grouped_transactions_1['category_3_B'][i] \n",
        "  grouped_transactions_2['category_3_C'][i] = grouped_transactions_2['category_3_C'][i] + grouped_transactions_1['category_3_C'][i] "
      ],
      "execution_count": null,
      "outputs": [
        {
          "output_type": "display_data",
          "data": {
            "application/vnd.jupyter.widget-view+json": {
              "model_id": "76da4fca26134c85b40c8c6de8ee0d83",
              "version_minor": 0,
              "version_major": 2
            },
            "text/plain": [
              "HBox(children=(FloatProgress(value=0.0, max=290001.0), HTML(value='')))"
            ]
          },
          "metadata": {
            "tags": []
          }
        },
        {
          "output_type": "stream",
          "text": [
            "\n"
          ],
          "name": "stdout"
        }
      ]
    },
    {
      "cell_type": "code",
      "metadata": {
        "id": "TDmzvfJ9Ldjc",
        "outputId": "102adaf3-2d27-4d03-e26f-f4d3a9adf23c",
        "colab": {
          "base_uri": "https://localhost:8080/",
          "height": 34
        }
      },
      "source": [
        "len(train['card_id'])"
      ],
      "execution_count": null,
      "outputs": [
        {
          "output_type": "execute_result",
          "data": {
            "text/plain": [
              "201917"
            ]
          },
          "metadata": {
            "tags": []
          },
          "execution_count": 45
        }
      ]
    },
    {
      "cell_type": "code",
      "metadata": {
        "id": "WB6F5ScCLodc",
        "outputId": "d0edcedf-c0a3-4cec-db80-4493ad71bc1f",
        "colab": {
          "base_uri": "https://localhost:8080/",
          "height": 224
        }
      },
      "source": [
        "train_aggregated = pd.merge(train, grouped_transactions_2, on='card_id', how='left')\n",
        "train_aggregated.head()"
      ],
      "execution_count": null,
      "outputs": [
        {
          "output_type": "execute_result",
          "data": {
            "text/html": [
              "<div>\n",
              "<style scoped>\n",
              "    .dataframe tbody tr th:only-of-type {\n",
              "        vertical-align: middle;\n",
              "    }\n",
              "\n",
              "    .dataframe tbody tr th {\n",
              "        vertical-align: top;\n",
              "    }\n",
              "\n",
              "    .dataframe thead th {\n",
              "        text-align: right;\n",
              "    }\n",
              "</style>\n",
              "<table border=\"1\" class=\"dataframe\">\n",
              "  <thead>\n",
              "    <tr style=\"text-align: right;\">\n",
              "      <th></th>\n",
              "      <th>first_active_month</th>\n",
              "      <th>card_id</th>\n",
              "      <th>feature_1</th>\n",
              "      <th>feature_2</th>\n",
              "      <th>feature_3</th>\n",
              "      <th>target</th>\n",
              "      <th>first_active_month_diff_from_today</th>\n",
              "      <th>installments</th>\n",
              "      <th>purchase_amount</th>\n",
              "      <th>category_1_N</th>\n",
              "      <th>category_1_Y</th>\n",
              "      <th>category_2_1.0</th>\n",
              "      <th>category_2_2.0</th>\n",
              "      <th>category_2_3.0</th>\n",
              "      <th>category_2_4.0</th>\n",
              "      <th>category_2_5.0</th>\n",
              "      <th>category_3_A</th>\n",
              "      <th>category_3_B</th>\n",
              "      <th>category_3_C</th>\n",
              "    </tr>\n",
              "  </thead>\n",
              "  <tbody>\n",
              "    <tr>\n",
              "      <th>0</th>\n",
              "      <td>2017-01-01 00:06:00</td>\n",
              "      <td>C_ID_92a2005557</td>\n",
              "      <td>5</td>\n",
              "      <td>2</td>\n",
              "      <td>1</td>\n",
              "      <td>-0.820283</td>\n",
              "      <td>44</td>\n",
              "      <td>9</td>\n",
              "      <td>-169.234360</td>\n",
              "      <td>265.0</td>\n",
              "      <td>0.0</td>\n",
              "      <td>258.0</td>\n",
              "      <td>0.0</td>\n",
              "      <td>0.0</td>\n",
              "      <td>4.0</td>\n",
              "      <td>3.0</td>\n",
              "      <td>256.0</td>\n",
              "      <td>9.0</td>\n",
              "      <td>0.0</td>\n",
              "    </tr>\n",
              "    <tr>\n",
              "      <th>1</th>\n",
              "      <td>2017-01-01 00:01:00</td>\n",
              "      <td>C_ID_3d0044924f</td>\n",
              "      <td>4</td>\n",
              "      <td>1</td>\n",
              "      <td>0</td>\n",
              "      <td>0.392913</td>\n",
              "      <td>44</td>\n",
              "      <td>543</td>\n",
              "      <td>-210.906723</td>\n",
              "      <td>321.0</td>\n",
              "      <td>31.0</td>\n",
              "      <td>319.0</td>\n",
              "      <td>0.0</td>\n",
              "      <td>0.0</td>\n",
              "      <td>0.0</td>\n",
              "      <td>2.0</td>\n",
              "      <td>2.0</td>\n",
              "      <td>276.0</td>\n",
              "      <td>72.0</td>\n",
              "    </tr>\n",
              "    <tr>\n",
              "      <th>2</th>\n",
              "      <td>2016-01-01 00:08:00</td>\n",
              "      <td>C_ID_d639edf6cd</td>\n",
              "      <td>2</td>\n",
              "      <td>2</td>\n",
              "      <td>0</td>\n",
              "      <td>0.688056</td>\n",
              "      <td>56</td>\n",
              "      <td>8</td>\n",
              "      <td>-33.815826</td>\n",
              "      <td>50.0</td>\n",
              "      <td>0.0</td>\n",
              "      <td>5.0</td>\n",
              "      <td>0.0</td>\n",
              "      <td>0.0</td>\n",
              "      <td>0.0</td>\n",
              "      <td>45.0</td>\n",
              "      <td>43.0</td>\n",
              "      <td>6.0</td>\n",
              "      <td>1.0</td>\n",
              "    </tr>\n",
              "    <tr>\n",
              "      <th>3</th>\n",
              "      <td>2017-01-01 00:09:00</td>\n",
              "      <td>C_ID_186d6a6901</td>\n",
              "      <td>4</td>\n",
              "      <td>3</td>\n",
              "      <td>0</td>\n",
              "      <td>0.142495</td>\n",
              "      <td>44</td>\n",
              "      <td>85</td>\n",
              "      <td>-50.163239</td>\n",
              "      <td>66.0</td>\n",
              "      <td>12.0</td>\n",
              "      <td>12.0</td>\n",
              "      <td>0.0</td>\n",
              "      <td>0.0</td>\n",
              "      <td>53.0</td>\n",
              "      <td>0.0</td>\n",
              "      <td>0.0</td>\n",
              "      <td>69.0</td>\n",
              "      <td>7.0</td>\n",
              "    </tr>\n",
              "    <tr>\n",
              "      <th>4</th>\n",
              "      <td>2017-01-01 00:11:00</td>\n",
              "      <td>C_ID_cdbd2c0db2</td>\n",
              "      <td>1</td>\n",
              "      <td>3</td>\n",
              "      <td>0</td>\n",
              "      <td>-0.159749</td>\n",
              "      <td>44</td>\n",
              "      <td>183</td>\n",
              "      <td>-49.419590</td>\n",
              "      <td>119.0</td>\n",
              "      <td>15.0</td>\n",
              "      <td>11.0</td>\n",
              "      <td>0.0</td>\n",
              "      <td>0.0</td>\n",
              "      <td>107.0</td>\n",
              "      <td>1.0</td>\n",
              "      <td>0.0</td>\n",
              "      <td>127.0</td>\n",
              "      <td>7.0</td>\n",
              "    </tr>\n",
              "  </tbody>\n",
              "</table>\n",
              "</div>"
            ],
            "text/plain": [
              "   first_active_month          card_id  ...  category_3_B  category_3_C\n",
              "0 2017-01-01 00:06:00  C_ID_92a2005557  ...           9.0           0.0\n",
              "1 2017-01-01 00:01:00  C_ID_3d0044924f  ...         276.0          72.0\n",
              "2 2016-01-01 00:08:00  C_ID_d639edf6cd  ...           6.0           1.0\n",
              "3 2017-01-01 00:09:00  C_ID_186d6a6901  ...          69.0           7.0\n",
              "4 2017-01-01 00:11:00  C_ID_cdbd2c0db2  ...         127.0           7.0\n",
              "\n",
              "[5 rows x 19 columns]"
            ]
          },
          "metadata": {
            "tags": []
          },
          "execution_count": 46
        }
      ]
    },
    {
      "cell_type": "code",
      "metadata": {
        "id": "OjgH8Ri9MPTM"
      },
      "source": [
        "train_aggregated.to_csv('train_aggregated.csv')"
      ],
      "execution_count": null,
      "outputs": []
    },
    {
      "cell_type": "code",
      "metadata": {
        "id": "OmzfDbCCMWHK"
      },
      "source": [
        "# to load the CSV file directly\n",
        "#train_aggregated = pd.read_csv('train_aggregated.csv')"
      ],
      "execution_count": null,
      "outputs": []
    },
    {
      "cell_type": "markdown",
      "metadata": {
        "id": "S8EbPD_0zhJ8"
      },
      "source": [
        "#### Now lets plot and check installments and purchase_amount"
      ]
    },
    {
      "cell_type": "code",
      "metadata": {
        "id": "Chr7An14zgco",
        "outputId": "0f72cc48-2f26-457a-8292-9ad8c132441b",
        "colab": {
          "base_uri": "https://localhost:8080/",
          "height": 280
        }
      },
      "source": [
        "sns.scatterplot(x=train_aggregated['target'], y=train_aggregated['installments'], color='red')\n",
        "plt.show()"
      ],
      "execution_count": null,
      "outputs": [
        {
          "output_type": "display_data",
          "data": {
            "image/png": "[encoded data removed]",
            "text/plain": [
              "<Figure size 432x288 with 1 Axes>"
            ]
          },
          "metadata": {
            "tags": [],
            "needs_background": "light"
          }
        }
      ]
    },
    {
      "cell_type": "markdown",
      "metadata": {
        "id": "yId04zUE36OQ"
      },
      "source": [
        "As the target score seems to be standardized(in some range), the people with higher number of installments are observed to have a loyalty score that is closer to zero. "
      ]
    },
    {
      "cell_type": "code",
      "metadata": {
        "id": "LbDohzAV1JzB",
        "outputId": "17f3adf4-faec-4e10-fb9f-8c5a76485069",
        "colab": {
          "base_uri": "https://localhost:8080/",
          "height": 281
        }
      },
      "source": [
        "sns.scatterplot(y=train_aggregated['target'], x=train_aggregated['purchase_amount'])\n",
        "plt.ylabel('Loyalty score')\n",
        "plt.xlabel('Aggregated(sum) Installments')\n",
        "plt.show()"
      ],
      "execution_count": null,
      "outputs": [
        {
          "output_type": "display_data",
          "data": {
            "image/png": "[encoded data removed]",
            "text/plain": [
              "<Figure size 432x288 with 1 Axes>"
            ]
          },
          "metadata": {
            "tags": [],
            "needs_background": "light"
          }
        }
      ]
    },
    {
      "cell_type": "markdown",
      "metadata": {
        "id": "pUO9Uqv22jkO"
      },
      "source": [
        "Cant infer anything from the above plot."
      ]
    },
    {
      "cell_type": "markdown",
      "metadata": {
        "id": "j_iD60OVR-mZ"
      },
      "source": [
        "#### Ploting the sum of transaction amounts against the loyalty score"
      ]
    },
    {
      "cell_type": "code",
      "metadata": {
        "id": "Gpkwg_JXR-Kj"
      },
      "source": [
        "#https://www.kaggle.com/sudalairajkumar/simple-exploration-notebook-elo\n",
        "\n",
        "gdf = historical_transactions.groupby(\"card_id\")\n",
        "gdf = gdf[\"purchase_amount\"].agg(['sum', 'mean', 'std', 'min', 'max']).reset_index()\n",
        "gdf.columns = [\"card_id\", \"sum_hist_trans\", \"mean_hist_trans\", \"std_hist_trans\", \"min_hist_trans\", \"max_hist_trans\"]\n",
        "train_df = pd.merge(train, gdf, on=\"card_id\", how=\"left\")"
      ],
      "execution_count": null,
      "outputs": []
    },
    {
      "cell_type": "code",
      "metadata": {
        "id": "f1_eASf4TrCH",
        "outputId": "dc149ed8-00f2-4bb5-ca57-e33e9b3eeeca",
        "colab": {
          "base_uri": "https://localhost:8080/",
          "height": 408
        }
      },
      "source": [
        "bins = np.percentile(train_df[\"sum_hist_trans\"], range(0,101,10))\n",
        "train_df['binned_sum_hist_trans'] = pd.cut(train_df['sum_hist_trans'], bins)\n",
        "\n",
        "plt.figure(figsize=(20,8))\n",
        "sns.boxplot(x=\"binned_sum_hist_trans\", y=train_df['target'], data=train_df, showfliers=False)\n",
        "#plt.xticks(rotation='vertical')\n",
        "plt.xlabel('Transaction ranges')\n",
        "plt.ylabel('Loyalty score')\n",
        "plt.title(\"Transaction sum ranges for each card plotted against loyalty scores\", fontsize = 20)\n",
        "plt.show()"
      ],
      "execution_count": null,
      "outputs": [
        {
          "output_type": "display_data",
          "data": {
            "image/png": "[encoded data removed]",
            "text/plain": [
              "<Figure size 1440x576 with 1 Axes>"
            ]
          },
          "metadata": {
            "tags": [],
            "needs_background": "light"
          }
        }
      ]
    },
    {
      "cell_type": "markdown",
      "metadata": {
        "id": "8zB2Z-ohVX3k"
      },
      "source": [
        "As we can see here that the loyalty score increases with the increase in sum of transaction values."
      ]
    },
    {
      "cell_type": "markdown",
      "metadata": {
        "id": "5P8aB7dY52fE"
      },
      "source": [
        "## Merchants data"
      ]
    },
    {
      "cell_type": "code",
      "metadata": {
        "id": "ZnEVpTbF_uGW",
        "outputId": "73374996-21e2-4f4a-eca8-b6f5d3c33a9e",
        "colab": {
          "base_uri": "https://localhost:8080/",
          "height": 731
        }
      },
      "source": [
        "data_dictionary_merchant[2:]"
      ],
      "execution_count": null,
      "outputs": [
        {
          "output_type": "execute_result",
          "data": {
            "text/html": [
              "<div>\n",
              "<style scoped>\n",
              "    .dataframe tbody tr th:only-of-type {\n",
              "        vertical-align: middle;\n",
              "    }\n",
              "\n",
              "    .dataframe tbody tr th {\n",
              "        vertical-align: top;\n",
              "    }\n",
              "\n",
              "    .dataframe thead th {\n",
              "        text-align: right;\n",
              "    }\n",
              "</style>\n",
              "<table border=\"1\" class=\"dataframe\">\n",
              "  <thead>\n",
              "    <tr style=\"text-align: right;\">\n",
              "      <th></th>\n",
              "      <th>merchants.csv</th>\n",
              "      <th>Unnamed: 1</th>\n",
              "    </tr>\n",
              "  </thead>\n",
              "  <tbody>\n",
              "    <tr>\n",
              "      <th>2</th>\n",
              "      <td>merchant_id</td>\n",
              "      <td>Unique merchant identifier</td>\n",
              "    </tr>\n",
              "    <tr>\n",
              "      <th>3</th>\n",
              "      <td>merchant_group_id</td>\n",
              "      <td>Merchant group (anonymized )</td>\n",
              "    </tr>\n",
              "    <tr>\n",
              "      <th>4</th>\n",
              "      <td>merchant_category_id</td>\n",
              "      <td>Unique identifier for merchant category (anony...</td>\n",
              "    </tr>\n",
              "    <tr>\n",
              "      <th>5</th>\n",
              "      <td>subsector_id</td>\n",
              "      <td>Merchant category group (anonymized )</td>\n",
              "    </tr>\n",
              "    <tr>\n",
              "      <th>6</th>\n",
              "      <td>numerical_1</td>\n",
              "      <td>anonymized measure</td>\n",
              "    </tr>\n",
              "    <tr>\n",
              "      <th>7</th>\n",
              "      <td>numerical_2</td>\n",
              "      <td>anonymized measure</td>\n",
              "    </tr>\n",
              "    <tr>\n",
              "      <th>8</th>\n",
              "      <td>category_1</td>\n",
              "      <td>anonymized category</td>\n",
              "    </tr>\n",
              "    <tr>\n",
              "      <th>9</th>\n",
              "      <td>most_recent_sales_range</td>\n",
              "      <td>Range of revenue (monetary units) in last acti...</td>\n",
              "    </tr>\n",
              "    <tr>\n",
              "      <th>10</th>\n",
              "      <td>most_recent_purchases_range</td>\n",
              "      <td>Range of quantity of transactions in last acti...</td>\n",
              "    </tr>\n",
              "    <tr>\n",
              "      <th>11</th>\n",
              "      <td>avg_sales_lag3</td>\n",
              "      <td>Monthly average of revenue in last 3 months di...</td>\n",
              "    </tr>\n",
              "    <tr>\n",
              "      <th>12</th>\n",
              "      <td>avg_purchases_lag3</td>\n",
              "      <td>Monthly average of transactions in last 3 mont...</td>\n",
              "    </tr>\n",
              "    <tr>\n",
              "      <th>13</th>\n",
              "      <td>active_months_lag3</td>\n",
              "      <td>Quantity of active months within last 3 months</td>\n",
              "    </tr>\n",
              "    <tr>\n",
              "      <th>14</th>\n",
              "      <td>avg_sales_lag6</td>\n",
              "      <td>Monthly average of revenue in last 6 months di...</td>\n",
              "    </tr>\n",
              "    <tr>\n",
              "      <th>15</th>\n",
              "      <td>avg_purchases_lag6</td>\n",
              "      <td>Monthly average of transactions in last 6 mont...</td>\n",
              "    </tr>\n",
              "    <tr>\n",
              "      <th>16</th>\n",
              "      <td>active_months_lag6</td>\n",
              "      <td>Quantity of active months within last 6 months</td>\n",
              "    </tr>\n",
              "    <tr>\n",
              "      <th>17</th>\n",
              "      <td>avg_sales_lag12</td>\n",
              "      <td>Monthly average of revenue in last 12 months d...</td>\n",
              "    </tr>\n",
              "    <tr>\n",
              "      <th>18</th>\n",
              "      <td>avg_purchases_lag12</td>\n",
              "      <td>Monthly average of transactions in last 12 mon...</td>\n",
              "    </tr>\n",
              "    <tr>\n",
              "      <th>19</th>\n",
              "      <td>active_months_lag12</td>\n",
              "      <td>Quantity of active months within last 12 months</td>\n",
              "    </tr>\n",
              "    <tr>\n",
              "      <th>20</th>\n",
              "      <td>category_4</td>\n",
              "      <td>anonymized category</td>\n",
              "    </tr>\n",
              "    <tr>\n",
              "      <th>21</th>\n",
              "      <td>city_id</td>\n",
              "      <td>City identifier (anonymized )</td>\n",
              "    </tr>\n",
              "    <tr>\n",
              "      <th>22</th>\n",
              "      <td>state_id</td>\n",
              "      <td>State identifier (anonymized )</td>\n",
              "    </tr>\n",
              "    <tr>\n",
              "      <th>23</th>\n",
              "      <td>category_2</td>\n",
              "      <td>anonymized category</td>\n",
              "    </tr>\n",
              "  </tbody>\n",
              "</table>\n",
              "</div>"
            ],
            "text/plain": [
              "                  merchants.csv                                         Unnamed: 1\n",
              "2                   merchant_id                         Unique merchant identifier\n",
              "3             merchant_group_id                       Merchant group (anonymized )\n",
              "4          merchant_category_id  Unique identifier for merchant category (anony...\n",
              "5                  subsector_id              Merchant category group (anonymized )\n",
              "6                   numerical_1                                 anonymized measure\n",
              "7                   numerical_2                                 anonymized measure\n",
              "8                    category_1                                anonymized category\n",
              "9       most_recent_sales_range  Range of revenue (monetary units) in last acti...\n",
              "10  most_recent_purchases_range  Range of quantity of transactions in last acti...\n",
              "11               avg_sales_lag3  Monthly average of revenue in last 3 months di...\n",
              "12           avg_purchases_lag3  Monthly average of transactions in last 3 mont...\n",
              "13           active_months_lag3     Quantity of active months within last 3 months\n",
              "14               avg_sales_lag6  Monthly average of revenue in last 6 months di...\n",
              "15           avg_purchases_lag6  Monthly average of transactions in last 6 mont...\n",
              "16           active_months_lag6     Quantity of active months within last 6 months\n",
              "17              avg_sales_lag12  Monthly average of revenue in last 12 months d...\n",
              "18          avg_purchases_lag12  Monthly average of transactions in last 12 mon...\n",
              "19          active_months_lag12    Quantity of active months within last 12 months\n",
              "20                   category_4                                anonymized category\n",
              "21                      city_id                      City identifier (anonymized )\n",
              "22                     state_id                     State identifier (anonymized )\n",
              "23                   category_2                                anonymized category"
            ]
          },
          "metadata": {
            "tags": []
          },
          "execution_count": 51
        }
      ]
    },
    {
      "cell_type": "markdown",
      "metadata": {
        "id": "39jL9VzJy2kj"
      },
      "source": [
        "### Anonymized Categories"
      ]
    },
    {
      "cell_type": "code",
      "metadata": {
        "id": "We-9zFUDhaux",
        "outputId": "c7eb0117-311d-4f91-f4df-b4aa230cf698",
        "colab": {
          "base_uri": "https://localhost:8080/",
          "height": 669
        }
      },
      "source": [
        "fig, ax = plt.subplots(1,3, figsize = (15, 10))\n",
        "\n",
        "merchants['category_1'].value_counts().sort_index().plot(kind='bar', title=\"category_1\", ax=ax[0])\n",
        "merchants['category_2'].value_counts().sort_index().plot(kind='bar', title=\"category_2\", ax=ax[1])\n",
        "merchants['category_4'].value_counts().sort_index().plot(kind='bar', title=\"category_4\", ax=ax[2])\n",
        "plt.suptitle(\"Categorical features for merchants\")\n",
        "plt.show()\n"
      ],
      "execution_count": null,
      "outputs": [
        {
          "output_type": "display_data",
          "data": {
            "image/png": "[encoded data removed]",
            "text/plain": [
              "<Figure size 1080x720 with 3 Axes>"
            ]
          },
          "metadata": {
            "tags": [],
            "needs_background": "light"
          }
        }
      ]
    },
    {
      "cell_type": "markdown",
      "metadata": {
        "id": "me0CSvoDw7g0"
      },
      "source": [
        "Since all three features are anonymized, we cant say much about the merchants from these plots even though much can be interpreted from the plots.\n",
        "\n",
        "However, it can be further explored and checked if the merchants involved in a transaction belongs to the majority category then what possible loyalty score could it lead to."
      ]
    },
    {
      "cell_type": "markdown",
      "metadata": {
        "id": "4i-7xwoEyxqL"
      },
      "source": [
        "### Anonymized numerical measures"
      ]
    },
    {
      "cell_type": "code",
      "metadata": {
        "id": "vh-SAOnixh8s",
        "outputId": "07ad1edf-e521-487d-beb3-ef12898e175e",
        "colab": {
          "base_uri": "https://localhost:8080/",
          "height": 678
        }
      },
      "source": [
        "fig, ax = plt.subplots(1,2, figsize = (15, 10))\n",
        "sns.distplot(merchants['numerical_1'], ax=ax[0], color='red')\n",
        "sns.distplot(merchants['numerical_2'], ax=ax[1], color='green')\n",
        "plt.suptitle('Distributions for two anonymous numerical features')\n",
        "plt.show()"
      ],
      "execution_count": null,
      "outputs": [
        {
          "output_type": "display_data",
          "data": {
            "image/png": "[encoded data removed]",
            "text/plain": [
              "<Figure size 1080x720 with 2 Axes>"
            ]
          },
          "metadata": {
            "tags": [],
            "needs_background": "light"
          }
        }
      ]
    },
    {
      "cell_type": "markdown",
      "metadata": {
        "id": "I54y9yC1yjy_"
      },
      "source": [
        "Cant interpret much from this."
      ]
    },
    {
      "cell_type": "code",
      "metadata": {
        "id": "as8p095nwrWn",
        "outputId": "fe5df053-56c1-41fb-cca0-6fe02164489b",
        "colab": {
          "base_uri": "https://localhost:8080/",
          "height": 119
        }
      },
      "source": [
        "merchants['most_recent_sales_range'].value_counts()"
      ],
      "execution_count": null,
      "outputs": [
        {
          "output_type": "execute_result",
          "data": {
            "text/plain": [
              "E    177104\n",
              "D    117475\n",
              "C     34075\n",
              "B      5037\n",
              "A      1005\n",
              "Name: most_recent_sales_range, dtype: int64"
            ]
          },
          "metadata": {
            "tags": []
          },
          "execution_count": 27
        }
      ]
    },
    {
      "cell_type": "markdown",
      "metadata": {
        "id": "IVXIbNC1zlBZ"
      },
      "source": [
        "Most recent sales range for majority of the merchants is E(which is the lowest)"
      ]
    },
    {
      "cell_type": "code",
      "metadata": {
        "id": "RA8X4-_BzOMA",
        "outputId": "5e34d5d9-03d0-4984-93a1-a3d0555cbdb4",
        "colab": {
          "base_uri": "https://localhost:8080/",
          "height": 119
        }
      },
      "source": [
        "merchants['most_recent_purchases_range'].value_counts()"
      ],
      "execution_count": null,
      "outputs": [
        {
          "output_type": "execute_result",
          "data": {
            "text/plain": [
              "E    175309\n",
              "D    119187\n",
              "C     34144\n",
              "B      5046\n",
              "A      1010\n",
              "Name: most_recent_purchases_range, dtype: int64"
            ]
          },
          "metadata": {
            "tags": []
          },
          "execution_count": 28
        }
      ]
    },
    {
      "cell_type": "markdown",
      "metadata": {
        "id": "QHKqxukbz1L4"
      },
      "source": [
        "Purchase range follows the same trend as well."
      ]
    },
    {
      "cell_type": "markdown",
      "metadata": {
        "id": "JDPdEyvB2ycl"
      },
      "source": [
        "### Active months for each merchant"
      ]
    },
    {
      "cell_type": "code",
      "metadata": {
        "id": "YFPsytH-zzb8",
        "outputId": "2941a9f9-6612-470b-d348-ce4d1708ba3e",
        "colab": {
          "base_uri": "https://localhost:8080/",
          "height": 349
        }
      },
      "source": [
        "merchants['active_months_lag3'].value_counts().sort_index().plot(kind='barh', title=\"active_months_lag3\")\n",
        "plt.show()\n",
        "print(merchants['active_months_lag3'].value_counts())"
      ],
      "execution_count": null,
      "outputs": [
        {
          "output_type": "display_data",
          "data": {
            "image/png": "[encoded data removed]",
            "text/plain": [
              "<Figure size 432x288 with 1 Axes>"
            ]
          },
          "metadata": {
            "tags": [],
            "needs_background": "light"
          }
        },
        {
          "output_type": "stream",
          "text": [
            "3    333262\n",
            "2       896\n",
            "1       538\n",
            "Name: active_months_lag3, dtype: int64\n"
          ],
          "name": "stdout"
        }
      ]
    },
    {
      "cell_type": "markdown",
      "metadata": {
        "id": "l7aGedxW0OpL"
      },
      "source": [
        "So 99.580% of merchants are active in all of the last 3 months(from the reference date). <br>\n",
        "This can be used further as there might be a possibility that transactions with less active(or previously active) merchants might give the card a low loyalty score."
      ]
    },
    {
      "cell_type": "code",
      "metadata": {
        "id": "qud_yob23B-W",
        "outputId": "3d4db0d2-aa38-49b6-9fab-71952de1add3",
        "colab": {
          "base_uri": "https://localhost:8080/",
          "height": 400
        }
      },
      "source": [
        "merchants['active_months_lag6'].value_counts().sort_index().plot(kind='barh', title=\"active_months_lag6\")\n",
        "plt.show()\n",
        "print(merchants['active_months_lag6'].value_counts())"
      ],
      "execution_count": null,
      "outputs": [
        {
          "output_type": "display_data",
          "data": {
            "image/png": "[encoded data removed]",
            "text/plain": [
              "<Figure size 432x288 with 1 Axes>"
            ]
          },
          "metadata": {
            "tags": [],
            "needs_background": "light"
          }
        },
        {
          "output_type": "stream",
          "text": [
            "6    327284\n",
            "5      2276\n",
            "4      2050\n",
            "3      1652\n",
            "2       896\n",
            "1       538\n",
            "Name: active_months_lag6, dtype: int64\n"
          ],
          "name": "stdout"
        }
      ]
    },
    {
      "cell_type": "markdown",
      "metadata": {
        "id": "94jnO1c13IjV"
      },
      "source": [
        "We can observe more that are not active merchants for all of the last 6 months as compared to the last 3."
      ]
    },
    {
      "cell_type": "code",
      "metadata": {
        "id": "Kde-L1k33u3h",
        "outputId": "6656c189-784f-458e-ce83-0040aed82e25",
        "colab": {
          "base_uri": "https://localhost:8080/",
          "height": 502
        }
      },
      "source": [
        "merchants['active_months_lag12'].value_counts().sort_index().plot(kind='barh', title=\"active_months_lag12\")\n",
        "plt.show()\n",
        "print(merchants['active_months_lag12'].value_counts())"
      ],
      "execution_count": null,
      "outputs": [
        {
          "output_type": "display_data",
          "data": {
            "image/png": "[encoded data removed]",
            "text/plain": [
              "<Figure size 432x288 with 1 Axes>"
            ]
          },
          "metadata": {
            "tags": [],
            "needs_background": "light"
          }
        },
        {
          "output_type": "stream",
          "text": [
            "12    305101\n",
            "11      4449\n",
            "10      4143\n",
            "9       3824\n",
            "8       3756\n",
            "7       3274\n",
            "6       2737\n",
            "5       2276\n",
            "4       2050\n",
            "3       1652\n",
            "2        896\n",
            "1        538\n",
            "Name: active_months_lag12, dtype: int64\n"
          ],
          "name": "stdout"
        }
      ]
    },
    {
      "cell_type": "markdown",
      "metadata": {
        "id": "36zZBtO634cb"
      },
      "source": [
        "This gives us a very fair idea of all the merchants that are active throughout the year. <br>\n",
        "As seen 90.115% of merchants are active thorugh out the year.<br>\n",
        "This can be used to filter out transactions that were old or with merchants that are inactive now. So there might be a possibility that cards with transactions from these merchants would have a low loyalty score."
      ]
    },
    {
      "cell_type": "markdown",
      "metadata": {
        "id": "uq26RgTaLii2"
      },
      "source": [
        "### Combining with transactions and train data"
      ]
    },
    {
      "cell_type": "code",
      "metadata": {
        "id": "Ysekt3XOVVS2"
      },
      "source": [
        "merchants = merchants[['merchant_id', 'most_recent_sales_range', 'most_recent_purchases_range', 'active_months_lag3', 'active_months_lag6', 'active_months_lag12']]\n",
        "historical_transactions = historical_transactions[['card_id', 'merchant_id']]\n",
        "new_merchant_transactions = new_merchant_transactions[['card_id', 'merchant_id']]"
      ],
      "execution_count": null,
      "outputs": []
    },
    {
      "cell_type": "markdown",
      "metadata": {
        "id": "JhsSycb4LLwz"
      },
      "source": [
        "Now let's combine these columns with our train data and plot them against loyalty scores to see how useful these active months columns are."
      ]
    },
    {
      "cell_type": "code",
      "metadata": {
        "id": "ao-jYtnAInkw",
        "outputId": "db26eecd-e5f5-433e-dbc2-b42d0634e06a",
        "colab": {
          "base_uri": "https://localhost:8080/",
          "height": 170
        }
      },
      "source": [
        "historical_transactions.info()"
      ],
      "execution_count": null,
      "outputs": [
        {
          "output_type": "stream",
          "text": [
            "<class 'pandas.core.frame.DataFrame'>\n",
            "RangeIndex: 29112361 entries, 0 to 29112360\n",
            "Data columns (total 2 columns):\n",
            " #   Column       Dtype \n",
            "---  ------       ----- \n",
            " 0   card_id      object\n",
            " 1   merchant_id  object\n",
            "dtypes: object(2)\n",
            "memory usage: 444.2+ MB\n"
          ],
          "name": "stdout"
        }
      ]
    },
    {
      "cell_type": "code",
      "metadata": {
        "id": "s43BxK_8RQng",
        "outputId": "f68c07e7-9951-46fb-c0b8-2de254394b50",
        "colab": {
          "base_uri": "https://localhost:8080/",
          "height": 170
        }
      },
      "source": [
        "new_merchant_transactions.info()"
      ],
      "execution_count": null,
      "outputs": [
        {
          "output_type": "stream",
          "text": [
            "<class 'pandas.core.frame.DataFrame'>\n",
            "RangeIndex: 1963031 entries, 0 to 1963030\n",
            "Data columns (total 2 columns):\n",
            " #   Column       Dtype \n",
            "---  ------       ----- \n",
            " 0   card_id      object\n",
            " 1   merchant_id  object\n",
            "dtypes: object(2)\n",
            "memory usage: 30.0+ MB\n"
          ],
          "name": "stdout"
        }
      ]
    },
    {
      "cell_type": "code",
      "metadata": {
        "id": "C7C6yD_qRSoW",
        "outputId": "3cc53c84-e8aa-43e8-989f-2cb9d79659d7",
        "colab": {
          "base_uri": "https://localhost:8080/",
          "height": 170
        }
      },
      "source": [
        "historical_transactions = historical_transactions.append(new_merchant_transactions, ignore_index=True)\n",
        "historical_transactions.info()"
      ],
      "execution_count": null,
      "outputs": [
        {
          "output_type": "stream",
          "text": [
            "<class 'pandas.core.frame.DataFrame'>\n",
            "RangeIndex: 31075392 entries, 0 to 31075391\n",
            "Data columns (total 2 columns):\n",
            " #   Column       Dtype \n",
            "---  ------       ----- \n",
            " 0   card_id      object\n",
            " 1   merchant_id  object\n",
            "dtypes: object(2)\n",
            "memory usage: 474.2+ MB\n"
          ],
          "name": "stdout"
        }
      ]
    },
    {
      "cell_type": "code",
      "metadata": {
        "id": "Sn1_2b-gRwUg",
        "outputId": "1b0f8da8-8d97-4c83-ff02-1711f0bcdf4c",
        "colab": {
          "base_uri": "https://localhost:8080/",
          "height": 255
        }
      },
      "source": [
        "merged_transactions = pd.merge(historical_transactions, merchants, on='merchant_id', how='left')\n",
        "merged_transactions.info()"
      ],
      "execution_count": null,
      "outputs": [
        {
          "output_type": "stream",
          "text": [
            "<class 'pandas.core.frame.DataFrame'>\n",
            "Int64Index: 32328675 entries, 0 to 32328674\n",
            "Data columns (total 7 columns):\n",
            " #   Column                       Dtype  \n",
            "---  ------                       -----  \n",
            " 0   card_id                      object \n",
            " 1   merchant_id                  object \n",
            " 2   most_recent_sales_range      object \n",
            " 3   most_recent_purchases_range  object \n",
            " 4   active_months_lag3           float64\n",
            " 5   active_months_lag6           float64\n",
            " 6   active_months_lag12          float64\n",
            "dtypes: float64(3), object(4)\n",
            "memory usage: 1.9+ GB\n"
          ],
          "name": "stdout"
        }
      ]
    },
    {
      "cell_type": "code",
      "metadata": {
        "id": "ZRse6rk2Seep"
      },
      "source": [
        "merged_transactions.to_csv('merged_transactions_with_merchants.csv')"
      ],
      "execution_count": null,
      "outputs": []
    },
    {
      "cell_type": "code",
      "metadata": {
        "id": "RqoPDp5YUYrO"
      },
      "source": [
        "#Load the merged trasactions if needed\n",
        "merged_transactions = pd.read_csv('merged_transactions_with_merchants.csv')"
      ],
      "execution_count": null,
      "outputs": []
    },
    {
      "cell_type": "markdown",
      "metadata": {
        "id": "B-mWSG8fYiAb"
      },
      "source": [
        "Now grouping these based on card_id and taking the mean of active_months_lag and mode for most recent sales and purchase range "
      ]
    },
    {
      "cell_type": "code",
      "metadata": {
        "id": "MJ5IRZ9qYhFb"
      },
      "source": [
        "merged_transactions_1 = merged_transactions.groupby('card_id', as_index=False)[['active_months_lag3', 'active_months_lag6', 'active_months_lag12']].mean().round(0) "
      ],
      "execution_count": null,
      "outputs": []
    },
    {
      "cell_type": "code",
      "metadata": {
        "id": "e_ga5PKWdNW-"
      },
      "source": [
        "merged_transactions_2 = merged_transactions.groupby('card_id', as_index=False)[['most_recent_sales_range', 'most_recent_purchases_range']].agg(lambda x: pd.Series.mode(x)[0]) "
      ],
      "execution_count": null,
      "outputs": []
    },
    {
      "cell_type": "code",
      "metadata": {
        "id": "pySC9HH7euep",
        "outputId": "fc553413-04b9-4441-9a8e-ebcdee8744ee",
        "colab": {
          "base_uri": "https://localhost:8080/",
          "height": 224
        }
      },
      "source": [
        "train_aggregated_2 = pd.merge(train, merged_transactions_1, on='card_id', how= 'left')\n",
        "train_aggregated_2 = pd.merge(train_aggregated_2, merged_transactions_2, on='card_id', how= 'left')\n",
        "train_aggregated_2.head()"
      ],
      "execution_count": null,
      "outputs": [
        {
          "output_type": "execute_result",
          "data": {
            "text/html": [
              "<div>\n",
              "<style scoped>\n",
              "    .dataframe tbody tr th:only-of-type {\n",
              "        vertical-align: middle;\n",
              "    }\n",
              "\n",
              "    .dataframe tbody tr th {\n",
              "        vertical-align: top;\n",
              "    }\n",
              "\n",
              "    .dataframe thead th {\n",
              "        text-align: right;\n",
              "    }\n",
              "</style>\n",
              "<table border=\"1\" class=\"dataframe\">\n",
              "  <thead>\n",
              "    <tr style=\"text-align: right;\">\n",
              "      <th></th>\n",
              "      <th>first_active_month</th>\n",
              "      <th>card_id</th>\n",
              "      <th>feature_1</th>\n",
              "      <th>feature_2</th>\n",
              "      <th>feature_3</th>\n",
              "      <th>target</th>\n",
              "      <th>active_months_lag3</th>\n",
              "      <th>active_months_lag6</th>\n",
              "      <th>active_months_lag12</th>\n",
              "      <th>most_recent_sales_range</th>\n",
              "      <th>most_recent_purchases_range</th>\n",
              "    </tr>\n",
              "  </thead>\n",
              "  <tbody>\n",
              "    <tr>\n",
              "      <th>0</th>\n",
              "      <td>2017-06</td>\n",
              "      <td>C_ID_92a2005557</td>\n",
              "      <td>5</td>\n",
              "      <td>2</td>\n",
              "      <td>1</td>\n",
              "      <td>-0.820283</td>\n",
              "      <td>3.0</td>\n",
              "      <td>6.0</td>\n",
              "      <td>12.0</td>\n",
              "      <td>C</td>\n",
              "      <td>A</td>\n",
              "    </tr>\n",
              "    <tr>\n",
              "      <th>1</th>\n",
              "      <td>2017-01</td>\n",
              "      <td>C_ID_3d0044924f</td>\n",
              "      <td>4</td>\n",
              "      <td>1</td>\n",
              "      <td>0</td>\n",
              "      <td>0.392913</td>\n",
              "      <td>3.0</td>\n",
              "      <td>6.0</td>\n",
              "      <td>12.0</td>\n",
              "      <td>A</td>\n",
              "      <td>A</td>\n",
              "    </tr>\n",
              "    <tr>\n",
              "      <th>2</th>\n",
              "      <td>2016-08</td>\n",
              "      <td>C_ID_d639edf6cd</td>\n",
              "      <td>2</td>\n",
              "      <td>2</td>\n",
              "      <td>0</td>\n",
              "      <td>0.688056</td>\n",
              "      <td>3.0</td>\n",
              "      <td>6.0</td>\n",
              "      <td>12.0</td>\n",
              "      <td>A</td>\n",
              "      <td>A</td>\n",
              "    </tr>\n",
              "    <tr>\n",
              "      <th>3</th>\n",
              "      <td>2017-09</td>\n",
              "      <td>C_ID_186d6a6901</td>\n",
              "      <td>4</td>\n",
              "      <td>3</td>\n",
              "      <td>0</td>\n",
              "      <td>0.142495</td>\n",
              "      <td>3.0</td>\n",
              "      <td>6.0</td>\n",
              "      <td>11.0</td>\n",
              "      <td>A</td>\n",
              "      <td>A</td>\n",
              "    </tr>\n",
              "    <tr>\n",
              "      <th>4</th>\n",
              "      <td>2017-11</td>\n",
              "      <td>C_ID_cdbd2c0db2</td>\n",
              "      <td>1</td>\n",
              "      <td>3</td>\n",
              "      <td>0</td>\n",
              "      <td>-0.159749</td>\n",
              "      <td>3.0</td>\n",
              "      <td>6.0</td>\n",
              "      <td>12.0</td>\n",
              "      <td>D</td>\n",
              "      <td>D</td>\n",
              "    </tr>\n",
              "  </tbody>\n",
              "</table>\n",
              "</div>"
            ],
            "text/plain": [
              "  first_active_month  ... most_recent_purchases_range\n",
              "0            2017-06  ...                           A\n",
              "1            2017-01  ...                           A\n",
              "2            2016-08  ...                           A\n",
              "3            2017-09  ...                           A\n",
              "4            2017-11  ...                           D\n",
              "\n",
              "[5 rows x 11 columns]"
            ]
          },
          "metadata": {
            "tags": []
          },
          "execution_count": 33
        }
      ]
    },
    {
      "cell_type": "code",
      "metadata": {
        "id": "WUrj3U0jpbn-"
      },
      "source": [
        "train_aggregated_2.to_csv('train_aggregated_2.csv')"
      ],
      "execution_count": null,
      "outputs": []
    },
    {
      "cell_type": "code",
      "metadata": {
        "id": "TwSAqQK5DU9e"
      },
      "source": [
        "#Read the csv file if needed\n",
        "train_aggregated_2 = pd.read_csv('train_aggregated_2.csv')"
      ],
      "execution_count": null,
      "outputs": []
    },
    {
      "cell_type": "markdown",
      "metadata": {
        "id": "dU_SWdQYlE3b"
      },
      "source": [
        "#### Plotting the active months against the target variable(loyalty score)"
      ]
    },
    {
      "cell_type": "code",
      "metadata": {
        "id": "maNkomNBk4W6",
        "outputId": "ad0ee23e-49e4-44b8-f70e-65b6fa6f1fed",
        "colab": {
          "base_uri": "https://localhost:8080/",
          "height": 678
        }
      },
      "source": [
        "fig, ax = plt.subplots(1,3, figsize = (15,10))\n",
        "sns.boxplot(x=train_aggregated_2['active_months_lag3'], y=train_aggregated_2['target'], ax = ax[0])\n",
        "sns.boxplot(x=train_aggregated_2['active_months_lag6'], y=train_aggregated_2['target'], ax = ax[1])\n",
        "sns.boxplot(x=train_aggregated_2['active_months_lag12'], y=train_aggregated_2['target'], ax = ax[2])\n",
        "plt.suptitle('Active Months lag against loyalty scores', fontsize = 20)\n",
        "plt.show()"
      ],
      "execution_count": null,
      "outputs": [
        {
          "output_type": "display_data",
          "data": {
            "image/png": "[encoded data removed]",
            "text/plain": [
              "<Figure size 1080x720 with 3 Axes>"
            ]
          },
          "metadata": {
            "tags": [],
            "needs_background": "light"
          }
        }
      ]
    },
    {
      "cell_type": "markdown",
      "metadata": {
        "id": "GMqQ5xAdmn9S"
      },
      "source": [
        "As we can observe here, the cards with less number of active months have a low loyalty score. \n",
        "<br>\n",
        "We can see a lot of variance here. These active months columns might be useful as features."
      ]
    },
    {
      "cell_type": "markdown",
      "metadata": {
        "id": "q_2wPZMfQc-m"
      },
      "source": [
        "#### Plotting the purchases and sales range against the loyalty score"
      ]
    },
    {
      "cell_type": "code",
      "metadata": {
        "id": "NAq8F2Funl3k",
        "outputId": "91b93a16-ac05-4e80-99b0-cb8b7502518c",
        "colab": {
          "base_uri": "https://localhost:8080/",
          "height": 119
        }
      },
      "source": [
        "train_aggregated_2['most_recent_sales_range'].value_counts()"
      ],
      "execution_count": null,
      "outputs": [
        {
          "output_type": "execute_result",
          "data": {
            "text/plain": [
              "A    91036\n",
              "C    53555\n",
              "B    28396\n",
              "D    24260\n",
              "E     4670\n",
              "Name: most_recent_sales_range, dtype: int64"
            ]
          },
          "metadata": {
            "tags": []
          },
          "execution_count": 35
        }
      ]
    },
    {
      "cell_type": "code",
      "metadata": {
        "id": "f7yuYO81ohco",
        "outputId": "992c2d61-9f09-4e48-bf5a-fbb87cf23b97",
        "colab": {
          "base_uri": "https://localhost:8080/",
          "height": 241
        }
      },
      "source": [
        "train_aggregated_2.head()"
      ],
      "execution_count": null,
      "outputs": [
        {
          "output_type": "execute_result",
          "data": {
            "text/html": [
              "<div>\n",
              "<style scoped>\n",
              "    .dataframe tbody tr th:only-of-type {\n",
              "        vertical-align: middle;\n",
              "    }\n",
              "\n",
              "    .dataframe tbody tr th {\n",
              "        vertical-align: top;\n",
              "    }\n",
              "\n",
              "    .dataframe thead th {\n",
              "        text-align: right;\n",
              "    }\n",
              "</style>\n",
              "<table border=\"1\" class=\"dataframe\">\n",
              "  <thead>\n",
              "    <tr style=\"text-align: right;\">\n",
              "      <th></th>\n",
              "      <th>Unnamed: 0</th>\n",
              "      <th>first_active_month</th>\n",
              "      <th>card_id</th>\n",
              "      <th>feature_1</th>\n",
              "      <th>feature_2</th>\n",
              "      <th>feature_3</th>\n",
              "      <th>target</th>\n",
              "      <th>active_months_lag3</th>\n",
              "      <th>active_months_lag6</th>\n",
              "      <th>active_months_lag12</th>\n",
              "      <th>most_recent_sales_range</th>\n",
              "      <th>most_recent_purchases_range</th>\n",
              "    </tr>\n",
              "  </thead>\n",
              "  <tbody>\n",
              "    <tr>\n",
              "      <th>0</th>\n",
              "      <td>0</td>\n",
              "      <td>2017-06</td>\n",
              "      <td>C_ID_92a2005557</td>\n",
              "      <td>5</td>\n",
              "      <td>2</td>\n",
              "      <td>1</td>\n",
              "      <td>-0.820283</td>\n",
              "      <td>3.0</td>\n",
              "      <td>6.0</td>\n",
              "      <td>12.0</td>\n",
              "      <td>C</td>\n",
              "      <td>A</td>\n",
              "    </tr>\n",
              "    <tr>\n",
              "      <th>1</th>\n",
              "      <td>1</td>\n",
              "      <td>2017-01</td>\n",
              "      <td>C_ID_3d0044924f</td>\n",
              "      <td>4</td>\n",
              "      <td>1</td>\n",
              "      <td>0</td>\n",
              "      <td>0.392913</td>\n",
              "      <td>3.0</td>\n",
              "      <td>6.0</td>\n",
              "      <td>12.0</td>\n",
              "      <td>A</td>\n",
              "      <td>A</td>\n",
              "    </tr>\n",
              "    <tr>\n",
              "      <th>2</th>\n",
              "      <td>2</td>\n",
              "      <td>2016-08</td>\n",
              "      <td>C_ID_d639edf6cd</td>\n",
              "      <td>2</td>\n",
              "      <td>2</td>\n",
              "      <td>0</td>\n",
              "      <td>0.688056</td>\n",
              "      <td>3.0</td>\n",
              "      <td>6.0</td>\n",
              "      <td>12.0</td>\n",
              "      <td>A</td>\n",
              "      <td>A</td>\n",
              "    </tr>\n",
              "    <tr>\n",
              "      <th>3</th>\n",
              "      <td>3</td>\n",
              "      <td>2017-09</td>\n",
              "      <td>C_ID_186d6a6901</td>\n",
              "      <td>4</td>\n",
              "      <td>3</td>\n",
              "      <td>0</td>\n",
              "      <td>0.142495</td>\n",
              "      <td>3.0</td>\n",
              "      <td>6.0</td>\n",
              "      <td>11.0</td>\n",
              "      <td>A</td>\n",
              "      <td>A</td>\n",
              "    </tr>\n",
              "    <tr>\n",
              "      <th>4</th>\n",
              "      <td>4</td>\n",
              "      <td>2017-11</td>\n",
              "      <td>C_ID_cdbd2c0db2</td>\n",
              "      <td>1</td>\n",
              "      <td>3</td>\n",
              "      <td>0</td>\n",
              "      <td>-0.159749</td>\n",
              "      <td>3.0</td>\n",
              "      <td>6.0</td>\n",
              "      <td>12.0</td>\n",
              "      <td>D</td>\n",
              "      <td>D</td>\n",
              "    </tr>\n",
              "  </tbody>\n",
              "</table>\n",
              "</div>"
            ],
            "text/plain": [
              "   Unnamed: 0  ... most_recent_purchases_range\n",
              "0           0  ...                           A\n",
              "1           1  ...                           A\n",
              "2           2  ...                           A\n",
              "3           3  ...                           A\n",
              "4           4  ...                           D\n",
              "\n",
              "[5 rows x 12 columns]"
            ]
          },
          "metadata": {
            "tags": []
          },
          "execution_count": 10
        }
      ]
    },
    {
      "cell_type": "code",
      "metadata": {
        "id": "durIQrM4mXmW",
        "outputId": "0fd5ebec-554d-4741-bb35-7e81b13ebce3",
        "colab": {
          "base_uri": "https://localhost:8080/",
          "height": 678
        }
      },
      "source": [
        "fig, ax = plt.subplots(1,2, figsize = (15,10))\n",
        "sns.boxplot(x=train_aggregated_2['most_recent_sales_range'], y=train_aggregated_2['target'], ax = ax[0])\n",
        "sns.boxplot(x=train_aggregated_2['most_recent_purchases_range'], y=train_aggregated_2['target'], ax = ax[1])\n",
        "plt.suptitle('Most recent purchase and sales range(mode value for each card) against loyalty scores', fontsize = 20)\n",
        "plt.show()"
      ],
      "execution_count": null,
      "outputs": [
        {
          "output_type": "display_data",
          "data": {
            "image/png": "[encoded data removed]",
            "text/plain": [
              "<Figure size 1080x720 with 2 Axes>"
            ]
          },
          "metadata": {
            "tags": [],
            "needs_background": "light"
          }
        }
      ]
    },
    {
      "cell_type": "markdown",
      "metadata": {
        "id": "Rw-epK06PCIk"
      },
      "source": [
        "There isnt much that we can infer from here. \n",
        "<br>\n",
        "Still, these might be useful for the models.\n",
        "<br>\n",
        "Even here, we can see the rare data points evenly spaced at the bottom. "
      ]
    },
    {
      "cell_type": "markdown",
      "metadata": {
        "id": "QZatZBJzeRWX"
      },
      "source": [
        "### Average Purchase and Sales numerical measures"
      ]
    },
    {
      "cell_type": "code",
      "metadata": {
        "id": "isSI0EVzZbVE",
        "outputId": "153e730c-d428-40f3-a512-5c1270b9fba6",
        "colab": {
          "base_uri": "https://localhost:8080/",
          "height": 34
        }
      },
      "source": [
        "merchants.shape"
      ],
      "execution_count": null,
      "outputs": [
        {
          "output_type": "execute_result",
          "data": {
            "text/plain": [
              "(334696, 22)"
            ]
          },
          "metadata": {
            "tags": []
          },
          "execution_count": 14
        }
      ]
    },
    {
      "cell_type": "code",
      "metadata": {
        "id": "1RBi5lwrZvZu",
        "outputId": "171543b8-0b1f-4a69-eda8-af54a4437a27",
        "colab": {
          "base_uri": "https://localhost:8080/",
          "height": 34
        }
      },
      "source": [
        "merchants['avg_sales_lag3'].isna().sum()"
      ],
      "execution_count": null,
      "outputs": [
        {
          "output_type": "execute_result",
          "data": {
            "text/plain": [
              "13"
            ]
          },
          "metadata": {
            "tags": []
          },
          "execution_count": 12
        }
      ]
    },
    {
      "cell_type": "markdown",
      "metadata": {
        "id": "9y4rj8Hzah_w"
      },
      "source": [
        "So we have just 13 values that have Nan values.\n",
        "<br>\n",
        "We can fill these with mean value.\n",
        "<br>\n",
        "We can do the same for other sales and purchase avg columns as well."
      ]
    },
    {
      "cell_type": "code",
      "metadata": {
        "id": "anvTXxIcZ6FD"
      },
      "source": [
        "merchants['avg_sales_lag3'] = merchants['avg_sales_lag3'].fillna(merchants['avg_sales_lag3'].mean())\n",
        "merchants['avg_sales_lag6'] = merchants['avg_sales_lag6'].fillna(merchants['avg_sales_lag6'].mean())\n",
        "merchants['avg_sales_lag12'] = merchants['avg_sales_lag12'].fillna(merchants['avg_sales_lag12'].mean())\n",
        "merchants['avg_purchases_lag3'] = merchants['avg_purchases_lag3'].fillna(merchants['avg_purchases_lag3'].mean())\n",
        "merchants['avg_purchases_lag6'] = merchants['avg_purchases_lag6'].fillna(merchants['avg_purchases_lag6'].mean())\n",
        "merchants['avg_purchases_lag12'] = merchants['avg_purchases_lag12'].fillna(merchants['avg_purchases_lag12'].mean())"
      ],
      "execution_count": null,
      "outputs": []
    },
    {
      "cell_type": "code",
      "metadata": {
        "id": "nt8sec42cmTp",
        "outputId": "5e7ad7d8-6501-4321-a11e-f86712dedb25",
        "colab": {
          "base_uri": "https://localhost:8080/",
          "height": 356
        }
      },
      "source": [
        "fig, ax = plt.subplots(1,3, figsize=(15, 5))\n",
        "merchants['avg_sales_lag3'].value_counts().sort_index().plot(kind='kde', ax=ax[0])\n",
        "merchants['avg_sales_lag6'].value_counts().sort_index().plot(kind='kde', ax=ax[1])\n",
        "merchants['avg_sales_lag12'].value_counts().sort_index().plot(kind='kde', ax=ax[2])\n",
        "plt.suptitle('Distributions of Avg sales lags', fontsize=20)\n",
        "plt.show()"
      ],
      "execution_count": null,
      "outputs": [
        {
          "output_type": "display_data",
          "data": {
            "image/png": "[encoded data removed]",
            "text/plain": [
              "<Figure size 1080x360 with 3 Axes>"
            ]
          },
          "metadata": {
            "tags": [],
            "needs_background": "light"
          }
        }
      ]
    },
    {
      "cell_type": "code",
      "metadata": {
        "id": "CZMlPqGPgHiJ",
        "outputId": "5b11f019-74c4-4589-8bea-f889082ca22f",
        "colab": {
          "base_uri": "https://localhost:8080/",
          "height": 356
        }
      },
      "source": [
        "fig, ax = plt.subplots(1,3, figsize=(15, 5))\n",
        "merchants['avg_purchases_lag3'].value_counts().sort_index().plot(kind='kde', ax=ax[0])\n",
        "merchants['avg_purchases_lag6'].value_counts().sort_index().plot(kind='kde', ax=ax[1])\n",
        "merchants['avg_purchases_lag12'].value_counts().sort_index().plot(kind='kde', ax=ax[2])\n",
        "plt.suptitle(' Distributions of purchase sales lags', fontsize=20)\n",
        "plt.show()"
      ],
      "execution_count": null,
      "outputs": [
        {
          "output_type": "display_data",
          "data": {
            "image/png": "[encoded data removed]",
            "text/plain": [
              "<Figure size 1080x360 with 3 Axes>"
            ]
          },
          "metadata": {
            "tags": [],
            "needs_background": "light"
          }
        }
      ]
    },
    {
      "cell_type": "markdown",
      "metadata": {
        "id": "7gwoWw-Zi6IA"
      },
      "source": [
        "As observed all these sales ranges have most of the values around 0."
      ]
    },
    {
      "cell_type": "markdown",
      "metadata": {
        "id": "tPdWRGV9jWKZ"
      },
      "source": [
        "#### Combining with the transactions and train dataframe"
      ]
    },
    {
      "cell_type": "code",
      "metadata": {
        "id": "IxtD9CrjjVjR",
        "outputId": "f68b59d6-e0a8-451f-b4b8-b7db7aaaff13",
        "colab": {
          "base_uri": "https://localhost:8080/",
          "height": 241
        }
      },
      "source": [
        "merged_transactions.head()"
      ],
      "execution_count": null,
      "outputs": [
        {
          "output_type": "execute_result",
          "data": {
            "text/html": [
              "<div>\n",
              "<style scoped>\n",
              "    .dataframe tbody tr th:only-of-type {\n",
              "        vertical-align: middle;\n",
              "    }\n",
              "\n",
              "    .dataframe tbody tr th {\n",
              "        vertical-align: top;\n",
              "    }\n",
              "\n",
              "    .dataframe thead th {\n",
              "        text-align: right;\n",
              "    }\n",
              "</style>\n",
              "<table border=\"1\" class=\"dataframe\">\n",
              "  <thead>\n",
              "    <tr style=\"text-align: right;\">\n",
              "      <th></th>\n",
              "      <th>Unnamed: 0</th>\n",
              "      <th>card_id</th>\n",
              "      <th>merchant_id</th>\n",
              "      <th>most_recent_sales_range</th>\n",
              "      <th>most_recent_purchases_range</th>\n",
              "      <th>active_months_lag3</th>\n",
              "      <th>active_months_lag6</th>\n",
              "      <th>active_months_lag12</th>\n",
              "    </tr>\n",
              "  </thead>\n",
              "  <tbody>\n",
              "    <tr>\n",
              "      <th>0</th>\n",
              "      <td>0</td>\n",
              "      <td>C_ID_4e6213e9bc</td>\n",
              "      <td>M_ID_e020e9b302</td>\n",
              "      <td>A</td>\n",
              "      <td>A</td>\n",
              "      <td>3.0</td>\n",
              "      <td>6.0</td>\n",
              "      <td>12.0</td>\n",
              "    </tr>\n",
              "    <tr>\n",
              "      <th>1</th>\n",
              "      <td>1</td>\n",
              "      <td>C_ID_4e6213e9bc</td>\n",
              "      <td>M_ID_86ec983688</td>\n",
              "      <td>A</td>\n",
              "      <td>A</td>\n",
              "      <td>3.0</td>\n",
              "      <td>6.0</td>\n",
              "      <td>12.0</td>\n",
              "    </tr>\n",
              "    <tr>\n",
              "      <th>2</th>\n",
              "      <td>2</td>\n",
              "      <td>C_ID_4e6213e9bc</td>\n",
              "      <td>M_ID_979ed661fc</td>\n",
              "      <td>C</td>\n",
              "      <td>C</td>\n",
              "      <td>3.0</td>\n",
              "      <td>6.0</td>\n",
              "      <td>12.0</td>\n",
              "    </tr>\n",
              "    <tr>\n",
              "      <th>3</th>\n",
              "      <td>3</td>\n",
              "      <td>C_ID_4e6213e9bc</td>\n",
              "      <td>M_ID_e6d5ae8ea6</td>\n",
              "      <td>D</td>\n",
              "      <td>C</td>\n",
              "      <td>3.0</td>\n",
              "      <td>6.0</td>\n",
              "      <td>12.0</td>\n",
              "    </tr>\n",
              "    <tr>\n",
              "      <th>4</th>\n",
              "      <td>4</td>\n",
              "      <td>C_ID_4e6213e9bc</td>\n",
              "      <td>M_ID_e020e9b302</td>\n",
              "      <td>A</td>\n",
              "      <td>A</td>\n",
              "      <td>3.0</td>\n",
              "      <td>6.0</td>\n",
              "      <td>12.0</td>\n",
              "    </tr>\n",
              "  </tbody>\n",
              "</table>\n",
              "</div>"
            ],
            "text/plain": [
              "   Unnamed: 0          card_id  ... active_months_lag6 active_months_lag12\n",
              "0           0  C_ID_4e6213e9bc  ...                6.0                12.0\n",
              "1           1  C_ID_4e6213e9bc  ...                6.0                12.0\n",
              "2           2  C_ID_4e6213e9bc  ...                6.0                12.0\n",
              "3           3  C_ID_4e6213e9bc  ...                6.0                12.0\n",
              "4           4  C_ID_4e6213e9bc  ...                6.0                12.0\n",
              "\n",
              "[5 rows x 8 columns]"
            ]
          },
          "metadata": {
            "tags": []
          },
          "execution_count": 36
        }
      ]
    },
    {
      "cell_type": "code",
      "metadata": {
        "id": "zaK00O9KlRXo",
        "outputId": "dd516b38-c7a1-4eac-dd70-13b8aacada10",
        "colab": {
          "base_uri": "https://localhost:8080/",
          "height": 255
        }
      },
      "source": [
        "merged_merchants.head()"
      ],
      "execution_count": null,
      "outputs": [
        {
          "output_type": "execute_result",
          "data": {
            "text/html": [
              "<div>\n",
              "<style scoped>\n",
              "    .dataframe tbody tr th:only-of-type {\n",
              "        vertical-align: middle;\n",
              "    }\n",
              "\n",
              "    .dataframe tbody tr th {\n",
              "        vertical-align: top;\n",
              "    }\n",
              "\n",
              "    .dataframe thead th {\n",
              "        text-align: right;\n",
              "    }\n",
              "</style>\n",
              "<table border=\"1\" class=\"dataframe\">\n",
              "  <thead>\n",
              "    <tr style=\"text-align: right;\">\n",
              "      <th></th>\n",
              "      <th>avg_sales_lag3</th>\n",
              "      <th>avg_sales_lag6</th>\n",
              "      <th>avg_sales_lag12</th>\n",
              "      <th>avg_purchases_lag3</th>\n",
              "      <th>avg_purchases_lag6</th>\n",
              "      <th>avg_purchases_lag12</th>\n",
              "    </tr>\n",
              "    <tr>\n",
              "      <th>merchant_id</th>\n",
              "      <th></th>\n",
              "      <th></th>\n",
              "      <th></th>\n",
              "      <th></th>\n",
              "      <th></th>\n",
              "      <th></th>\n",
              "    </tr>\n",
              "  </thead>\n",
              "  <tbody>\n",
              "    <tr>\n",
              "      <th>M_ID_000025127f</th>\n",
              "      <td>1.29</td>\n",
              "      <td>1.26</td>\n",
              "      <td>1.08</td>\n",
              "      <td>1.880342</td>\n",
              "      <td>2.228632</td>\n",
              "      <td>2.089744</td>\n",
              "    </tr>\n",
              "    <tr>\n",
              "      <th>M_ID_0000699140</th>\n",
              "      <td>0.99</td>\n",
              "      <td>1.04</td>\n",
              "      <td>1.24</td>\n",
              "      <td>0.997832</td>\n",
              "      <td>1.002168</td>\n",
              "      <td>1.154878</td>\n",
              "    </tr>\n",
              "    <tr>\n",
              "      <th>M_ID_00006a5552</th>\n",
              "      <td>1.21</td>\n",
              "      <td>1.18</td>\n",
              "      <td>1.22</td>\n",
              "      <td>1.000000</td>\n",
              "      <td>1.000000</td>\n",
              "      <td>1.035714</td>\n",
              "    </tr>\n",
              "    <tr>\n",
              "      <th>M_ID_000087311e</th>\n",
              "      <td>0.93</td>\n",
              "      <td>0.95</td>\n",
              "      <td>0.78</td>\n",
              "      <td>1.314815</td>\n",
              "      <td>1.300926</td>\n",
              "      <td>1.261574</td>\n",
              "    </tr>\n",
              "    <tr>\n",
              "      <th>M_ID_0000ab0b2d</th>\n",
              "      <td>1.05</td>\n",
              "      <td>0.99</td>\n",
              "      <td>1.06</td>\n",
              "      <td>1.089897</td>\n",
              "      <td>1.057279</td>\n",
              "      <td>1.135640</td>\n",
              "    </tr>\n",
              "  </tbody>\n",
              "</table>\n",
              "</div>"
            ],
            "text/plain": [
              "                 avg_sales_lag3  ...  avg_purchases_lag12\n",
              "merchant_id                      ...                     \n",
              "M_ID_000025127f            1.29  ...             2.089744\n",
              "M_ID_0000699140            0.99  ...             1.154878\n",
              "M_ID_00006a5552            1.21  ...             1.035714\n",
              "M_ID_000087311e            0.93  ...             1.261574\n",
              "M_ID_0000ab0b2d            1.05  ...             1.135640\n",
              "\n",
              "[5 rows x 6 columns]"
            ]
          },
          "metadata": {
            "tags": []
          },
          "execution_count": 38
        }
      ]
    },
    {
      "cell_type": "code",
      "metadata": {
        "id": "gJ-HgXMUmBQx",
        "outputId": "276f7adf-f150-4b6e-d062-df2a974bf23a",
        "colab": {
          "base_uri": "https://localhost:8080/",
          "height": 419
        }
      },
      "source": [
        "merchants[['merchant_id', 'avg_sales_lag3']]"
      ],
      "execution_count": null,
      "outputs": [
        {
          "output_type": "execute_result",
          "data": {
            "text/html": [
              "<div>\n",
              "<style scoped>\n",
              "    .dataframe tbody tr th:only-of-type {\n",
              "        vertical-align: middle;\n",
              "    }\n",
              "\n",
              "    .dataframe tbody tr th {\n",
              "        vertical-align: top;\n",
              "    }\n",
              "\n",
              "    .dataframe thead th {\n",
              "        text-align: right;\n",
              "    }\n",
              "</style>\n",
              "<table border=\"1\" class=\"dataframe\">\n",
              "  <thead>\n",
              "    <tr style=\"text-align: right;\">\n",
              "      <th></th>\n",
              "      <th>merchant_id</th>\n",
              "      <th>avg_sales_lag3</th>\n",
              "    </tr>\n",
              "  </thead>\n",
              "  <tbody>\n",
              "    <tr>\n",
              "      <th>0</th>\n",
              "      <td>M_ID_838061e48c</td>\n",
              "      <td>-0.400000</td>\n",
              "    </tr>\n",
              "    <tr>\n",
              "      <th>1</th>\n",
              "      <td>M_ID_9339d880ad</td>\n",
              "      <td>-0.720000</td>\n",
              "    </tr>\n",
              "    <tr>\n",
              "      <th>2</th>\n",
              "      <td>M_ID_e726bbae1e</td>\n",
              "      <td>-82.129997</td>\n",
              "    </tr>\n",
              "    <tr>\n",
              "      <th>3</th>\n",
              "      <td>M_ID_a70e9c5f81</td>\n",
              "      <td>13.839176</td>\n",
              "    </tr>\n",
              "    <tr>\n",
              "      <th>4</th>\n",
              "      <td>M_ID_64456c37ce</td>\n",
              "      <td>13.839176</td>\n",
              "    </tr>\n",
              "    <tr>\n",
              "      <th>...</th>\n",
              "      <td>...</td>\n",
              "      <td>...</td>\n",
              "    </tr>\n",
              "    <tr>\n",
              "      <th>334691</th>\n",
              "      <td>M_ID_1f4773aa76</td>\n",
              "      <td>1.000000</td>\n",
              "    </tr>\n",
              "    <tr>\n",
              "      <th>334692</th>\n",
              "      <td>M_ID_725a60d404</td>\n",
              "      <td>0.890000</td>\n",
              "    </tr>\n",
              "    <tr>\n",
              "      <th>334693</th>\n",
              "      <td>M_ID_f2045dd267</td>\n",
              "      <td>0.960000</td>\n",
              "    </tr>\n",
              "    <tr>\n",
              "      <th>334694</th>\n",
              "      <td>M_ID_9139332ccc</td>\n",
              "      <td>0.940000</td>\n",
              "    </tr>\n",
              "    <tr>\n",
              "      <th>334695</th>\n",
              "      <td>M_ID_cd2c0b07e9</td>\n",
              "      <td>0.900000</td>\n",
              "    </tr>\n",
              "  </tbody>\n",
              "</table>\n",
              "<p>334696 rows × 2 columns</p>\n",
              "</div>"
            ],
            "text/plain": [
              "            merchant_id  avg_sales_lag3\n",
              "0       M_ID_838061e48c       -0.400000\n",
              "1       M_ID_9339d880ad       -0.720000\n",
              "2       M_ID_e726bbae1e      -82.129997\n",
              "3       M_ID_a70e9c5f81       13.839176\n",
              "4       M_ID_64456c37ce       13.839176\n",
              "...                 ...             ...\n",
              "334691  M_ID_1f4773aa76        1.000000\n",
              "334692  M_ID_725a60d404        0.890000\n",
              "334693  M_ID_f2045dd267        0.960000\n",
              "334694  M_ID_9139332ccc        0.940000\n",
              "334695  M_ID_cd2c0b07e9        0.900000\n",
              "\n",
              "[334696 rows x 2 columns]"
            ]
          },
          "metadata": {
            "tags": []
          },
          "execution_count": 42
        }
      ]
    },
    {
      "cell_type": "code",
      "metadata": {
        "id": "o_SHTHI1ldmA"
      },
      "source": [
        "merged_transactions = pd.merge(merged_transactions, \\\n",
        "                               merchants[['merchant_id', 'avg_sales_lag3', \\\n",
        "                                          'avg_sales_lag6', 'avg_sales_lag12', \\\n",
        "                                          'avg_purchases_lag3', 'avg_purchases_lag6', \\\n",
        "                                          'avg_purchases_lag12']], on='merchant_id', how='left')"
      ],
      "execution_count": null,
      "outputs": []
    },
    {
      "cell_type": "code",
      "metadata": {
        "id": "cs6iTSK5m91L",
        "outputId": "f055a06b-f886-45aa-dfd9-9ecfe1d7a973",
        "colab": {
          "base_uri": "https://localhost:8080/",
          "height": 241
        }
      },
      "source": [
        "merged_transactions.head()"
      ],
      "execution_count": null,
      "outputs": [
        {
          "output_type": "execute_result",
          "data": {
            "text/html": [
              "<div>\n",
              "<style scoped>\n",
              "    .dataframe tbody tr th:only-of-type {\n",
              "        vertical-align: middle;\n",
              "    }\n",
              "\n",
              "    .dataframe tbody tr th {\n",
              "        vertical-align: top;\n",
              "    }\n",
              "\n",
              "    .dataframe thead th {\n",
              "        text-align: right;\n",
              "    }\n",
              "</style>\n",
              "<table border=\"1\" class=\"dataframe\">\n",
              "  <thead>\n",
              "    <tr style=\"text-align: right;\">\n",
              "      <th></th>\n",
              "      <th>Unnamed: 0</th>\n",
              "      <th>card_id</th>\n",
              "      <th>merchant_id</th>\n",
              "      <th>most_recent_sales_range</th>\n",
              "      <th>most_recent_purchases_range</th>\n",
              "      <th>active_months_lag3</th>\n",
              "      <th>active_months_lag6</th>\n",
              "      <th>active_months_lag12</th>\n",
              "      <th>avg_sales_lag3</th>\n",
              "      <th>avg_sales_lag6</th>\n",
              "      <th>avg_sales_lag12</th>\n",
              "      <th>avg_purchases_lag3</th>\n",
              "      <th>avg_purchases_lag6</th>\n",
              "      <th>avg_purchases_lag12</th>\n",
              "    </tr>\n",
              "  </thead>\n",
              "  <tbody>\n",
              "    <tr>\n",
              "      <th>0</th>\n",
              "      <td>0</td>\n",
              "      <td>C_ID_4e6213e9bc</td>\n",
              "      <td>M_ID_e020e9b302</td>\n",
              "      <td>A</td>\n",
              "      <td>A</td>\n",
              "      <td>3.0</td>\n",
              "      <td>6.0</td>\n",
              "      <td>12.0</td>\n",
              "      <td>1.08</td>\n",
              "      <td>1.14</td>\n",
              "      <td>1.19</td>\n",
              "      <td>1.082451</td>\n",
              "      <td>1.114135</td>\n",
              "      <td>1.156844</td>\n",
              "    </tr>\n",
              "    <tr>\n",
              "      <th>1</th>\n",
              "      <td>1</td>\n",
              "      <td>C_ID_4e6213e9bc</td>\n",
              "      <td>M_ID_86ec983688</td>\n",
              "      <td>A</td>\n",
              "      <td>A</td>\n",
              "      <td>3.0</td>\n",
              "      <td>6.0</td>\n",
              "      <td>12.0</td>\n",
              "      <td>1.06</td>\n",
              "      <td>1.06</td>\n",
              "      <td>1.05</td>\n",
              "      <td>1.052071</td>\n",
              "      <td>1.058605</td>\n",
              "      <td>1.062087</td>\n",
              "    </tr>\n",
              "    <tr>\n",
              "      <th>2</th>\n",
              "      <td>2</td>\n",
              "      <td>C_ID_4e6213e9bc</td>\n",
              "      <td>M_ID_979ed661fc</td>\n",
              "      <td>C</td>\n",
              "      <td>C</td>\n",
              "      <td>3.0</td>\n",
              "      <td>6.0</td>\n",
              "      <td>12.0</td>\n",
              "      <td>0.98</td>\n",
              "      <td>0.98</td>\n",
              "      <td>0.97</td>\n",
              "      <td>0.974653</td>\n",
              "      <td>0.967058</td>\n",
              "      <td>0.956668</td>\n",
              "    </tr>\n",
              "    <tr>\n",
              "      <th>3</th>\n",
              "      <td>3</td>\n",
              "      <td>C_ID_4e6213e9bc</td>\n",
              "      <td>M_ID_e6d5ae8ea6</td>\n",
              "      <td>D</td>\n",
              "      <td>C</td>\n",
              "      <td>3.0</td>\n",
              "      <td>6.0</td>\n",
              "      <td>12.0</td>\n",
              "      <td>1.00</td>\n",
              "      <td>0.88</td>\n",
              "      <td>0.86</td>\n",
              "      <td>1.053443</td>\n",
              "      <td>0.897406</td>\n",
              "      <td>0.864394</td>\n",
              "    </tr>\n",
              "    <tr>\n",
              "      <th>4</th>\n",
              "      <td>4</td>\n",
              "      <td>C_ID_4e6213e9bc</td>\n",
              "      <td>M_ID_e020e9b302</td>\n",
              "      <td>A</td>\n",
              "      <td>A</td>\n",
              "      <td>3.0</td>\n",
              "      <td>6.0</td>\n",
              "      <td>12.0</td>\n",
              "      <td>1.08</td>\n",
              "      <td>1.14</td>\n",
              "      <td>1.19</td>\n",
              "      <td>1.082451</td>\n",
              "      <td>1.114135</td>\n",
              "      <td>1.156844</td>\n",
              "    </tr>\n",
              "  </tbody>\n",
              "</table>\n",
              "</div>"
            ],
            "text/plain": [
              "   Unnamed: 0          card_id  ... avg_purchases_lag6 avg_purchases_lag12\n",
              "0           0  C_ID_4e6213e9bc  ...           1.114135            1.156844\n",
              "1           1  C_ID_4e6213e9bc  ...           1.058605            1.062087\n",
              "2           2  C_ID_4e6213e9bc  ...           0.967058            0.956668\n",
              "3           3  C_ID_4e6213e9bc  ...           0.897406            0.864394\n",
              "4           4  C_ID_4e6213e9bc  ...           1.114135            1.156844\n",
              "\n",
              "[5 rows x 14 columns]"
            ]
          },
          "metadata": {
            "tags": []
          },
          "execution_count": 44
        }
      ]
    },
    {
      "cell_type": "code",
      "metadata": {
        "id": "bJse_T-Rj1ZA"
      },
      "source": [
        "merged_merchants_avgs = merged_transactions.groupby('card_id')[['avg_sales_lag3', 'avg_sales_lag6', 'avg_sales_lag12', \\\n",
        "                                                     'avg_purchases_lag3', 'avg_purchases_lag6', 'avg_purchases_lag12']].mean()\n",
        "                                            "
      ],
      "execution_count": null,
      "outputs": []
    },
    {
      "cell_type": "code",
      "metadata": {
        "id": "ni-5DjKjnUuN"
      },
      "source": [
        "train_aggregated_measures = pd.merge(train, merged_merchants_avgs, on='card_id', how='left')"
      ],
      "execution_count": null,
      "outputs": []
    },
    {
      "cell_type": "code",
      "metadata": {
        "id": "uofBKFc_n53v",
        "outputId": "8c27c1ef-e045-4f15-cf24-bf7675e4935f",
        "colab": {
          "base_uri": "https://localhost:8080/",
          "height": 224
        }
      },
      "source": [
        "train_aggregated_measures.head()"
      ],
      "execution_count": null,
      "outputs": [
        {
          "output_type": "execute_result",
          "data": {
            "text/html": [
              "<div>\n",
              "<style scoped>\n",
              "    .dataframe tbody tr th:only-of-type {\n",
              "        vertical-align: middle;\n",
              "    }\n",
              "\n",
              "    .dataframe tbody tr th {\n",
              "        vertical-align: top;\n",
              "    }\n",
              "\n",
              "    .dataframe thead th {\n",
              "        text-align: right;\n",
              "    }\n",
              "</style>\n",
              "<table border=\"1\" class=\"dataframe\">\n",
              "  <thead>\n",
              "    <tr style=\"text-align: right;\">\n",
              "      <th></th>\n",
              "      <th>first_active_month</th>\n",
              "      <th>card_id</th>\n",
              "      <th>feature_1</th>\n",
              "      <th>feature_2</th>\n",
              "      <th>feature_3</th>\n",
              "      <th>target</th>\n",
              "      <th>avg_sales_lag3</th>\n",
              "      <th>avg_sales_lag6</th>\n",
              "      <th>avg_sales_lag12</th>\n",
              "      <th>avg_purchases_lag3</th>\n",
              "      <th>avg_purchases_lag6</th>\n",
              "      <th>avg_purchases_lag12</th>\n",
              "    </tr>\n",
              "  </thead>\n",
              "  <tbody>\n",
              "    <tr>\n",
              "      <th>0</th>\n",
              "      <td>2017-06</td>\n",
              "      <td>C_ID_92a2005557</td>\n",
              "      <td>5</td>\n",
              "      <td>2</td>\n",
              "      <td>1</td>\n",
              "      <td>-0.820283</td>\n",
              "      <td>1.339315</td>\n",
              "      <td>6.678391</td>\n",
              "      <td>7.606884</td>\n",
              "      <td>1.698177</td>\n",
              "      <td>19.065290</td>\n",
              "      <td>20.986152</td>\n",
              "    </tr>\n",
              "    <tr>\n",
              "      <th>1</th>\n",
              "      <td>2017-01</td>\n",
              "      <td>C_ID_3d0044924f</td>\n",
              "      <td>4</td>\n",
              "      <td>1</td>\n",
              "      <td>0</td>\n",
              "      <td>0.392913</td>\n",
              "      <td>1.318741</td>\n",
              "      <td>2.104189</td>\n",
              "      <td>2.242470</td>\n",
              "      <td>1.611764</td>\n",
              "      <td>4.180565</td>\n",
              "      <td>4.506720</td>\n",
              "    </tr>\n",
              "    <tr>\n",
              "      <th>2</th>\n",
              "      <td>2016-08</td>\n",
              "      <td>C_ID_d639edf6cd</td>\n",
              "      <td>2</td>\n",
              "      <td>2</td>\n",
              "      <td>0</td>\n",
              "      <td>0.688056</td>\n",
              "      <td>1.260000</td>\n",
              "      <td>1.328723</td>\n",
              "      <td>1.340851</td>\n",
              "      <td>1.523936</td>\n",
              "      <td>1.674462</td>\n",
              "      <td>1.697953</td>\n",
              "    </tr>\n",
              "    <tr>\n",
              "      <th>3</th>\n",
              "      <td>2017-09</td>\n",
              "      <td>C_ID_186d6a6901</td>\n",
              "      <td>4</td>\n",
              "      <td>3</td>\n",
              "      <td>0</td>\n",
              "      <td>0.142495</td>\n",
              "      <td>1.895000</td>\n",
              "      <td>2.100250</td>\n",
              "      <td>2.111833</td>\n",
              "      <td>2.774899</td>\n",
              "      <td>3.224611</td>\n",
              "      <td>3.267965</td>\n",
              "    </tr>\n",
              "    <tr>\n",
              "      <th>4</th>\n",
              "      <td>2017-11</td>\n",
              "      <td>C_ID_cdbd2c0db2</td>\n",
              "      <td>1</td>\n",
              "      <td>3</td>\n",
              "      <td>0</td>\n",
              "      <td>-0.159749</td>\n",
              "      <td>2.486718</td>\n",
              "      <td>3.267436</td>\n",
              "      <td>3.394461</td>\n",
              "      <td>2.244964</td>\n",
              "      <td>5.087715</td>\n",
              "      <td>5.397057</td>\n",
              "    </tr>\n",
              "  </tbody>\n",
              "</table>\n",
              "</div>"
            ],
            "text/plain": [
              "  first_active_month          card_id  ...  avg_purchases_lag6  avg_purchases_lag12\n",
              "0            2017-06  C_ID_92a2005557  ...           19.065290            20.986152\n",
              "1            2017-01  C_ID_3d0044924f  ...            4.180565             4.506720\n",
              "2            2016-08  C_ID_d639edf6cd  ...            1.674462             1.697953\n",
              "3            2017-09  C_ID_186d6a6901  ...            3.224611             3.267965\n",
              "4            2017-11  C_ID_cdbd2c0db2  ...            5.087715             5.397057\n",
              "\n",
              "[5 rows x 12 columns]"
            ]
          },
          "metadata": {
            "tags": []
          },
          "execution_count": 49
        }
      ]
    },
    {
      "cell_type": "code",
      "metadata": {
        "id": "Xsuo0Kpwn9Sb"
      },
      "source": [
        "train_aggregated_measures.to_csv('train_aggregated_measures.csv')"
      ],
      "execution_count": null,
      "outputs": []
    },
    {
      "cell_type": "markdown",
      "metadata": {
        "id": "8vpuu2KojMbm"
      },
      "source": [
        "#### Plotting the average sales and purchase measures against loyalty scores"
      ]
    },
    {
      "cell_type": "code",
      "metadata": {
        "id": "o4R02qA2qUrb",
        "outputId": "af4cce55-21cf-4770-d85c-1b649704f2a6",
        "colab": {
          "base_uri": "https://localhost:8080/",
          "height": 282
        }
      },
      "source": [
        "sns.scatterplot(x='avg_sales_lag3', y='target', data=train_aggregated_measures)\n",
        "plt.show()"
      ],
      "execution_count": null,
      "outputs": [
        {
          "output_type": "display_data",
          "data": {
            "image/png": "[encoded data removed]",
            "text/plain": [
              "<Figure size 432x288 with 1 Axes>"
            ]
          },
          "metadata": {
            "tags": [],
            "needs_background": "light"
          }
        }
      ]
    },
    {
      "cell_type": "code",
      "metadata": {
        "id": "WgvsiwwSpaBo",
        "outputId": "1f13796d-6c00-4e80-c469-258e4db6eb52",
        "colab": {
          "base_uri": "https://localhost:8080/",
          "height": 282
        }
      },
      "source": [
        "sns.scatterplot(x='avg_sales_lag6', y='target', data=train_aggregated_measures)\n",
        "plt.show()"
      ],
      "execution_count": null,
      "outputs": [
        {
          "output_type": "display_data",
          "data": {
            "image/png": "[encoded data removed]",
            "text/plain": [
              "<Figure size 432x288 with 1 Axes>"
            ]
          },
          "metadata": {
            "tags": [],
            "needs_background": "light"
          }
        }
      ]
    },
    {
      "cell_type": "code",
      "metadata": {
        "id": "AFcNoUkmoEaC",
        "outputId": "dd0ae04c-528d-44f8-aa20-241ee2011acf",
        "colab": {
          "base_uri": "https://localhost:8080/",
          "height": 282
        }
      },
      "source": [
        "sns.scatterplot(x='avg_sales_lag12', y='target', data=train_aggregated_measures)\n",
        "plt.show()"
      ],
      "execution_count": null,
      "outputs": [
        {
          "output_type": "display_data",
          "data": {
            "image/png": "[encoded data removed]",
            "text/plain": [
              "<Figure size 432x288 with 1 Axes>"
            ]
          },
          "metadata": {
            "tags": [],
            "needs_background": "light"
          }
        }
      ]
    },
    {
      "cell_type": "markdown",
      "metadata": {
        "id": "U8Xwk5A0qCQ0"
      },
      "source": [
        "One more thing that we can observe here is that for our rare data points(loyalty score <-30) we can see that most of these have an avg_sales_lag12 <= 2500."
      ]
    },
    {
      "cell_type": "code",
      "metadata": {
        "id": "uWaotv5NocIZ",
        "outputId": "c44c32e1-13f9-4630-e0ba-501b3053d60e",
        "colab": {
          "base_uri": "https://localhost:8080/",
          "height": 519
        }
      },
      "source": [
        "bins = np.percentile(train_aggregated_measures[\"avg_sales_lag12\"], range(0,101,10))\n",
        "train_aggregated_measures['binned_avg_sales_lag12'] = pd.cut(train_aggregated_measures['avg_sales_lag12'], bins)\n",
        "\n",
        "plt.figure(figsize=(20,8))\n",
        "sns.boxplot(x=\"binned_avg_sales_lag12\", y=train_aggregated_measures['target'], data=train_aggregated_measures, showfliers=False)\n",
        "#plt.xticks(rotation='vertical')\n",
        "plt.xlabel('binned_avg_sales_lag12')\n",
        "plt.ylabel('Loyalty score')\n",
        "plt.title(\"Average sale range lag for each card plotted against loyalty scores\", fontsize = 20)\n",
        "plt.show()"
      ],
      "execution_count": null,
      "outputs": [
        {
          "output_type": "display_data",
          "data": {
            "image/png": "[encoded data removed]",
            "text/plain": [
              "<Figure size 1440x576 with 1 Axes>"
            ]
          },
          "metadata": {
            "tags": [],
            "needs_background": "light"
          }
        }
      ]
    },
    {
      "cell_type": "markdown",
      "metadata": {
        "id": "QlRRoTJdp2Cu"
      },
      "source": [
        "As we can see there is a lot of variance here and this can be very useful as a feature to predict loyalty scores."
      ]
    },
    {
      "cell_type": "code",
      "metadata": {
        "id": "RGY-ljysqZEC",
        "outputId": "d6c3607a-dcf0-46eb-ecb6-6044f2da4edc",
        "colab": {
          "base_uri": "https://localhost:8080/",
          "height": 282
        }
      },
      "source": [
        "sns.scatterplot(x='avg_purchases_lag3', y='target', data=train_aggregated_measures)\n",
        "plt.show()"
      ],
      "execution_count": null,
      "outputs": [
        {
          "output_type": "display_data",
          "data": {
            "image/png": "[encoded data removed]",
            "text/plain": [
              "<Figure size 432x288 with 1 Axes>"
            ]
          },
          "metadata": {
            "tags": [],
            "needs_background": "light"
          }
        }
      ]
    },
    {
      "cell_type": "code",
      "metadata": {
        "id": "2tIIqmaQqgV5",
        "outputId": "9194300e-a748-4c4f-ea98-f73537da0229",
        "colab": {
          "base_uri": "https://localhost:8080/",
          "height": 282
        }
      },
      "source": [
        "sns.scatterplot(x='avg_purchases_lag6', y='target', data=train_aggregated_measures)\n",
        "plt.show()"
      ],
      "execution_count": null,
      "outputs": [
        {
          "output_type": "display_data",
          "data": {
            "image/png": "[encoded data removed]",
            "text/plain": [
              "<Figure size 432x288 with 1 Axes>"
            ]
          },
          "metadata": {
            "tags": [],
            "needs_background": "light"
          }
        }
      ]
    },
    {
      "cell_type": "code",
      "metadata": {
        "id": "eaFlGUb8qkDi",
        "outputId": "2d06c61c-a562-4eaf-9532-b05632d228cb",
        "colab": {
          "base_uri": "https://localhost:8080/",
          "height": 282
        }
      },
      "source": [
        "sns.scatterplot(x='avg_purchases_lag12', y='target', data=train_aggregated_measures)\n",
        "plt.show()"
      ],
      "execution_count": null,
      "outputs": [
        {
          "output_type": "display_data",
          "data": {
            "image/png": "[encoded data removed]",
            "text/plain": [
              "<Figure size 432x288 with 1 Axes>"
            ]
          },
          "metadata": {
            "tags": [],
            "needs_background": "light"
          }
        }
      ]
    },
    {
      "cell_type": "markdown",
      "metadata": {
        "id": "7QPeY3t4rzgY"
      },
      "source": [
        "The same observation that for our rare data points(loyalty scores<=-30) the purchase range lag is less than 2000.\n",
        "<br>\n",
        "This can be a very useful feature as well for predicting the loyalty scores."
      ]
    },
    {
      "cell_type": "markdown",
      "metadata": {
        "id": "BuO1YH5belZk"
      },
      "source": [
        "# To Summarize:\n",
        "\n",
        "1. The target variable(Loyalty score) has 1% of its points that seem like outliers. Dealing with these points depends on the number of these points in the test data. In that case, these arent actually outliers. They can be termed as Rare data points. However, these points would be difficult to predict and could have a major impact on our final scores.\n",
        "2. The first active month in train file could be very useful.\n",
        "3. Aggregated transaction features for each card would be very helpful in predicting the loyalty score using the regression models. Most of our features would be from this file.\n",
        "4. Some features can be used from the merchants file as well. For eg, we can have a categorical variable that states if the transaction involved a merchant that was active in the last 3/6 or 12 months. The average purchases and sales ranges might be useful as well."
      ]
    }
  ]
}
