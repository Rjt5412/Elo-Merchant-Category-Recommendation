{
  "nbformat": 4,
  "nbformat_minor": 0,
  "metadata": {
    "colab": {
      "name": "Final_Blend_Model",
      "provenance": [],
      "collapsed_sections": []
    },
    "kernelspec": {
      "name": "python3",
      "display_name": "Python 3"
    }
  },
  "cells": [
    {
      "cell_type": "code",
      "metadata": {
        "id": "TsWpRhE-VaKJ",
        "outputId": "0cafd07b-d373-4b95-8b57-f7082bbeec50",
        "colab": {
          "base_uri": "https://localhost:8080/",
          "height": 34
        }
      },
      "source": [
        "from google.colab import drive\n",
        "drive.mount('/content/drive')"
      ],
      "execution_count": null,
      "outputs": [
        {
          "output_type": "stream",
          "text": [
            "Drive already mounted at /content/drive; to attempt to forcibly remount, call drive.mount(\"/content/drive\", force_remount=True).\n"
          ],
          "name": "stdout"
        }
      ]
    },
    {
      "cell_type": "code",
      "metadata": {
        "id": "hdVgFPzwVjWd",
        "outputId": "56acb311-e069-43ce-ca07-3ad55a924eb8",
        "colab": {
          "base_uri": "https://localhost:8080/",
          "height": 34
        }
      },
      "source": [
        "cd /content/drive/My Drive/Applied\\ AI\\ course\\ Assignments/Case\\ Study\\ 1"
      ],
      "execution_count": null,
      "outputs": [
        {
          "output_type": "stream",
          "text": [
            "/content/drive/My Drive/Applied AI course Assignments/Case Study 1\n"
          ],
          "name": "stdout"
        }
      ]
    },
    {
      "cell_type": "code",
      "metadata": {
        "id": "Q8ftsitrb9jf"
      },
      "source": [
        "import numpy as np\n",
        "import pandas as pd\n",
        "import matplotlib.pyplot as plt\n",
        "import seaborn as sns\n",
        "\n",
        "#from bayes_opt import BayesianOptimization\n",
        "from sklearn.model_selection import GridSearchCV\n",
        "from sklearn.model_selection import RandomizedSearchCV\n",
        "from sklearn.model_selection import train_test_split\n",
        "from sklearn.model_selection import StratifiedKFold, RepeatedKFold, KFold\n",
        "\n",
        "from sklearn.linear_model import BayesianRidge\n",
        "from sklearn.tree import DecisionTreeRegressor\n",
        "from sklearn.linear_model import LinearRegression\n",
        "from sklearn.linear_model import SGDRegressor\n",
        "from sklearn.ensemble import RandomForestRegressor\n",
        "\n",
        "import lightgbm as lgb\n",
        "import pickle\n",
        "\n",
        "from sklearn.metrics import f1_score\n",
        "from sklearn.metrics import roc_curve, auc, accuracy_score, roc_auc_score, log_loss\n",
        "\n",
        "from sklearn.metrics import mean_squared_error\n",
        "from math import sqrt\n",
        "\n",
        "import time\n",
        "import gc\n",
        "import warnings\n",
        "warnings.filterwarnings('ignore')"
      ],
      "execution_count": null,
      "outputs": []
    },
    {
      "cell_type": "code",
      "metadata": {
        "id": "t4FiFE7ciUPG"
      },
      "source": [
        "#https://www.kaggle.com/fabiendaniel/elo-world\n",
        "#Function to load data into pandas and reduce memory usage\n",
        "\n",
        "def reduce_mem_usage(df, verbose=True):\n",
        "    numerics = ['int16', 'int32', 'int64', 'float16', 'float32', 'float64']\n",
        "    start_mem = df.memory_usage().sum() / 1024**2    \n",
        "    for col in df.columns:\n",
        "        col_type = df[col].dtypes\n",
        "        if col_type in numerics:\n",
        "            c_min = df[col].min()\n",
        "            c_max = df[col].max()\n",
        "            if str(col_type)[:3] == 'int':\n",
        "                if c_min > np.iinfo(np.int8).min and c_max < np.iinfo(np.int8).max:\n",
        "                    df[col] = df[col].astype(np.int8)\n",
        "                elif c_min > np.iinfo(np.int16).min and c_max < np.iinfo(np.int16).max:\n",
        "                    df[col] = df[col].astype(np.int16)\n",
        "                elif c_min > np.iinfo(np.int32).min and c_max < np.iinfo(np.int32).max:\n",
        "                    df[col] = df[col].astype(np.int32)\n",
        "                elif c_min > np.iinfo(np.int64).min and c_max < np.iinfo(np.int64).max:\n",
        "                    df[col] = df[col].astype(np.int64)  \n",
        "            else:\n",
        "                if c_min > np.finfo(np.float16).min and c_max < np.finfo(np.float16).max:\n",
        "                    df[col] = df[col].astype(np.float16)\n",
        "                elif c_min > np.finfo(np.float32).min and c_max < np.finfo(np.float32).max:\n",
        "                    df[col] = df[col].astype(np.float32)\n",
        "                else:\n",
        "                    df[col] = df[col].astype(np.float64)    \n",
        "    end_mem = df.memory_usage().sum() / 1024**2\n",
        "    if verbose: print('Mem. usage decreased to {:5.2f} Mb ({:.1f}% reduction)'.format(end_mem, 100 * (start_mem - end_mem) / start_mem))\n",
        "    return df"
      ],
      "execution_count": null,
      "outputs": []
    },
    {
      "cell_type": "markdown",
      "metadata": {
        "id": "nCaWxeHXHk4I"
      },
      "source": [
        "# Data Prep"
      ]
    },
    {
      "cell_type": "code",
      "metadata": {
        "id": "iEHGJgyhHgY1",
        "outputId": "12ddbb1a-4389-4f4b-bd4f-47a895c3279d",
        "colab": {
          "base_uri": "https://localhost:8080/",
          "height": 51
        }
      },
      "source": [
        "train = reduce_mem_usage(pd.read_csv('New_Data_processed/train_features_without_merchant.csv', index_col=0))\n",
        "test = reduce_mem_usage(pd.read_csv('New_Data_processed/test_features_without_merchant.csv', index_col=0))"
      ],
      "execution_count": null,
      "outputs": [
        {
          "output_type": "stream",
          "text": [
            "Mem. usage decreased to 99.94 Mb (71.4% reduction)\n",
            "Mem. usage decreased to 62.01 Mb (70.9% reduction)\n"
          ],
          "name": "stdout"
        }
      ]
    },
    {
      "cell_type": "code",
      "metadata": {
        "id": "N0gyUXvSGEFD"
      },
      "source": [
        "with open('Low_and_High_prob_predictions/low_prob_test_predictions.pkl', 'rb') as f:\n",
        "  test_low_pred = pickle.load(f)\n",
        "\n",
        "with open('Low_and_High_prob_predictions/low_prob_train_predictions.pkl', 'rb') as f:\n",
        "  train_low_pred = pickle.load(f)\n",
        "\n",
        "with open('Low_and_High_prob_predictions/high_prob_train_predictions.pkl', 'rb') as f:\n",
        "  train_high_pred = pickle.load(f)\n",
        "\n",
        "with open('Low_and_High_prob_predictions/high_prob_test_predictions.pkl', 'rb') as f:\n",
        "  test_high_pred = pickle.load(f)\n",
        "\n",
        "#Load the full regression predictions\n",
        "\n",
        "with open('train_predictions_full_regression.pkl', 'rb') as f:\n",
        "  full_regression_train_preds = pickle.load(f)\n",
        "\n",
        "with open('test_predictions_full_regression.pkl', 'rb') as f:\n",
        "  full_regression_test_preds = pickle.load(f)\n"
      ],
      "execution_count": null,
      "outputs": []
    },
    {
      "cell_type": "code",
      "metadata": {
        "id": "Qz_-O3eeG-ZQ"
      },
      "source": [
        "train = train.merge(train_low_pred, on = 'card_id', how='left')\n",
        "train = train.merge(train_high_pred, on = 'card_id', how='left')\n",
        "train = train.merge(full_regression_train_preds, on = 'card_id', how='left')\n",
        "\n",
        "test = test.merge(test_low_pred, on = 'card_id', how='left')\n",
        "test = test.merge(test_high_pred, on = 'card_id', how='left')\n",
        "test = test.merge(full_regression_test_preds, on = 'card_id', how='left')"
      ],
      "execution_count": null,
      "outputs": []
    },
    {
      "cell_type": "code",
      "metadata": {
        "id": "tOcYEMNiI6rd"
      },
      "source": [
        "train_target = train['target']\n",
        "test_card_id = test['card_id']"
      ],
      "execution_count": null,
      "outputs": []
    },
    {
      "cell_type": "code",
      "metadata": {
        "id": "OslRwxsXIfst"
      },
      "source": [
        "columns = ['low_prob_score', 'high_prob_score', 'full_regression_prediction']\n",
        "train = train[columns]\n",
        "test = test[columns]"
      ],
      "execution_count": null,
      "outputs": []
    },
    {
      "cell_type": "markdown",
      "metadata": {
        "id": "AulF0tRKXvTj"
      },
      "source": [
        "# Full Blend Model:"
      ]
    },
    {
      "cell_type": "markdown",
      "metadata": {
        "id": "4VBE3Xl9elwK"
      },
      "source": [
        "Model: Maybe a DecisionTreeClassifier or simple BayesianRegression model."
      ]
    },
    {
      "cell_type": "code",
      "metadata": {
        "id": "EIpp__WNDZOD",
        "outputId": "d58e35e5-582f-4c6f-8de3-d0025fcf6029",
        "colab": {
          "base_uri": "https://localhost:8080/",
          "height": 119
        }
      },
      "source": [
        "folds_stack = KFold(n_splits=5, shuffle=True, random_state=4590)\n",
        "oof = np.zeros(train.shape[0])\n",
        "test_pred = np.zeros(test.shape[0])\n",
        "\n",
        "for fold_, (trn_idx, val_idx) in enumerate(folds_stack.split(train,train_target)):\n",
        "    print(\"fold {}\".format(fold_))\n",
        "    trn_data, trn_y = train.iloc[trn_idx], train_target.iloc[trn_idx]\n",
        "    val_data, val_y = train.iloc[val_idx], train_target.iloc[val_idx]\n",
        "    \n",
        "    clf_3 = BayesianRidge()\n",
        "    clf_3.fit(trn_data, trn_y)\n",
        "    \n",
        "    oof[val_idx] = clf_3.predict(val_data)\n",
        "    test_pred += clf_3.predict(test) / 5\n",
        "    \n",
        "print(\"CV RMSE:\", np.sqrt(mean_squared_error(train_target.values, oof)))"
      ],
      "execution_count": null,
      "outputs": [
        {
          "output_type": "stream",
          "text": [
            "fold 0\n",
            "fold 1\n",
            "fold 2\n",
            "fold 3\n",
            "fold 4\n",
            "CV RMSE: 3.647436629867345\n"
          ],
          "name": "stdout"
        }
      ]
    },
    {
      "cell_type": "markdown",
      "metadata": {
        "id": "QsSbCXhUX0wB"
      },
      "source": [
        "# Kaggle Submission"
      ]
    },
    {
      "cell_type": "code",
      "metadata": {
        "id": "RoS7fm3zX2bM"
      },
      "source": [
        "kaggle_submission = pd.DataFrame()\n",
        "kaggle_submission['card_id'] = test_card_id\n",
        "kaggle_submission['target'] = test_pred"
      ],
      "execution_count": null,
      "outputs": []
    },
    {
      "cell_type": "code",
      "metadata": {
        "id": "am8QXYnhB_x3"
      },
      "source": [
        "kaggle_submission.to_csv('final_blended_model.csv', index=0)"
      ],
      "execution_count": null,
      "outputs": []
    },
    {
      "cell_type": "markdown",
      "metadata": {
        "id": "e76WgSf2KK9E"
      },
      "source": [
        "# Observations:\n",
        "\n",
        "I have listed down the different concentration of outliers tried in low and high prob models along with their scores to observe the trend and tune the structure better. (Below mentioned are %age of outliers in training data of each model)\n",
        "\n",
        "    1. With same outlier concentrations as predicted from the classification model:\n",
        "        --> Low_prob: 0.34% and High_prob: 6.95% \n",
        "       The model is overfitting slightly. Since Kaggle score is 3.63712 and CV score is 3.625799. \n",
        "    2. With outlier concentration as :\n",
        "        --> Low_prob: 0.22% and High_prob: 25% \n",
        "        CV Score: 3.6380 and Kaggle score is 3.62621.\n",
        "    3. With outlier concentration as:\n",
        "        --> Low_prob: 0.11% and High_prob: 25%.\n",
        "        CV score: 3.641588 and Kaggle score: 3.62126\n",
        "    4. With outlier concentration as:\n",
        "        --> Low_prob: 0.11% and High_prob: 30%.\n",
        "        CV score: 3.6416316 and Kaggle score: 3.62116\n",
        "    5. With outlier concentration as:\n",
        "        --> Low_prob: 0.056% and High_prob: 50%.\n",
        "        CV score: 3.645108 and Kaggle score: 3.61925\n",
        "    6. With outlier concentration as:\n",
        "        --> Low_prob: 0.056% and High_prob: 70%.\n",
        "        CV score: 3.646318 and Kaggle score: 3.61896\n",
        "    7. With outlier concentration as:\n",
        "        --> Low_prob: 0.0056% and High_prob: 80%.\n",
        "        CV score: 3.64743 and Kaggle score: 3.61901(But overall public RMSE score decreased so its just a random increase in comparison)\n",
        "    "
      ]
    },
    {
      "cell_type": "markdown",
      "metadata": {
        "id": "N1EdW3tVJ9kO"
      },
      "source": [
        "The best kaggle score from this architecture(3.61896) was still slightly higher than the score from full regression model(3.61559)."
      ]
    },
    {
      "cell_type": "markdown",
      "metadata": {
        "id": "S3GzCk3fKgTE"
      },
      "source": [
        "![image.png](data:image/png;base64,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)"
      ]
    }
  ]
}
