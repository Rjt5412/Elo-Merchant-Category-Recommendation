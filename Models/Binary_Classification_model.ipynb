{
  "nbformat": 4,
  "nbformat_minor": 0,
  "metadata": {
    "colab": {
      "name": "Binary_Classification_model",
      "provenance": [],
      "collapsed_sections": []
    },
    "kernelspec": {
      "name": "python3",
      "display_name": "Python 3"
    }
  },
  "cells": [
    {
      "cell_type": "markdown",
      "metadata": {
        "id": "TvC5SICqcCBu"
      },
      "source": [
        "This model would be used to classify the rare points(loyalty score <= -30). This would help us identify these points and predict the loyalty scores better."
      ]
    },
    {
      "cell_type": "code",
      "metadata": {
        "id": "TsWpRhE-VaKJ",
        "outputId": "eed3f0fb-db6d-445e-fc5f-cc28791ab19b",
        "colab": {
          "base_uri": "https://localhost:8080/",
          "height": 34
        }
      },
      "source": [
        "from google.colab import drive\n",
        "drive.mount('/content/drive')"
      ],
      "execution_count": null,
      "outputs": [
        {
          "output_type": "stream",
          "text": [
            "Mounted at /content/drive\n"
          ],
          "name": "stdout"
        }
      ]
    },
    {
      "cell_type": "code",
      "metadata": {
        "id": "hdVgFPzwVjWd",
        "outputId": "30545489-a7c3-437a-bcab-cf514999045b",
        "colab": {
          "base_uri": "https://localhost:8080/",
          "height": 34
        }
      },
      "source": [
        "cd /content/drive/My Drive/Applied\\ AI\\ course\\ Assignments/Case\\ Study\\ 1"
      ],
      "execution_count": null,
      "outputs": [
        {
          "output_type": "stream",
          "text": [
            "/content/drive/My Drive/Applied AI course Assignments/Case Study 1\n"
          ],
          "name": "stdout"
        }
      ]
    },
    {
      "cell_type": "code",
      "metadata": {
        "id": "t3MzQ9mAhwqi",
        "outputId": "d4fcaec8-2955-413c-b23e-8ca62b096133",
        "colab": {
          "base_uri": "https://localhost:8080/",
          "height": 258
        }
      },
      "source": [
        "pip install bayesian-optimization"
      ],
      "execution_count": null,
      "outputs": [
        {
          "output_type": "stream",
          "text": [
            "Collecting bayesian-optimization\n",
            "  Downloading https://files.pythonhosted.org/packages/bb/7a/fd8059a3881d3ab37ac8f72f56b73937a14e8bb14a9733e68cc8b17dbe3c/bayesian-optimization-1.2.0.tar.gz\n",
            "Requirement already satisfied: numpy>=1.9.0 in /usr/local/lib/python3.6/dist-packages (from bayesian-optimization) (1.18.5)\n",
            "Requirement already satisfied: scipy>=0.14.0 in /usr/local/lib/python3.6/dist-packages (from bayesian-optimization) (1.4.1)\n",
            "Requirement already satisfied: scikit-learn>=0.18.0 in /usr/local/lib/python3.6/dist-packages (from bayesian-optimization) (0.22.2.post1)\n",
            "Requirement already satisfied: joblib>=0.11 in /usr/local/lib/python3.6/dist-packages (from scikit-learn>=0.18.0->bayesian-optimization) (0.16.0)\n",
            "Building wheels for collected packages: bayesian-optimization\n",
            "  Building wheel for bayesian-optimization (setup.py) ... \u001b[?25l\u001b[?25hdone\n",
            "  Created wheel for bayesian-optimization: filename=bayesian_optimization-1.2.0-cp36-none-any.whl size=11685 sha256=ca90c0b9eda19603bd296549adba0464af68a0d2cc422e29e5b8140f07cc6f43\n",
            "  Stored in directory: /root/.cache/pip/wheels/5a/56/ae/e0e3c1fc1954dc3ec712e2df547235ed072b448094d8f94aec\n",
            "Successfully built bayesian-optimization\n",
            "Installing collected packages: bayesian-optimization\n",
            "Successfully installed bayesian-optimization-1.2.0\n"
          ],
          "name": "stdout"
        }
      ]
    },
    {
      "cell_type": "code",
      "metadata": {
        "id": "Q8ftsitrb9jf"
      },
      "source": [
        "import numpy as np\n",
        "import pandas as pd\n",
        "import matplotlib.pyplot as plt\n",
        "import seaborn as sns\n",
        "\n",
        "from bayes_opt import BayesianOptimization\n",
        "from sklearn.model_selection import GridSearchCV\n",
        "from sklearn.model_selection import RandomizedSearchCV\n",
        "from sklearn.model_selection import train_test_split\n",
        "from sklearn.model_selection import StratifiedKFold, RepeatedKFold\n",
        "\n",
        "from sklearn.tree import DecisionTreeRegressor\n",
        "from sklearn.linear_model import LinearRegression\n",
        "from sklearn.linear_model import SGDRegressor\n",
        "from sklearn.ensemble import RandomForestRegressor\n",
        "\n",
        "import lightgbm as lgb\n",
        "import pickle\n",
        "\n",
        "from sklearn.metrics import f1_score\n",
        "from sklearn.metrics import roc_curve, auc, accuracy_score, roc_auc_score, log_loss, confusion_matrix, plot_confusion_matrix\n",
        "\n",
        "import time\n",
        "import gc\n",
        "import warnings\n",
        "warnings.filterwarnings('ignore')"
      ],
      "execution_count": null,
      "outputs": []
    },
    {
      "cell_type": "code",
      "metadata": {
        "id": "t4FiFE7ciUPG"
      },
      "source": [
        "#https://www.kaggle.com/fabiendaniel/elo-world\n",
        "#Function to load data into pandas and reduce memory usage\n",
        "\n",
        "def reduce_mem_usage(df, verbose=True):\n",
        "    numerics = ['int16', 'int32', 'int64', 'float16', 'float32', 'float64']\n",
        "    start_mem = df.memory_usage().sum() / 1024**2    \n",
        "    for col in df.columns:\n",
        "        col_type = df[col].dtypes\n",
        "        if col_type in numerics:\n",
        "            c_min = df[col].min()\n",
        "            c_max = df[col].max()\n",
        "            if str(col_type)[:3] == 'int':\n",
        "                if c_min > np.iinfo(np.int8).min and c_max < np.iinfo(np.int8).max:\n",
        "                    df[col] = df[col].astype(np.int8)\n",
        "                elif c_min > np.iinfo(np.int16).min and c_max < np.iinfo(np.int16).max:\n",
        "                    df[col] = df[col].astype(np.int16)\n",
        "                elif c_min > np.iinfo(np.int32).min and c_max < np.iinfo(np.int32).max:\n",
        "                    df[col] = df[col].astype(np.int32)\n",
        "                elif c_min > np.iinfo(np.int64).min and c_max < np.iinfo(np.int64).max:\n",
        "                    df[col] = df[col].astype(np.int64)  \n",
        "            else:\n",
        "                if c_min > np.finfo(np.float16).min and c_max < np.finfo(np.float16).max:\n",
        "                    df[col] = df[col].astype(np.float16)\n",
        "                elif c_min > np.finfo(np.float32).min and c_max < np.finfo(np.float32).max:\n",
        "                    df[col] = df[col].astype(np.float32)\n",
        "                else:\n",
        "                    df[col] = df[col].astype(np.float64)    \n",
        "    end_mem = df.memory_usage().sum() / 1024**2\n",
        "    if verbose: print('Mem. usage decreased to {:5.2f} Mb ({:.1f}% reduction)'.format(end_mem, 100 * (start_mem - end_mem) / start_mem))\n",
        "    return df"
      ],
      "execution_count": null,
      "outputs": []
    },
    {
      "cell_type": "markdown",
      "metadata": {
        "id": "BJ0i3Qe7S_qt"
      },
      "source": [
        "# Probability based Stack Model architecture:"
      ]
    },
    {
      "cell_type": "markdown",
      "metadata": {
        "id": "-diJwvja4gPm"
      },
      "source": [
        "Ref: https://www.kaggle.com/c/elo-merchant-category-recommendation/discussion/82314"
      ]
    },
    {
      "cell_type": "markdown",
      "metadata": {
        "id": "D3K6OOvbTLdY"
      },
      "source": [
        "![stacking.png](data:image/png;base64,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)"
      ]
    },
    {
      "cell_type": "markdown",
      "metadata": {
        "id": "dm_kw5QTkc2A"
      },
      "source": [
        "## Loading the data"
      ]
    },
    {
      "cell_type": "code",
      "metadata": {
        "id": "CRHFxazdiZf8",
        "outputId": "d746f522-9439-4c12-a834-06c649bbd3c4",
        "colab": {
          "base_uri": "https://localhost:8080/",
          "height": 51
        }
      },
      "source": [
        "train = reduce_mem_usage(pd.read_csv('New_Data_processed/train_features_without_merchant.csv', index_col=0))\n",
        "test = reduce_mem_usage(pd.read_csv('New_Data_processed/test_features_without_merchant.csv', index_col=0))"
      ],
      "execution_count": null,
      "outputs": [
        {
          "output_type": "stream",
          "text": [
            "Mem. usage decreased to 99.94 Mb (71.4% reduction)\n",
            "Mem. usage decreased to 62.01 Mb (70.9% reduction)\n"
          ],
          "name": "stdout"
        }
      ]
    },
    {
      "cell_type": "code",
      "metadata": {
        "id": "c9VV9kcO8fHl",
        "outputId": "4ec6da29-7158-4f64-af02-d850cb13071d",
        "colab": {
          "base_uri": "https://localhost:8080/",
          "height": 102
        }
      },
      "source": [
        "train.info()"
      ],
      "execution_count": null,
      "outputs": [
        {
          "output_type": "stream",
          "text": [
            "<class 'pandas.core.frame.DataFrame'>\n",
            "Int64Index: 201917 entries, 0 to 201916\n",
            "Columns: 226 entries, card_id to new_CLV\n",
            "dtypes: float16(172), float32(5), float64(10), int16(15), int32(2), int8(21), object(1)\n",
            "memory usage: 99.9+ MB\n"
          ],
          "name": "stdout"
        }
      ]
    },
    {
      "cell_type": "code",
      "metadata": {
        "id": "R_bQdRJ-8hbq",
        "outputId": "991adb1f-b17e-4d20-ce17-05d2e2745bc1",
        "colab": {
          "base_uri": "https://localhost:8080/",
          "height": 102
        }
      },
      "source": [
        "test.info()"
      ],
      "execution_count": null,
      "outputs": [
        {
          "output_type": "stream",
          "text": [
            "<class 'pandas.core.frame.DataFrame'>\n",
            "Int64Index: 123623 entries, 0 to 123622\n",
            "Columns: 225 entries, card_id to new_CLV\n",
            "dtypes: float16(171), float32(8), float64(10), int16(12), int32(3), int8(20), object(1)\n",
            "memory usage: 62.0+ MB\n"
          ],
          "name": "stdout"
        }
      ]
    },
    {
      "cell_type": "code",
      "metadata": {
        "id": "o-fW9ulxv3cj",
        "outputId": "e6181357-af18-4341-b15d-f5b4510db3e4",
        "colab": {
          "base_uri": "https://localhost:8080/",
          "height": 34
        }
      },
      "source": [
        "train.isna().sum().any()"
      ],
      "execution_count": null,
      "outputs": [
        {
          "output_type": "execute_result",
          "data": {
            "text/plain": [
              "False"
            ]
          },
          "metadata": {
            "tags": []
          },
          "execution_count": 9
        }
      ]
    },
    {
      "cell_type": "code",
      "metadata": {
        "id": "eoDqyuKOv6is",
        "outputId": "967de145-5a7a-4e42-9f99-7f7beadcd436",
        "colab": {
          "base_uri": "https://localhost:8080/",
          "height": 34
        }
      },
      "source": [
        "test.isna().any().sum() #target variable is Nan"
      ],
      "execution_count": null,
      "outputs": [
        {
          "output_type": "execute_result",
          "data": {
            "text/plain": [
              "3"
            ]
          },
          "metadata": {
            "tags": []
          },
          "execution_count": 11
        }
      ]
    },
    {
      "cell_type": "code",
      "metadata": {
        "id": "vjeXis7bv-v1"
      },
      "source": [
        "test['new_purchase_date_diff_now'].fillna(test['new_purchase_date_diff_now'].mode()[0], inplace=True) \n",
        "test['new_last_buy'].fillna(test['new_last_buy'].mode()[0], inplace=True) "
      ],
      "execution_count": null,
      "outputs": []
    },
    {
      "cell_type": "code",
      "metadata": {
        "id": "ESTDgOhbv_Tk",
        "outputId": "f5a46810-cdda-45e9-8b59-abc2b4bbc6e6",
        "colab": {
          "base_uri": "https://localhost:8080/",
          "height": 34
        }
      },
      "source": [
        "test.columns[test.isna().any()]"
      ],
      "execution_count": null,
      "outputs": [
        {
          "output_type": "execute_result",
          "data": {
            "text/plain": [
              "Index(['target'], dtype='object')"
            ]
          },
          "metadata": {
            "tags": []
          },
          "execution_count": 13
        }
      ]
    },
    {
      "cell_type": "code",
      "metadata": {
        "id": "6dfAwtCQjy52"
      },
      "source": [
        "y_data = train['rare_datapoints']\n",
        "train.drop(columns=['rare_datapoints', 'card_id', 'target'], axis=1, inplace=True)"
      ],
      "execution_count": null,
      "outputs": []
    },
    {
      "cell_type": "code",
      "metadata": {
        "id": "jxBiMQlClPFm",
        "outputId": "4402ced1-7a22-4e47-e092-d92732014651",
        "colab": {
          "base_uri": "https://localhost:8080/",
          "height": 68
        }
      },
      "source": [
        "y_data.value_counts()"
      ],
      "execution_count": null,
      "outputs": [
        {
          "output_type": "execute_result",
          "data": {
            "text/plain": [
              "0    199710\n",
              "1      2207\n",
              "Name: rare_datapoints, dtype: int64"
            ]
          },
          "metadata": {
            "tags": []
          },
          "execution_count": 15
        }
      ]
    },
    {
      "cell_type": "code",
      "metadata": {
        "id": "_1pC4FHnMyna"
      },
      "source": [
        "test.drop(columns=['card_id', 'target'], axis=1, inplace=True)"
      ],
      "execution_count": null,
      "outputs": []
    },
    {
      "cell_type": "markdown",
      "metadata": {
        "id": "xHEkvL2ui1Z1"
      },
      "source": [
        "## Hypertuning the model"
      ]
    },
    {
      "cell_type": "code",
      "metadata": {
        "id": "5EvoJAM7i1D_"
      },
      "source": [
        "def LGBM_CV(\n",
        "            num_leaves,\n",
        "            max_depth,\n",
        "            n_estimators,\n",
        "            min_split_gain,\n",
        "            subsample,\n",
        "            min_child_samples,\n",
        "            colsample_bytree,\n",
        "            reg_alpha,\n",
        "            reg_lambda\n",
        "):\n",
        "\n",
        "  folds = StratifiedKFold(n_splits = 3, shuffle=True, random_state=5)\n",
        "  oof = np.zeros(train.shape[0])\n",
        "\n",
        "  for fold_, (train_idx, val_idx) in enumerate(folds.split(X_train, y_train)):\n",
        "    print(\"Fold:\", fold_)\n",
        "    trn_data = lgb.Dataset(train.iloc[train_idx], label = y_data.iloc[train_idx])\n",
        "    val_data = lgb.Dataset(train.iloc[val_idx], label = y_data.iloc[val_idx])\n",
        "\n",
        "    params = {  \n",
        "                'task': 'train',\n",
        "                'objective' : 'binary',\n",
        "                'boosting_type' : 'goss',\n",
        "                'num_leaves' : int(num_leaves),\n",
        "                'max_depth' : int(max_depth),\n",
        "                'learning_rate' : 0.01,\n",
        "                'n_estimators' : int(n_estimators),\n",
        "                'is_unbalance' : True,\n",
        "                'min_split_gain' : min_split_gain,\n",
        "                'subsample' : subsample,\n",
        "                'min_child_samples' : int(min_child_samples),\n",
        "                'colsample_bytree' : colsample_bytree,\n",
        "                'n_jobs' : -1,\n",
        "                'reg_alpha' : reg_alpha,\n",
        "                'reg_lambda' : reg_lambda,\n",
        "                'metric': 'binary_logloss'\n",
        "    }\n",
        "\n",
        "    clf = lgb.train(params,\n",
        "                    trn_data,\n",
        "                    valid_sets = [trn_data, val_data],\n",
        "                    verbose_eval = 1000,\n",
        "                    early_stopping_rounds = 200\n",
        "                    )\n",
        "    \n",
        "    oof[val_idx] = clf.predict(train.iloc[val_idx])\n",
        "  \n",
        "  #oof = np.where(oof > 0.5, 1, 0) # Change predictions to 0-1 output\n",
        "  #Change the error metric if needed\n",
        "  return -log_loss(y_data, oof)"
      ],
      "execution_count": null,
      "outputs": []
    },
    {
      "cell_type": "code",
      "metadata": {
        "id": "bILmz1MT9RWS"
      },
      "source": [
        "LGB_BO = BayesianOptimization(LGBM_CV, {\n",
        "    'min_split_gain': (0, 1),\n",
        "    'subsample': (0, 1) ,\n",
        "    'min_child_samples': (10, 200),\n",
        "    'colsample_bytree': (0, 1),\n",
        "    'reg_alpha': (0, 1),\n",
        "    'reg_lambda': (0, 1),\n",
        "    'max_depth': (4, 10),\n",
        "    'num_leaves': (5, 200),\n",
        "    'n_estimators' : (10, 750)\n",
        "    })\n",
        "\n"
      ],
      "execution_count": null,
      "outputs": []
    },
    {
      "cell_type": "code",
      "metadata": {
        "id": "qzF4w_Uu-5O3",
        "outputId": "2372d8d0-ce0a-4a6d-8a25-2357509087cd",
        "colab": {
          "base_uri": "https://localhost:8080/",
          "height": 1000
        }
      },
      "source": [
        "start_time = time.time()\n",
        "with warnings.catch_warnings():\n",
        "    warnings.filterwarnings('ignore')\n",
        "    LGB_BO.maximize(init_points=2, n_iter=30, acq='ei', xi=0.0)\n",
        "    \n",
        "print(\"Time taken\", time.time()-start_time)\n",
        "print('-'*130)\n",
        "print('Final Results')\n",
        "print('Maximum  value: %f' % LGB_BO.max['target'])\n",
        "print('Best  parameters: ', LGB_BO.max['params'])"
      ],
      "execution_count": null,
      "outputs": [
        {
          "output_type": "stream",
          "text": [
            "|   iter    |  target   | colsam... | max_depth | min_ch... | min_sp... | n_esti... | num_le... | reg_alpha | reg_la... | subsample |\n",
            "-------------------------------------------------------------------------------------------------------------------------------------\n",
            "Fold: 0\n",
            "Training until validation scores don't improve for 200 rounds.\n",
            "Did not meet early stopping. Best iteration is:\n",
            "[2]\ttraining's binary_logloss: 0.0567351\tvalid_1's binary_logloss: 0.0554363\n",
            "Fold: 1\n",
            "Training until validation scores don't improve for 200 rounds.\n",
            "Did not meet early stopping. Best iteration is:\n",
            "[2]\ttraining's binary_logloss: 0.0565075\tvalid_1's binary_logloss: 0.0558807\n",
            "Fold: 2\n",
            "Training until validation scores don't improve for 200 rounds.\n",
            "Did not meet early stopping. Best iteration is:\n",
            "[2]\ttraining's binary_logloss: 0.0550725\tvalid_1's binary_logloss: 0.0577161\n",
            "| \u001b[0m 1       \u001b[0m | \u001b[0m-0.1239  \u001b[0m | \u001b[0m 0.125   \u001b[0m | \u001b[0m 4.001   \u001b[0m | \u001b[0m 101.8   \u001b[0m | \u001b[0m 0.9643  \u001b[0m | \u001b[0m 163.5   \u001b[0m | \u001b[0m 155.4   \u001b[0m | \u001b[0m 0.7511  \u001b[0m | \u001b[0m 0.3077  \u001b[0m | \u001b[0m 0.2372  \u001b[0m |\n",
            "Fold: 0\n",
            "Training until validation scores don't improve for 200 rounds.\n",
            "Early stopping, best iteration is:\n",
            "[1]\ttraining's binary_logloss: 0.0597671\tvalid_1's binary_logloss: 0.0582452\n",
            "Fold: 1\n",
            "Training until validation scores don't improve for 200 rounds.\n",
            "Early stopping, best iteration is:\n",
            "[1]\ttraining's binary_logloss: 0.0594563\tvalid_1's binary_logloss: 0.0588356\n",
            "Fold: 2\n",
            "Training until validation scores don't improve for 200 rounds.\n",
            "Early stopping, best iteration is:\n",
            "[1]\ttraining's binary_logloss: 0.0580696\tvalid_1's binary_logloss: 0.060845\n",
            "| \u001b[0m 2       \u001b[0m | \u001b[0m-0.1263  \u001b[0m | \u001b[0m 0.02276 \u001b[0m | \u001b[0m 4.623   \u001b[0m | \u001b[0m 80.59   \u001b[0m | \u001b[0m 0.7206  \u001b[0m | \u001b[0m 543.5   \u001b[0m | \u001b[0m 84.03   \u001b[0m | \u001b[0m 0.738   \u001b[0m | \u001b[0m 0.7371  \u001b[0m | \u001b[0m 0.6018  \u001b[0m |\n",
            "Fold: 0\n",
            "Training until validation scores don't improve for 200 rounds.\n",
            "Did not meet early stopping. Best iteration is:\n",
            "[2]\ttraining's binary_logloss: 0.0565408\tvalid_1's binary_logloss: 0.0551371\n",
            "Fold: 1\n",
            "Training until validation scores don't improve for 200 rounds.\n",
            "Did not meet early stopping. Best iteration is:\n",
            "[2]\ttraining's binary_logloss: 0.0563443\tvalid_1's binary_logloss: 0.0556065\n",
            "Fold: 2\n",
            "Training until validation scores don't improve for 200 rounds.\n",
            "Did not meet early stopping. Best iteration is:\n",
            "[2]\ttraining's binary_logloss: 0.0549504\tvalid_1's binary_logloss: 0.0573826\n",
            "| \u001b[95m 3       \u001b[0m | \u001b[95m-0.1237  \u001b[0m | \u001b[95m 0.7169  \u001b[0m | \u001b[95m 8.873   \u001b[0m | \u001b[95m 191.0   \u001b[0m | \u001b[95m 0.2569  \u001b[0m | \u001b[95m 15.86   \u001b[0m | \u001b[95m 6.063   \u001b[0m | \u001b[95m 0.8253  \u001b[0m | \u001b[95m 0.4147  \u001b[0m | \u001b[95m 0.8367  \u001b[0m |\n",
            "Fold: 0\n",
            "Training until validation scores don't improve for 200 rounds.\n",
            "Did not meet early stopping. Best iteration is:\n",
            "[2]\ttraining's binary_logloss: 0.0561772\tvalid_1's binary_logloss: 0.0551036\n",
            "Fold: 1\n",
            "Training until validation scores don't improve for 200 rounds.\n",
            "Did not meet early stopping. Best iteration is:\n",
            "[2]\ttraining's binary_logloss: 0.0558205\tvalid_1's binary_logloss: 0.0555912\n",
            "Fold: 2\n",
            "Training until validation scores don't improve for 200 rounds.\n",
            "Did not meet early stopping. Best iteration is:\n",
            "[2]\ttraining's binary_logloss: 0.0544886\tvalid_1's binary_logloss: 0.0573042\n",
            "| \u001b[95m 4       \u001b[0m | \u001b[95m-0.1237  \u001b[0m | \u001b[95m 0.2555  \u001b[0m | \u001b[95m 5.96    \u001b[0m | \u001b[95m 12.67   \u001b[0m | \u001b[95m 0.9923  \u001b[0m | \u001b[95m 10.29   \u001b[0m | \u001b[95m 126.5   \u001b[0m | \u001b[95m 0.477   \u001b[0m | \u001b[95m 0.2968  \u001b[0m | \u001b[95m 0.1759  \u001b[0m |\n",
            "Fold: 0\n",
            "Training until validation scores don't improve for 200 rounds.\n",
            "Did not meet early stopping. Best iteration is:\n",
            "[4]\ttraining's binary_logloss: 0.0538549\tvalid_1's binary_logloss: 0.054333\n",
            "Fold: 1\n",
            "Training until validation scores don't improve for 200 rounds.\n",
            "Did not meet early stopping. Best iteration is:\n",
            "[4]\ttraining's binary_logloss: 0.0536143\tvalid_1's binary_logloss: 0.0549665\n",
            "Fold: 2\n",
            "Training until validation scores don't improve for 200 rounds.\n",
            "Did not meet early stopping. Best iteration is:\n",
            "[4]\ttraining's binary_logloss: 0.0522612\tvalid_1's binary_logloss: 0.0565275\n",
            "| \u001b[95m 5       \u001b[0m | \u001b[95m-0.1231  \u001b[0m | \u001b[95m 0.2729  \u001b[0m | \u001b[95m 8.538   \u001b[0m | \u001b[95m 188.8   \u001b[0m | \u001b[95m 0.6651  \u001b[0m | \u001b[95m 11.9    \u001b[0m | \u001b[95m 199.6   \u001b[0m | \u001b[95m 0.3212  \u001b[0m | \u001b[95m 0.832   \u001b[0m | \u001b[95m 0.3968  \u001b[0m |\n",
            "Fold: 0\n",
            "Training until validation scores don't improve for 200 rounds.\n",
            "Did not meet early stopping. Best iteration is:\n",
            "[5]\ttraining's binary_logloss: 0.0518987\tvalid_1's binary_logloss: 0.0530823\n",
            "Fold: 1\n",
            "Training until validation scores don't improve for 200 rounds.\n",
            "Did not meet early stopping. Best iteration is:\n",
            "[4]\ttraining's binary_logloss: 0.0518469\tvalid_1's binary_logloss: 0.0536249\n",
            "Fold: 2\n",
            "Training until validation scores don't improve for 200 rounds.\n",
            "Did not meet early stopping. Best iteration is:\n",
            "[5]\ttraining's binary_logloss: 0.0503431\tvalid_1's binary_logloss: 0.0551254\n",
            "| \u001b[95m 6       \u001b[0m | \u001b[95m-0.122   \u001b[0m | \u001b[95m 0.6575  \u001b[0m | \u001b[95m 9.314   \u001b[0m | \u001b[95m 197.1   \u001b[0m | \u001b[95m 0.665   \u001b[0m | \u001b[95m 15.58   \u001b[0m | \u001b[95m 185.1   \u001b[0m | \u001b[95m 0.1846  \u001b[0m | \u001b[95m 0.9403  \u001b[0m | \u001b[95m 0.3163  \u001b[0m |\n",
            "Fold: 0\n",
            "Training until validation scores don't improve for 200 rounds.\n",
            "Did not meet early stopping. Best iteration is:\n",
            "[2]\ttraining's binary_logloss: 0.0559939\tvalid_1's binary_logloss: 0.0548075\n",
            "Fold: 1\n",
            "Training until validation scores don't improve for 200 rounds.\n",
            "Did not meet early stopping. Best iteration is:\n",
            "[2]\ttraining's binary_logloss: 0.0557226\tvalid_1's binary_logloss: 0.0552089\n",
            "Fold: 2\n",
            "Training until validation scores don't improve for 200 rounds.\n",
            "Did not meet early stopping. Best iteration is:\n",
            "[2]\ttraining's binary_logloss: 0.0543008\tvalid_1's binary_logloss: 0.056909\n",
            "| \u001b[0m 7       \u001b[0m | \u001b[0m-0.1234  \u001b[0m | \u001b[0m 0.8641  \u001b[0m | \u001b[0m 4.577   \u001b[0m | \u001b[0m 193.0   \u001b[0m | \u001b[0m 0.09601 \u001b[0m | \u001b[0m 26.36   \u001b[0m | \u001b[0m 190.8   \u001b[0m | \u001b[0m 0.9558  \u001b[0m | \u001b[0m 0.2669  \u001b[0m | \u001b[0m 0.3417  \u001b[0m |\n",
            "Fold: 0\n",
            "Training until validation scores don't improve for 200 rounds.\n",
            "Did not meet early stopping. Best iteration is:\n",
            "[2]\ttraining's binary_logloss: 0.0561875\tvalid_1's binary_logloss: 0.0548677\n",
            "Fold: 1\n",
            "Training until validation scores don't improve for 200 rounds.\n",
            "Did not meet early stopping. Best iteration is:\n",
            "[2]\ttraining's binary_logloss: 0.0557376\tvalid_1's binary_logloss: 0.0551821\n",
            "Fold: 2\n",
            "Training until validation scores don't improve for 200 rounds.\n",
            "Did not meet early stopping. Best iteration is:\n",
            "[2]\ttraining's binary_logloss: 0.0545366\tvalid_1's binary_logloss: 0.0570994\n",
            "| \u001b[0m 8       \u001b[0m | \u001b[0m-0.1234  \u001b[0m | \u001b[0m 0.3417  \u001b[0m | \u001b[0m 4.262   \u001b[0m | \u001b[0m 16.1    \u001b[0m | \u001b[0m 0.1403  \u001b[0m | \u001b[0m 17.71   \u001b[0m | \u001b[0m 192.7   \u001b[0m | \u001b[0m 0.5594  \u001b[0m | \u001b[0m 0.3848  \u001b[0m | \u001b[0m 0.1436  \u001b[0m |\n",
            "Fold: 0\n",
            "Training until validation scores don't improve for 200 rounds.\n",
            "Did not meet early stopping. Best iteration is:\n",
            "[2]\ttraining's binary_logloss: 0.0570551\tvalid_1's binary_logloss: 0.0556818\n",
            "Fold: 1\n",
            "Training until validation scores don't improve for 200 rounds.\n",
            "Did not meet early stopping. Best iteration is:\n",
            "[2]\ttraining's binary_logloss: 0.0567455\tvalid_1's binary_logloss: 0.0560843\n",
            "Fold: 2\n",
            "Training until validation scores don't improve for 200 rounds.\n",
            "Did not meet early stopping. Best iteration is:\n",
            "[2]\ttraining's binary_logloss: 0.0554904\tvalid_1's binary_logloss: 0.0578782\n",
            "| \u001b[0m 9       \u001b[0m | \u001b[0m-0.1241  \u001b[0m | \u001b[0m 0.2974  \u001b[0m | \u001b[0m 8.744   \u001b[0m | \u001b[0m 187.0   \u001b[0m | \u001b[0m 0.983   \u001b[0m | \u001b[0m 10.94   \u001b[0m | \u001b[0m 6.883   \u001b[0m | \u001b[0m 0.5944  \u001b[0m | \u001b[0m 0.1668  \u001b[0m | \u001b[0m 0.6033  \u001b[0m |\n",
            "Fold: 0\n",
            "Training until validation scores don't improve for 200 rounds.\n",
            "Did not meet early stopping. Best iteration is:\n",
            "[5]\ttraining's binary_logloss: 0.0517084\tvalid_1's binary_logloss: 0.0535132\n",
            "Fold: 1\n",
            "Training until validation scores don't improve for 200 rounds.\n",
            "Did not meet early stopping. Best iteration is:\n",
            "[5]\ttraining's binary_logloss: 0.0517156\tvalid_1's binary_logloss: 0.0540661\n",
            "Fold: 2\n",
            "Training until validation scores don't improve for 200 rounds.\n",
            "Did not meet early stopping. Best iteration is:\n",
            "[5]\ttraining's binary_logloss: 0.0505392\tvalid_1's binary_logloss: 0.0555377\n",
            "| \u001b[0m 10      \u001b[0m | \u001b[0m-0.1224  \u001b[0m | \u001b[0m 0.3418  \u001b[0m | \u001b[0m 9.822   \u001b[0m | \u001b[0m 176.7   \u001b[0m | \u001b[0m 0.3544  \u001b[0m | \u001b[0m 16.71   \u001b[0m | \u001b[0m 195.2   \u001b[0m | \u001b[0m 0.837   \u001b[0m | \u001b[0m 0.2984  \u001b[0m | \u001b[0m 0.6869  \u001b[0m |\n",
            "Fold: 0\n",
            "Training until validation scores don't improve for 200 rounds.\n",
            "Did not meet early stopping. Best iteration is:\n",
            "[2]\ttraining's binary_logloss: 0.0588939\tvalid_1's binary_logloss: 0.0576473\n",
            "Fold: 1\n",
            "Training until validation scores don't improve for 200 rounds.\n",
            "Did not meet early stopping. Best iteration is:\n",
            "[2]\ttraining's binary_logloss: 0.0587685\tvalid_1's binary_logloss: 0.05816\n",
            "Fold: 2\n",
            "Training until validation scores don't improve for 200 rounds.\n",
            "Did not meet early stopping. Best iteration is:\n",
            "[2]\ttraining's binary_logloss: 0.0571943\tvalid_1's binary_logloss: 0.0599366\n",
            "| \u001b[0m 11      \u001b[0m | \u001b[0m-0.1257  \u001b[0m | \u001b[0m 0.04097 \u001b[0m | \u001b[0m 4.943   \u001b[0m | \u001b[0m 199.5   \u001b[0m | \u001b[0m 0.8163  \u001b[0m | \u001b[0m 20.03   \u001b[0m | \u001b[0m 188.3   \u001b[0m | \u001b[0m 0.2124  \u001b[0m | \u001b[0m 0.9429  \u001b[0m | \u001b[0m 0.726   \u001b[0m |\n",
            "Fold: 0\n",
            "Training until validation scores don't improve for 200 rounds.\n",
            "Did not meet early stopping. Best iteration is:\n",
            "[3]\ttraining's binary_logloss: 0.0553143\tvalid_1's binary_logloss: 0.0545535\n",
            "Fold: 1\n",
            "Training until validation scores don't improve for 200 rounds.\n",
            "Did not meet early stopping. Best iteration is:\n",
            "[3]\ttraining's binary_logloss: 0.054934\tvalid_1's binary_logloss: 0.0548198\n",
            "Fold: 2\n",
            "Training until validation scores don't improve for 200 rounds.\n",
            "Did not meet early stopping. Best iteration is:\n",
            "[3]\ttraining's binary_logloss: 0.0535516\tvalid_1's binary_logloss: 0.0564717\n",
            "| \u001b[0m 12      \u001b[0m | \u001b[0m-0.1231  \u001b[0m | \u001b[0m 0.5888  \u001b[0m | \u001b[0m 5.828   \u001b[0m | \u001b[0m 11.97   \u001b[0m | \u001b[0m 0.2639  \u001b[0m | \u001b[0m 12.9    \u001b[0m | \u001b[0m 191.5   \u001b[0m | \u001b[0m 0.4455  \u001b[0m | \u001b[0m 0.5169  \u001b[0m | \u001b[0m 0.5049  \u001b[0m |\n",
            "Fold: 0\n",
            "Training until validation scores don't improve for 200 rounds.\n",
            "Did not meet early stopping. Best iteration is:\n",
            "[2]\ttraining's binary_logloss: 0.0565093\tvalid_1's binary_logloss: 0.0552782\n",
            "Fold: 1\n",
            "Training until validation scores don't improve for 200 rounds.\n",
            "Did not meet early stopping. Best iteration is:\n",
            "[2]\ttraining's binary_logloss: 0.0563662\tvalid_1's binary_logloss: 0.0556298\n",
            "Fold: 2\n",
            "Training until validation scores don't improve for 200 rounds.\n",
            "Did not meet early stopping. Best iteration is:\n",
            "[2]\ttraining's binary_logloss: 0.0548797\tvalid_1's binary_logloss: 0.0574948\n",
            "| \u001b[0m 13      \u001b[0m | \u001b[0m-0.1238  \u001b[0m | \u001b[0m 0.1189  \u001b[0m | \u001b[0m 5.261   \u001b[0m | \u001b[0m 22.74   \u001b[0m | \u001b[0m 0.02238 \u001b[0m | \u001b[0m 16.83   \u001b[0m | \u001b[0m 13.79   \u001b[0m | \u001b[0m 0.08533 \u001b[0m | \u001b[0m 0.7531  \u001b[0m | \u001b[0m 0.1832  \u001b[0m |\n",
            "Fold: 0\n",
            "Training until validation scores don't improve for 200 rounds.\n",
            "Did not meet early stopping. Best iteration is:\n",
            "[5]\ttraining's binary_logloss: 0.0504215\tvalid_1's binary_logloss: 0.0528392\n",
            "Fold: 1\n",
            "Training until validation scores don't improve for 200 rounds.\n",
            "Did not meet early stopping. Best iteration is:\n",
            "[5]\ttraining's binary_logloss: 0.0500838\tvalid_1's binary_logloss: 0.0530551\n",
            "Fold: 2\n",
            "Training until validation scores don't improve for 200 rounds.\n",
            "Did not meet early stopping. Best iteration is:\n",
            "[6]\ttraining's binary_logloss: 0.0488744\tvalid_1's binary_logloss: 0.0548199\n",
            "| \u001b[95m 14      \u001b[0m | \u001b[95m-0.1217  \u001b[0m | \u001b[95m 0.5451  \u001b[0m | \u001b[95m 9.952   \u001b[0m | \u001b[95m 10.44   \u001b[0m | \u001b[95m 0.5621  \u001b[0m | \u001b[95m 14.17   \u001b[0m | \u001b[95m 187.0   \u001b[0m | \u001b[95m 0.6491  \u001b[0m | \u001b[95m 0.05745 \u001b[0m | \u001b[95m 0.0843  \u001b[0m |\n",
            "Fold: 0\n",
            "Training until validation scores don't improve for 200 rounds.\n",
            "Did not meet early stopping. Best iteration is:\n",
            "[5]\ttraining's binary_logloss: 0.0532515\tvalid_1's binary_logloss: 0.0544732\n",
            "Fold: 1\n",
            "Training until validation scores don't improve for 200 rounds.\n",
            "Did not meet early stopping. Best iteration is:\n",
            "[5]\ttraining's binary_logloss: 0.0528228\tvalid_1's binary_logloss: 0.0548083\n",
            "Fold: 2\n",
            "Training until validation scores don't improve for 200 rounds.\n",
            "Did not meet early stopping. Best iteration is:\n",
            "[5]\ttraining's binary_logloss: 0.0513035\tvalid_1's binary_logloss: 0.0561746\n",
            "| \u001b[0m 15      \u001b[0m | \u001b[0m-0.123   \u001b[0m | \u001b[0m 0.2282  \u001b[0m | \u001b[0m 8.643   \u001b[0m | \u001b[0m 13.62   \u001b[0m | \u001b[0m 0.7541  \u001b[0m | \u001b[0m 12.48   \u001b[0m | \u001b[0m 198.8   \u001b[0m | \u001b[0m 0.3149  \u001b[0m | \u001b[0m 0.07945 \u001b[0m | \u001b[0m 0.1011  \u001b[0m |\n",
            "Fold: 0\n",
            "Training until validation scores don't improve for 200 rounds.\n",
            "Did not meet early stopping. Best iteration is:\n",
            "[2]\ttraining's binary_logloss: 0.0564744\tvalid_1's binary_logloss: 0.0551325\n",
            "Fold: 1\n",
            "Training until validation scores don't improve for 200 rounds.\n",
            "Did not meet early stopping. Best iteration is:\n",
            "[2]\ttraining's binary_logloss: 0.056247\tvalid_1's binary_logloss: 0.055494\n",
            "Fold: 2\n",
            "Training until validation scores don't improve for 200 rounds.\n",
            "Did not meet early stopping. Best iteration is:\n",
            "[2]\ttraining's binary_logloss: 0.0548154\tvalid_1's binary_logloss: 0.0572336\n",
            "| \u001b[0m 16      \u001b[0m | \u001b[0m-0.1236  \u001b[0m | \u001b[0m 0.9923  \u001b[0m | \u001b[0m 6.903   \u001b[0m | \u001b[0m 12.9    \u001b[0m | \u001b[0m 0.352   \u001b[0m | \u001b[0m 17.75   \u001b[0m | \u001b[0m 6.233   \u001b[0m | \u001b[0m 0.7866  \u001b[0m | \u001b[0m 0.9391  \u001b[0m | \u001b[0m 0.1524  \u001b[0m |\n",
            "Fold: 0\n",
            "Training until validation scores don't improve for 200 rounds.\n",
            "Did not meet early stopping. Best iteration is:\n",
            "[5]\ttraining's binary_logloss: 0.0530529\tvalid_1's binary_logloss: 0.0543736\n",
            "Fold: 1\n",
            "Training until validation scores don't improve for 200 rounds.\n",
            "Did not meet early stopping. Best iteration is:\n",
            "[4]\ttraining's binary_logloss: 0.0522144\tvalid_1's binary_logloss: 0.05407\n",
            "Fold: 2\n",
            "Training until validation scores don't improve for 200 rounds.\n",
            "Did not meet early stopping. Best iteration is:\n",
            "[5]\ttraining's binary_logloss: 0.050929\tvalid_1's binary_logloss: 0.0556513\n",
            "| \u001b[0m 17      \u001b[0m | \u001b[0m-0.1226  \u001b[0m | \u001b[0m 0.2805  \u001b[0m | \u001b[0m 8.404   \u001b[0m | \u001b[0m 11.36   \u001b[0m | \u001b[0m 0.4693  \u001b[0m | \u001b[0m 10.46   \u001b[0m | \u001b[0m 177.1   \u001b[0m | \u001b[0m 0.1329  \u001b[0m | \u001b[0m 0.4903  \u001b[0m | \u001b[0m 0.5946  \u001b[0m |\n",
            "Fold: 0\n",
            "Training until validation scores don't improve for 200 rounds.\n",
            "Did not meet early stopping. Best iteration is:\n",
            "[4]\ttraining's binary_logloss: 0.0531676\tvalid_1's binary_logloss: 0.0539304\n",
            "Fold: 1\n",
            "Training until validation scores don't improve for 200 rounds.\n",
            "Did not meet early stopping. Best iteration is:\n",
            "[4]\ttraining's binary_logloss: 0.0526272\tvalid_1's binary_logloss: 0.054285\n",
            "Fold: 2\n",
            "Training until validation scores don't improve for 200 rounds.\n",
            "Did not meet early stopping. Best iteration is:\n",
            "[5]\ttraining's binary_logloss: 0.0511102\tvalid_1's binary_logloss: 0.0557127\n",
            "| \u001b[0m 18      \u001b[0m | \u001b[0m-0.1226  \u001b[0m | \u001b[0m 0.2965  \u001b[0m | \u001b[0m 8.026   \u001b[0m | \u001b[0m 10.24   \u001b[0m | \u001b[0m 0.4962  \u001b[0m | \u001b[0m 22.17   \u001b[0m | \u001b[0m 198.1   \u001b[0m | \u001b[0m 0.187   \u001b[0m | \u001b[0m 0.9386  \u001b[0m | \u001b[0m 0.6012  \u001b[0m |\n",
            "Fold: 0\n",
            "Training until validation scores don't improve for 200 rounds.\n",
            "Early stopping, best iteration is:\n",
            "[4]\ttraining's binary_logloss: 0.0505595\tvalid_1's binary_logloss: 0.0525943\n",
            "Fold: 1\n",
            "Training until validation scores don't improve for 200 rounds.\n",
            "Early stopping, best iteration is:\n",
            "[4]\ttraining's binary_logloss: 0.0506223\tvalid_1's binary_logloss: 0.0532855\n",
            "Fold: 2\n",
            "Training until validation scores don't improve for 200 rounds.\n",
            "Early stopping, best iteration is:\n",
            "[5]\ttraining's binary_logloss: 0.0483458\tvalid_1's binary_logloss: 0.0546211\n",
            "| \u001b[95m 19      \u001b[0m | \u001b[95m-0.1217  \u001b[0m | \u001b[95m 0.723   \u001b[0m | \u001b[95m 9.182   \u001b[0m | \u001b[95m 15.33   \u001b[0m | \u001b[95m 0.8561  \u001b[0m | \u001b[95m 747.8   \u001b[0m | \u001b[95m 198.1   \u001b[0m | \u001b[95m 0.4521  \u001b[0m | \u001b[95m 0.07736 \u001b[0m | \u001b[95m 0.4539  \u001b[0m |\n",
            "Fold: 0\n",
            "Training until validation scores don't improve for 200 rounds.\n",
            "Early stopping, best iteration is:\n",
            "[4]\ttraining's binary_logloss: 0.0514302\tvalid_1's binary_logloss: 0.0530519\n",
            "Fold: 1\n",
            "Training until validation scores don't improve for 200 rounds.\n",
            "Early stopping, best iteration is:\n",
            "[3]\ttraining's binary_logloss: 0.0517718\tvalid_1's binary_logloss: 0.0535265\n",
            "Fold: 2\n",
            "Training until validation scores don't improve for 200 rounds.\n",
            "Early stopping, best iteration is:\n",
            "[4]\ttraining's binary_logloss: 0.0497498\tvalid_1's binary_logloss: 0.0547811\n",
            "| \u001b[0m 20      \u001b[0m | \u001b[0m-0.1219  \u001b[0m | \u001b[0m 0.8877  \u001b[0m | \u001b[0m 8.683   \u001b[0m | \u001b[0m 15.86   \u001b[0m | \u001b[0m 0.8642  \u001b[0m | \u001b[0m 743.6   \u001b[0m | \u001b[0m 197.1   \u001b[0m | \u001b[0m 0.3828  \u001b[0m | \u001b[0m 0.1264  \u001b[0m | \u001b[0m 0.7654  \u001b[0m |\n",
            "Fold: 0\n",
            "Training until validation scores don't improve for 200 rounds.\n",
            "Early stopping, best iteration is:\n",
            "[1]\ttraining's binary_logloss: 0.0595005\tvalid_1's binary_logloss: 0.0583035\n",
            "Fold: 1\n",
            "Training until validation scores don't improve for 200 rounds.\n",
            "Early stopping, best iteration is:\n",
            "[1]\ttraining's binary_logloss: 0.0590836\tvalid_1's binary_logloss: 0.0588354\n",
            "Fold: 2\n",
            "Training until validation scores don't improve for 200 rounds.\n",
            "Early stopping, best iteration is:\n",
            "[1]\ttraining's binary_logloss: 0.0578865\tvalid_1's binary_logloss: 0.0609643\n",
            "| \u001b[0m 21      \u001b[0m | \u001b[0m-0.1264  \u001b[0m | \u001b[0m 0.01646 \u001b[0m | \u001b[0m 7.255   \u001b[0m | \u001b[0m 23.56   \u001b[0m | \u001b[0m 0.2528  \u001b[0m | \u001b[0m 729.9   \u001b[0m | \u001b[0m 199.5   \u001b[0m | \u001b[0m 0.4276  \u001b[0m | \u001b[0m 0.2361  \u001b[0m | \u001b[0m 0.1451  \u001b[0m |\n",
            "Fold: 0\n",
            "Training until validation scores don't improve for 200 rounds.\n",
            "Did not meet early stopping. Best iteration is:\n",
            "[4]\ttraining's binary_logloss: 0.053375\tvalid_1's binary_logloss: 0.0539652\n",
            "Fold: 1\n",
            "Training until validation scores don't improve for 200 rounds.\n",
            "Did not meet early stopping. Best iteration is:\n",
            "[4]\ttraining's binary_logloss: 0.0528413\tvalid_1's binary_logloss: 0.054158\n",
            "Fold: 2\n",
            "Training until validation scores don't improve for 200 rounds.\n",
            "Did not meet early stopping. Best iteration is:\n",
            "[4]\ttraining's binary_logloss: 0.0515621\tvalid_1's binary_logloss: 0.0557479\n",
            "| \u001b[0m 22      \u001b[0m | \u001b[0m-0.1226  \u001b[0m | \u001b[0m 0.5458  \u001b[0m | \u001b[0m 7.202   \u001b[0m | \u001b[0m 27.96   \u001b[0m | \u001b[0m 0.2519  \u001b[0m | \u001b[0m 20.63   \u001b[0m | \u001b[0m 196.0   \u001b[0m | \u001b[0m 0.9333  \u001b[0m | \u001b[0m 0.1923  \u001b[0m | \u001b[0m 0.2305  \u001b[0m |\n",
            "Fold: 0\n",
            "Training until validation scores don't improve for 200 rounds.\n",
            "Did not meet early stopping. Best iteration is:\n",
            "[4]\ttraining's binary_logloss: 0.0531287\tvalid_1's binary_logloss: 0.054068\n",
            "Fold: 1\n",
            "Training until validation scores don't improve for 200 rounds.\n",
            "Did not meet early stopping. Best iteration is:\n",
            "[4]\ttraining's binary_logloss: 0.0528529\tvalid_1's binary_logloss: 0.0546337\n",
            "Fold: 2\n",
            "Training until validation scores don't improve for 200 rounds.\n",
            "Did not meet early stopping. Best iteration is:\n",
            "[5]\ttraining's binary_logloss: 0.051304\tvalid_1's binary_logloss: 0.0560956\n",
            "| \u001b[0m 23      \u001b[0m | \u001b[0m-0.1228  \u001b[0m | \u001b[0m 0.2686  \u001b[0m | \u001b[0m 8.23    \u001b[0m | \u001b[0m 11.09   \u001b[0m | \u001b[0m 0.9514  \u001b[0m | \u001b[0m 13.12   \u001b[0m | \u001b[0m 185.1   \u001b[0m | \u001b[0m 0.1528  \u001b[0m | \u001b[0m 0.602   \u001b[0m | \u001b[0m 0.7861  \u001b[0m |\n",
            "Fold: 0\n",
            "Training until validation scores don't improve for 200 rounds.\n",
            "Did not meet early stopping. Best iteration is:\n",
            "[2]\ttraining's binary_logloss: 0.0559721\tvalid_1's binary_logloss: 0.0548051\n",
            "Fold: 1\n",
            "Training until validation scores don't improve for 200 rounds.\n",
            "Did not meet early stopping. Best iteration is:\n",
            "[2]\ttraining's binary_logloss: 0.0556712\tvalid_1's binary_logloss: 0.0551714\n",
            "Fold: 2\n",
            "Training until validation scores don't improve for 200 rounds.\n",
            "Did not meet early stopping. Best iteration is:\n",
            "[2]\ttraining's binary_logloss: 0.0542713\tvalid_1's binary_logloss: 0.0568959\n",
            "| \u001b[0m 24      \u001b[0m | \u001b[0m-0.1234  \u001b[0m | \u001b[0m 0.8523  \u001b[0m | \u001b[0m 4.414   \u001b[0m | \u001b[0m 11.94   \u001b[0m | \u001b[0m 0.0385  \u001b[0m | \u001b[0m 17.58   \u001b[0m | \u001b[0m 190.2   \u001b[0m | \u001b[0m 0.197   \u001b[0m | \u001b[0m 0.344   \u001b[0m | \u001b[0m 0.06124 \u001b[0m |\n",
            "Fold: 0\n",
            "Training until validation scores don't improve for 200 rounds.\n",
            "Did not meet early stopping. Best iteration is:\n",
            "[4]\ttraining's binary_logloss: 0.053064\tvalid_1's binary_logloss: 0.0535424\n",
            "Fold: 1\n",
            "Training until validation scores don't improve for 200 rounds.\n",
            "Did not meet early stopping. Best iteration is:\n",
            "[4]\ttraining's binary_logloss: 0.0530149\tvalid_1's binary_logloss: 0.054155\n",
            "Fold: 2\n",
            "Training until validation scores don't improve for 200 rounds.\n",
            "Did not meet early stopping. Best iteration is:\n",
            "[4]\ttraining's binary_logloss: 0.0514972\tvalid_1's binary_logloss: 0.055672\n",
            "| \u001b[0m 25      \u001b[0m | \u001b[0m-0.1224  \u001b[0m | \u001b[0m 0.6361  \u001b[0m | \u001b[0m 7.296   \u001b[0m | \u001b[0m 19.55   \u001b[0m | \u001b[0m 0.3011  \u001b[0m | \u001b[0m 12.63   \u001b[0m | \u001b[0m 196.9   \u001b[0m | \u001b[0m 0.3999  \u001b[0m | \u001b[0m 0.3682  \u001b[0m | \u001b[0m 0.5105  \u001b[0m |\n",
            "Fold: 0\n",
            "Training until validation scores don't improve for 200 rounds.\n",
            "Early stopping, best iteration is:\n",
            "[2]\ttraining's binary_logloss: 0.056113\tvalid_1's binary_logloss: 0.0549635\n",
            "Fold: 1\n",
            "Training until validation scores don't improve for 200 rounds.\n",
            "Early stopping, best iteration is:\n",
            "[2]\ttraining's binary_logloss: 0.0557507\tvalid_1's binary_logloss: 0.0551989\n",
            "Fold: 2\n",
            "Training until validation scores don't improve for 200 rounds.\n",
            "Early stopping, best iteration is:\n",
            "[2]\ttraining's binary_logloss: 0.0544323\tvalid_1's binary_logloss: 0.0569854\n",
            "| \u001b[0m 26      \u001b[0m | \u001b[0m-0.1234  \u001b[0m | \u001b[0m 0.4698  \u001b[0m | \u001b[0m 4.228   \u001b[0m | \u001b[0m 180.7   \u001b[0m | \u001b[0m 0.6093  \u001b[0m | \u001b[0m 739.3   \u001b[0m | \u001b[0m 199.6   \u001b[0m | \u001b[0m 0.4362  \u001b[0m | \u001b[0m 0.8735  \u001b[0m | \u001b[0m 0.6837  \u001b[0m |\n",
            "Fold: 0\n",
            "Training until validation scores don't improve for 200 rounds.\n",
            "Did not meet early stopping. Best iteration is:\n",
            "[4]\ttraining's binary_logloss: 0.0524346\tvalid_1's binary_logloss: 0.0533677\n",
            "Fold: 1\n",
            "Training until validation scores don't improve for 200 rounds.\n",
            "Did not meet early stopping. Best iteration is:\n",
            "[4]\ttraining's binary_logloss: 0.0520723\tvalid_1's binary_logloss: 0.0538315\n",
            "Fold: 2\n",
            "Training until validation scores don't improve for 200 rounds.\n",
            "Did not meet early stopping. Best iteration is:\n",
            "[5]\ttraining's binary_logloss: 0.0505956\tvalid_1's binary_logloss: 0.0555408\n",
            "| \u001b[0m 27      \u001b[0m | \u001b[0m-0.1223  \u001b[0m | \u001b[0m 0.6829  \u001b[0m | \u001b[0m 8.25    \u001b[0m | \u001b[0m 197.6   \u001b[0m | \u001b[0m 0.4762  \u001b[0m | \u001b[0m 11.08   \u001b[0m | \u001b[0m 199.8   \u001b[0m | \u001b[0m 0.725   \u001b[0m | \u001b[0m 0.09556 \u001b[0m | \u001b[0m 0.5515  \u001b[0m |\n",
            "Fold: 0\n",
            "Training until validation scores don't improve for 200 rounds.\n",
            "Did not meet early stopping. Best iteration is:\n",
            "[2]\ttraining's binary_logloss: 0.0561098\tvalid_1's binary_logloss: 0.0549705\n",
            "Fold: 1\n",
            "Training until validation scores don't improve for 200 rounds.\n",
            "Did not meet early stopping. Best iteration is:\n",
            "[2]\ttraining's binary_logloss: 0.0557492\tvalid_1's binary_logloss: 0.0552705\n",
            "Fold: 2\n",
            "Training until validation scores don't improve for 200 rounds.\n",
            "Did not meet early stopping. Best iteration is:\n",
            "[2]\ttraining's binary_logloss: 0.0544486\tvalid_1's binary_logloss: 0.0570096\n",
            "| \u001b[0m 28      \u001b[0m | \u001b[0m-0.1235  \u001b[0m | \u001b[0m 0.4839  \u001b[0m | \u001b[0m 4.28    \u001b[0m | \u001b[0m 13.52   \u001b[0m | \u001b[0m 0.1916  \u001b[0m | \u001b[0m 22.17   \u001b[0m | \u001b[0m 199.5   \u001b[0m | \u001b[0m 0.5823  \u001b[0m | \u001b[0m 0.1884  \u001b[0m | \u001b[0m 0.2302  \u001b[0m |\n",
            "Fold: 0\n",
            "Training until validation scores don't improve for 200 rounds.\n",
            "Early stopping, best iteration is:\n",
            "[3]\ttraining's binary_logloss: 0.0529837\tvalid_1's binary_logloss: 0.053403\n",
            "Fold: 1\n",
            "Training until validation scores don't improve for 200 rounds.\n",
            "Early stopping, best iteration is:\n",
            "[3]\ttraining's binary_logloss: 0.0524236\tvalid_1's binary_logloss: 0.0536736\n",
            "Fold: 2\n",
            "Training until validation scores don't improve for 200 rounds.\n",
            "Early stopping, best iteration is:\n",
            "[4]\ttraining's binary_logloss: 0.0510184\tvalid_1's binary_logloss: 0.0554031\n",
            "| \u001b[0m 29      \u001b[0m | \u001b[0m-0.1222  \u001b[0m | \u001b[0m 0.5195  \u001b[0m | \u001b[0m 8.412   \u001b[0m | \u001b[0m 196.4   \u001b[0m | \u001b[0m 0.1853  \u001b[0m | \u001b[0m 714.4   \u001b[0m | \u001b[0m 199.5   \u001b[0m | \u001b[0m 0.1975  \u001b[0m | \u001b[0m 0.1977  \u001b[0m | \u001b[0m 0.8551  \u001b[0m |\n",
            "Fold: 0\n",
            "Training until validation scores don't improve for 200 rounds.\n",
            "Did not meet early stopping. Best iteration is:\n",
            "[5]\ttraining's binary_logloss: 0.051639\tvalid_1's binary_logloss: 0.0533744\n",
            "Fold: 1\n",
            "Training until validation scores don't improve for 200 rounds.\n",
            "Did not meet early stopping. Best iteration is:\n",
            "[4]\ttraining's binary_logloss: 0.0515494\tvalid_1's binary_logloss: 0.0536131\n",
            "Fold: 2\n",
            "Training until validation scores don't improve for 200 rounds.\n",
            "Did not meet early stopping. Best iteration is:\n",
            "[5]\ttraining's binary_logloss: 0.0498576\tvalid_1's binary_logloss: 0.0551062\n",
            "| \u001b[0m 30      \u001b[0m | \u001b[0m-0.1221  \u001b[0m | \u001b[0m 0.7955  \u001b[0m | \u001b[0m 9.483   \u001b[0m | \u001b[0m 189.4   \u001b[0m | \u001b[0m 0.1734  \u001b[0m | \u001b[0m 13.94   \u001b[0m | \u001b[0m 198.0   \u001b[0m | \u001b[0m 0.4478  \u001b[0m | \u001b[0m 0.264   \u001b[0m | \u001b[0m 0.07658 \u001b[0m |\n",
            "Fold: 0\n",
            "Training until validation scores don't improve for 200 rounds.\n",
            "Did not meet early stopping. Best iteration is:\n",
            "[3]\ttraining's binary_logloss: 0.0539031\tvalid_1's binary_logloss: 0.0541864\n",
            "Fold: 1\n",
            "Training until validation scores don't improve for 200 rounds.\n",
            "Did not meet early stopping. Best iteration is:\n",
            "[4]\ttraining's binary_logloss: 0.0536812\tvalid_1's binary_logloss: 0.0547486\n",
            "Fold: 2\n",
            "Training until validation scores don't improve for 200 rounds.\n",
            "Did not meet early stopping. Best iteration is:\n",
            "[4]\ttraining's binary_logloss: 0.0521809\tvalid_1's binary_logloss: 0.0564081\n",
            "| \u001b[0m 31      \u001b[0m | \u001b[0m-0.1229  \u001b[0m | \u001b[0m 0.07354 \u001b[0m | \u001b[0m 9.843   \u001b[0m | \u001b[0m 197.6   \u001b[0m | \u001b[0m 0.6836  \u001b[0m | \u001b[0m 37.2    \u001b[0m | \u001b[0m 199.6   \u001b[0m | \u001b[0m 0.9537  \u001b[0m | \u001b[0m 0.7358  \u001b[0m | \u001b[0m 0.8188  \u001b[0m |\n",
            "Fold: 0\n",
            "Training until validation scores don't improve for 200 rounds.\n",
            "Early stopping, best iteration is:\n",
            "[2]\ttraining's binary_logloss: 0.054599\tvalid_1's binary_logloss: 0.0538595\n",
            "Fold: 1\n",
            "Training until validation scores don't improve for 200 rounds.\n",
            "Early stopping, best iteration is:\n",
            "[2]\ttraining's binary_logloss: 0.0543069\tvalid_1's binary_logloss: 0.0543091\n",
            "Fold: 2\n",
            "Training until validation scores don't improve for 200 rounds.\n",
            "Early stopping, best iteration is:\n",
            "[3]\ttraining's binary_logloss: 0.0523668\tvalid_1's binary_logloss: 0.0557609\n",
            "| \u001b[0m 32      \u001b[0m | \u001b[0m-0.1226  \u001b[0m | \u001b[0m 0.9377  \u001b[0m | \u001b[0m 7.0     \u001b[0m | \u001b[0m 191.6   \u001b[0m | \u001b[0m 0.2813  \u001b[0m | \u001b[0m 727.3   \u001b[0m | \u001b[0m 195.7   \u001b[0m | \u001b[0m 0.1103  \u001b[0m | \u001b[0m 0.8181  \u001b[0m | \u001b[0m 0.671   \u001b[0m |\n",
            "=====================================================================================================================================\n",
            "Time taken 1012.8134279251099\n",
            "----------------------------------------------------------------------------------------------------------------------------------\n",
            "Final Results\n",
            "Maximum  value: -0.121656\n",
            "Best  parameters:  {'colsample_bytree': 0.722967786681799, 'max_depth': 9.182484245086371, 'min_child_samples': 15.334228740399418, 'min_split_gain': 0.856062296002521, 'n_estimators': 747.806800906879, 'num_leaves': 198.05078961493945, 'reg_alpha': 0.4520877630953888, 'reg_lambda': 0.07735875905930989, 'subsample': 0.4539292962975947}\n"
          ],
          "name": "stdout"
        }
      ]
    },
    {
      "cell_type": "markdown",
      "metadata": {
        "id": "qknkBz8hi4cf"
      },
      "source": [
        "## Training with the best parameters"
      ]
    },
    {
      "cell_type": "code",
      "metadata": {
        "id": "qEKQ8gj4jxr_"
      },
      "source": [
        "params = {\n",
        "          'colsample_bytree': 0.722967786681799, \n",
        "          'max_depth': 9, \n",
        "          'min_child_samples': 15, \n",
        "          'min_split_gain': 0.856062296002521, \n",
        "          'n_estimators': 747, \n",
        "          'num_leaves': 198, \n",
        "          'reg_alpha': 0.4520877630953888, \n",
        "          'reg_lambda': 0.07735875905930989, \n",
        "          'subsample': 0.4539292962975947\n",
        "          }"
      ],
      "execution_count": null,
      "outputs": []
    },
    {
      "cell_type": "markdown",
      "metadata": {
        "id": "4BwxiPMdivPn"
      },
      "source": [
        "Predict with OOF"
      ]
    },
    {
      "cell_type": "code",
      "metadata": {
        "id": "cQc3SYQeeb9H"
      },
      "source": [
        "\n",
        "#train_preds = np.zeros(X_train.shape[0])\n",
        "#test_predictions = np.zeros(X_test.shape[0])\n",
        "\n",
        "trn_data = lgb.Dataset(train, label = y_data)\n",
        "\n",
        "'''clf = lgbLGBMClassifier (\n",
        "    is_unbalance = True,\n",
        "    colsample_bytree = 0.6813895741400308, \n",
        "    max_depth = 9, \n",
        "    min_child_samples = 18, \n",
        "    min_split_gain = 0.8550956688228781, \n",
        "    n_estimators = 60, \n",
        "    num_leaves = 197, \n",
        "    reg_alpha = 0.5414829105846717, \n",
        "    reg_lambda = 0.3324063671273374, \n",
        "    subsample = 0.5169590052072766\n",
        ")\n",
        "\n",
        "clf.fit(X_train, y_train)\n",
        "\n",
        "'''\n",
        "clf = lgb.train(params,\n",
        "                trn_data,\n",
        "                10000,\n",
        "                verbose_eval=500\n",
        "                )"
      ],
      "execution_count": null,
      "outputs": []
    },
    {
      "cell_type": "code",
      "metadata": {
        "id": "goXMsxlRFC2W"
      },
      "source": [
        "train_preds = clf.predict(train)"
      ],
      "execution_count": null,
      "outputs": []
    },
    {
      "cell_type": "markdown",
      "metadata": {
        "id": "8YlIHvCnziVl"
      },
      "source": [
        "### Save the model"
      ]
    },
    {
      "cell_type": "code",
      "metadata": {
        "id": "7ieEk7mpzhhT"
      },
      "source": [
        "with open('Binary_Classification.pkl', 'wb') as f:\n",
        "  pickle.dump(clf, f)"
      ],
      "execution_count": null,
      "outputs": []
    },
    {
      "cell_type": "code",
      "metadata": {
        "id": "kPl8gYNuiQiF"
      },
      "source": [
        "#Load the model\n",
        "\n",
        "with open('Binary_Classification.pkl', 'rb') as f:\n",
        "  clf = pickle.load(f)\n",
        "  "
      ],
      "execution_count": null,
      "outputs": []
    },
    {
      "cell_type": "markdown",
      "metadata": {
        "id": "6qXg7iDwjbAD"
      },
      "source": [
        "## Results:\n"
      ]
    },
    {
      "cell_type": "markdown",
      "metadata": {
        "id": "AesRDIqJh-ir"
      },
      "source": [
        "### AUC score and plot:"
      ]
    },
    {
      "cell_type": "code",
      "metadata": {
        "id": "SbTTUgvPh-IE",
        "outputId": "2f50763d-9a2b-4b94-d62f-fb5bee42af46",
        "colab": {
          "base_uri": "https://localhost:8080/",
          "height": 295
        }
      },
      "source": [
        "plt.plot([0,1],[0,1], 'k--')\n",
        "\n",
        "\n",
        "#Train AUC\n",
        "fpr, tpr, threshold = roc_curve(y_data, train_preds)\n",
        "auc_score = roc_auc_score(y_data, train_preds)\n",
        "plt.plot(fpr, tpr, label=\"Train AUC:\"+str(auc_score))\n",
        "\n",
        "\n",
        "plt.legend()\n",
        "plt.xlabel(\"FPR\")\n",
        "plt.ylabel(\"TPR\")\n",
        "plt.title(\"ROC Curve\")\n",
        "plt.show()"
      ],
      "execution_count": null,
      "outputs": [
        {
          "output_type": "display_data",
          "data": {
            "image/png": "[encoded data removed]",
            "text/plain": [
              "<Figure size 432x288 with 1 Axes>"
            ]
          },
          "metadata": {
            "tags": [],
            "needs_background": "light"
          }
        }
      ]
    },
    {
      "cell_type": "markdown",
      "metadata": {
        "id": "Ga9O2aH2hnTu"
      },
      "source": [
        "### Confusion matrix"
      ]
    },
    {
      "cell_type": "code",
      "metadata": {
        "id": "FSRXYLvM6gOG"
      },
      "source": [
        "#https://stackoverflow.com/questions/19233771/sklearn-plot-confusion-matrix-with-labels\n",
        "\n",
        "def plot_confusion_matrix(cm,\n",
        "                          target_names,\n",
        "                          title='Confusion matrix',\n",
        "                          cmap=None,\n",
        "                          normalize=True):\n",
        "    \"\"\"\n",
        "    given a sklearn confusion matrix (cm), make a nice plot\n",
        "\n",
        "    Arguments\n",
        "    ---------\n",
        "    cm:           confusion matrix from sklearn.metrics.confusion_matrix\n",
        "\n",
        "    target_names: given classification classes such as [0, 1, 2]\n",
        "                  the class names, for example: ['high', 'medium', 'low']\n",
        "\n",
        "    title:        the text to display at the top of the matrix\n",
        "\n",
        "    cmap:         the gradient of the values displayed from matplotlib.pyplot.cm\n",
        "                  see http://matplotlib.org/examples/color/colormaps_reference.html\n",
        "                  plt.get_cmap('jet') or plt.cm.Blues\n",
        "\n",
        "    normalize:    If False, plot the raw numbers\n",
        "                  If True, plot the proportions\n",
        "\n",
        "    Usage\n",
        "    -----\n",
        "    plot_confusion_matrix(cm           = cm,                  # confusion matrix created by\n",
        "                                                              # sklearn.metrics.confusion_matrix\n",
        "                          normalize    = True,                # show proportions\n",
        "                          target_names = y_labels_vals,       # list of names of the classes\n",
        "                          title        = best_estimator_name) # title of graph\n",
        "\n",
        "    Citiation\n",
        "    ---------\n",
        "    http://scikit-learn.org/stable/auto_examples/model_selection/plot_confusion_matrix.html\n",
        "\n",
        "    \"\"\"\n",
        "    import matplotlib.pyplot as plt\n",
        "    import numpy as np\n",
        "    import itertools\n",
        "\n",
        "    accuracy = np.trace(cm) / np.sum(cm).astype('float')\n",
        "    misclass = 1 - accuracy\n",
        "\n",
        "    if cmap is None:\n",
        "        cmap = plt.get_cmap('Blues')\n",
        "\n",
        "    plt.figure(figsize=(8, 6))\n",
        "    plt.imshow(cm, interpolation='nearest', cmap=cmap)\n",
        "    plt.title(title)\n",
        "    plt.colorbar()\n",
        "\n",
        "    if target_names is not None:\n",
        "        tick_marks = np.arange(len(target_names))\n",
        "        plt.xticks(tick_marks, target_names, rotation=45)\n",
        "        plt.yticks(tick_marks, target_names)\n",
        "        plt.grid(False)\n",
        "\n",
        "    if normalize:\n",
        "        cm = cm.astype('float') / cm.sum(axis=1)[:, np.newaxis]\n",
        "\n",
        "\n",
        "    thresh = cm.max() / 1.5 if normalize else cm.max() / 2\n",
        "    for i, j in itertools.product(range(cm.shape[0]), range(cm.shape[1])):\n",
        "        if normalize:\n",
        "            plt.text(j, i, \"{:0.4f}\".format(cm[i, j]),\n",
        "                     horizontalalignment=\"center\",\n",
        "                     color=\"white\" if cm[i, j] > thresh else \"black\")\n",
        "        else:\n",
        "            plt.text(j, i, \"{:,}\".format(cm[i, j]),\n",
        "                     horizontalalignment=\"center\",\n",
        "                     color=\"white\" if cm[i, j] > thresh else \"black\")"
      ],
      "execution_count": null,
      "outputs": []
    },
    {
      "cell_type": "code",
      "metadata": {
        "id": "sWrPPb4RjhmQ",
        "outputId": "c5ea1097-37a0-4e02-8171-d35eb07f1467",
        "colab": {
          "base_uri": "https://localhost:8080/",
          "height": 426
        }
      },
      "source": [
        "#This is decided based on trial and error\n",
        "threshold = 0.020\n",
        "train_pred_labels = np.where(train_preds > threshold, 1, 0)\n",
        "#test_predictions_labels = np.where(test_predictions > threshold, 1, 0)\n",
        "\n",
        "print(\"Train accuracy:\", accuracy_score(train_pred_labels, y_data))\n",
        "print('*'*50)\n",
        "plot_confusion_matrix(confusion_matrix(train_pred_labels, y_data), target_names=[0,1], normalize=False, cmap= plt.get_cmap('plasma_r'))\n"
      ],
      "execution_count": null,
      "outputs": [
        {
          "output_type": "stream",
          "text": [
            "Train accuracy: 0.8917376942010826\n",
            "**************************************************\n"
          ],
          "name": "stdout"
        },
        {
          "output_type": "display_data",
          "data": {
            "image/png": "[encoded data removed]",
            "text/plain": [
              "<Figure size 576x432 with 2 Axes>"
            ]
          },
          "metadata": {
            "tags": [],
            "needs_background": "light"
          }
        }
      ]
    },
    {
      "cell_type": "code",
      "metadata": {
        "id": "Kis3VfvP0YOx"
      },
      "source": [
        "#Load the model\n",
        "\n",
        "with open('Binary_Classification.pkl', 'rb') as f:\n",
        "  clf = pickle.load(f)"
      ],
      "execution_count": null,
      "outputs": []
    },
    {
      "cell_type": "markdown",
      "metadata": {
        "id": "-GHvECiEjoBc"
      },
      "source": [
        "## Prob predictions for actual test data:"
      ]
    },
    {
      "cell_type": "code",
      "metadata": {
        "id": "nk51J1OZL3Ml"
      },
      "source": [
        "train_prob = clf.predict(train)\n",
        "test_prob = clf.predict(test)\n",
        "\n",
        "threshold = 0.020\n",
        "\n",
        "train_labels = np.where(train_prob > threshold, 1, 0)\n",
        "test_labels = np.where(test_prob > threshold, 1, 0)"
      ],
      "execution_count": null,
      "outputs": []
    },
    {
      "cell_type": "code",
      "metadata": {
        "id": "fWf_VXDrNcQJ",
        "outputId": "1c26376b-0c2f-461e-b36c-cc56b9a199b4",
        "colab": {
          "base_uri": "https://localhost:8080/",
          "height": 34
        }
      },
      "source": [
        "# Check accuracy on the train data\n",
        "\n",
        "print(\"Accuracy on entire train data:\", accuracy_score(train_labels, y_data))"
      ],
      "execution_count": null,
      "outputs": [
        {
          "output_type": "stream",
          "text": [
            "Accuracy on entire train data: 0.8917376942010826\n"
          ],
          "name": "stdout"
        }
      ]
    },
    {
      "cell_type": "code",
      "metadata": {
        "id": "91x0Asa4WX82"
      },
      "source": [
        "# Saving our predictions for further use\n",
        "with open('prob_labels_train.pkl', 'wb') as f:\n",
        "  pickle.dump(train_prob, f)\n",
        "\n",
        "with open('prob_labels_test.pkl', 'wb') as f:\n",
        "  pickle.dump(test_prob, f)\n"
      ],
      "execution_count": null,
      "outputs": []
    },
    {
      "cell_type": "code",
      "metadata": {
        "id": "qnvmErXfMtYq"
      },
      "source": [
        "# Saving our predictions for further use\n",
        "with open('predicted_labels_train.pkl', 'wb') as f:\n",
        "  pickle.dump(train_labels, f)\n",
        "\n",
        "with open('predicted_labels_test.pkl', 'wb') as f:\n",
        "  pickle.dump(test_labels, f)\n"
      ],
      "execution_count": null,
      "outputs": []
    }
  ]
}