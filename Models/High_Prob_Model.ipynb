{
  "nbformat": 4,
  "nbformat_minor": 0,
  "metadata": {
    "colab": {
      "name": "High_Prob_Model",
      "provenance": [],
      "collapsed_sections": []
    },
    "kernelspec": {
      "name": "python3",
      "display_name": "Python 3"
    }
  },
  "cells": [
    {
      "cell_type": "code",
      "metadata": {
        "id": "TsWpRhE-VaKJ",
        "outputId": "6ba0c8a2-da21-4228-e399-1052c0323637",
        "colab": {
          "base_uri": "https://localhost:8080/",
          "height": 34
        }
      },
      "source": [
        "from google.colab import drive\n",
        "drive.mount('/content/drive')"
      ],
      "execution_count": null,
      "outputs": [
        {
          "output_type": "stream",
          "text": [
            "Drive already mounted at /content/drive; to attempt to forcibly remount, call drive.mount(\"/content/drive\", force_remount=True).\n"
          ],
          "name": "stdout"
        }
      ]
    },
    {
      "cell_type": "code",
      "metadata": {
        "id": "hdVgFPzwVjWd",
        "outputId": "106d2dba-c71d-45b3-d562-f4d51a71c705",
        "colab": {
          "base_uri": "https://localhost:8080/",
          "height": 34
        }
      },
      "source": [
        "cd /content/drive/My Drive/Applied\\ AI\\ course\\ Assignments/Case\\ Study\\ 1"
      ],
      "execution_count": null,
      "outputs": [
        {
          "output_type": "stream",
          "text": [
            "/content/drive/My Drive/Applied AI course Assignments/Case Study 1\n"
          ],
          "name": "stdout"
        }
      ]
    },
    {
      "cell_type": "code",
      "metadata": {
        "id": "Q8ftsitrb9jf"
      },
      "source": [
        "import numpy as np\n",
        "import pandas as pd\n",
        "import matplotlib.pyplot as plt\n",
        "import seaborn as sns\n",
        "\n",
        "#from bayes_opt import BayesianOptimization\n",
        "from sklearn.model_selection import GridSearchCV\n",
        "from sklearn.model_selection import RandomizedSearchCV\n",
        "from sklearn.model_selection import train_test_split\n",
        "from sklearn.model_selection import StratifiedKFold, RepeatedKFold, KFold\n",
        "\n",
        "from sklearn.linear_model import BayesianRidge\n",
        "from sklearn.tree import DecisionTreeRegressor\n",
        "from sklearn.linear_model import LinearRegression\n",
        "from sklearn.linear_model import SGDRegressor\n",
        "from sklearn.ensemble import RandomForestRegressor\n",
        "\n",
        "import lightgbm as lgb\n",
        "import pickle\n",
        "\n",
        "from sklearn.metrics import f1_score\n",
        "from sklearn.metrics import roc_curve, auc, accuracy_score, roc_auc_score, log_loss\n",
        "\n",
        "from sklearn.metrics import mean_squared_error\n",
        "from math import sqrt\n",
        "\n",
        "import time\n",
        "import gc\n",
        "import warnings\n",
        "warnings.filterwarnings('ignore')"
      ],
      "execution_count": null,
      "outputs": []
    },
    {
      "cell_type": "code",
      "metadata": {
        "id": "t4FiFE7ciUPG"
      },
      "source": [
        "#https://www.kaggle.com/fabiendaniel/elo-world\n",
        "#Function to load data into pandas and reduce memory usage\n",
        "\n",
        "def reduce_mem_usage(df, verbose=True):\n",
        "    numerics = ['int16', 'int32', 'int64', 'float16', 'float32', 'float64']\n",
        "    start_mem = df.memory_usage().sum() / 1024**2    \n",
        "    for col in df.columns:\n",
        "        col_type = df[col].dtypes\n",
        "        if col_type in numerics:\n",
        "            c_min = df[col].min()\n",
        "            c_max = df[col].max()\n",
        "            if str(col_type)[:3] == 'int':\n",
        "                if c_min > np.iinfo(np.int8).min and c_max < np.iinfo(np.int8).max:\n",
        "                    df[col] = df[col].astype(np.int8)\n",
        "                elif c_min > np.iinfo(np.int16).min and c_max < np.iinfo(np.int16).max:\n",
        "                    df[col] = df[col].astype(np.int16)\n",
        "                elif c_min > np.iinfo(np.int32).min and c_max < np.iinfo(np.int32).max:\n",
        "                    df[col] = df[col].astype(np.int32)\n",
        "                elif c_min > np.iinfo(np.int64).min and c_max < np.iinfo(np.int64).max:\n",
        "                    df[col] = df[col].astype(np.int64)  \n",
        "            else:\n",
        "                if c_min > np.finfo(np.float16).min and c_max < np.finfo(np.float16).max:\n",
        "                    df[col] = df[col].astype(np.float16)\n",
        "                elif c_min > np.finfo(np.float32).min and c_max < np.finfo(np.float32).max:\n",
        "                    df[col] = df[col].astype(np.float32)\n",
        "                else:\n",
        "                    df[col] = df[col].astype(np.float64)    \n",
        "    end_mem = df.memory_usage().sum() / 1024**2\n",
        "    if verbose: print('Mem. usage decreased to {:5.2f} Mb ({:.1f}% reduction)'.format(end_mem, 100 * (start_mem - end_mem) / start_mem))\n",
        "    return df"
      ],
      "execution_count": null,
      "outputs": []
    },
    {
      "cell_type": "markdown",
      "metadata": {
        "id": "jc9pmEF_HJEN"
      },
      "source": [
        "# Data Prep\n"
      ]
    },
    {
      "cell_type": "code",
      "metadata": {
        "id": "CRHFxazdiZf8",
        "outputId": "4d3e7bba-4e3e-4e07-f86a-beac405cae78",
        "colab": {
          "base_uri": "https://localhost:8080/",
          "height": 51
        }
      },
      "source": [
        "train = reduce_mem_usage(pd.read_csv('New_Data_processed/train_features_without_merchant.csv', index_col=0))\n",
        "test = reduce_mem_usage(pd.read_csv('New_Data_processed/test_features_without_merchant.csv', index_col=0))"
      ],
      "execution_count": null,
      "outputs": [
        {
          "output_type": "stream",
          "text": [
            "Mem. usage decreased to 99.94 Mb (71.4% reduction)\n",
            "Mem. usage decreased to 62.01 Mb (70.9% reduction)\n"
          ],
          "name": "stdout"
        }
      ]
    },
    {
      "cell_type": "code",
      "metadata": {
        "id": "7SdwW24mypBt"
      },
      "source": [
        "train.replace([np.inf,-np.inf], np.nan, inplace=True)\n",
        "test.replace([np.inf,-np.inf], np.nan, inplace=True)"
      ],
      "execution_count": null,
      "outputs": []
    },
    {
      "cell_type": "code",
      "metadata": {
        "id": "o-fW9ulxv3cj",
        "outputId": "c6183553-13b3-476d-b1e8-05c586a4064f",
        "colab": {
          "base_uri": "https://localhost:8080/",
          "height": 119
        }
      },
      "source": [
        "train.columns[train.isna().any()]"
      ],
      "execution_count": null,
      "outputs": [
        {
          "output_type": "execute_result",
          "data": {
            "text/plain": [
              "Index(['transactions_duration_skew', 'transactions_price_sum',\n",
              "       'transactions_price_skew', 'new_transactions_duration_skew',\n",
              "       'new_transactions_price_sum', 'new_transactions_price_mean',\n",
              "       'new_transactions_price_min', 'new_transactions_price_max',\n",
              "       'purchase_amount_ratio', 'installments_ratio'],\n",
              "      dtype='object')"
            ]
          },
          "metadata": {
            "tags": []
          },
          "execution_count": 247
        }
      ]
    },
    {
      "cell_type": "code",
      "metadata": {
        "id": "eoDqyuKOv6is",
        "outputId": "96f669c8-e84c-4eb6-a7d4-c6edd111f3c1",
        "colab": {
          "base_uri": "https://localhost:8080/",
          "height": 119
        }
      },
      "source": [
        "test.columns[test.isna().any()] #target variable is Nan"
      ],
      "execution_count": null,
      "outputs": [
        {
          "output_type": "execute_result",
          "data": {
            "text/plain": [
              "Index(['target', 'transactions_duration_skew', 'transactions_price_sum',\n",
              "       'transactions_price_skew', 'new_transactions_duration_skew',\n",
              "       'new_transactions_price_sum', 'new_transactions_price_mean',\n",
              "       'new_transactions_price_min', 'new_transactions_price_max',\n",
              "       'new_purchase_date_diff_now', 'new_last_buy', 'installments_ratio'],\n",
              "      dtype='object')"
            ]
          },
          "metadata": {
            "tags": []
          },
          "execution_count": 248
        }
      ]
    },
    {
      "cell_type": "code",
      "metadata": {
        "id": "vjeXis7bv-v1"
      },
      "source": [
        "train['new_purchase_date_diff_now'].fillna(train['new_purchase_date_diff_now'].mode()[0], inplace=True) \n",
        "train['new_last_buy'].fillna(train['new_last_buy'].mode()[0], inplace=True) \n",
        "test['new_purchase_date_diff_now'].fillna(test['new_purchase_date_diff_now'].mode()[0], inplace=True) \n",
        "test['new_last_buy'].fillna(test['new_last_buy'].mode()[0], inplace=True) \n",
        "train['transactions_duration_skew'].fillna(train['transactions_duration_skew'].mode()[0], inplace=True) \n",
        "test['transactions_duration_skew'].fillna(test['transactions_duration_skew'].mode()[0], inplace=True) \n",
        "train['transactions_price_sum'].fillna(train['transactions_price_sum'].mode()[0], inplace=True) \n",
        "test['transactions_price_sum'].fillna(test['transactions_price_sum'].mode()[0], inplace=True) \n",
        "train['transactions_price_skew'].fillna(train['transactions_price_skew'].mode()[0], inplace=True) \n",
        "test['transactions_price_skew'].fillna(test['transactions_price_skew'].mode()[0], inplace=True) \n",
        "train['new_transactions_duration_skew'].fillna(train['new_transactions_duration_skew'].mode()[0], inplace=True) \n",
        "test['new_transactions_duration_skew'].fillna(test['new_transactions_duration_skew'].mode()[0], inplace=True) \n",
        "train['new_transactions_price_sum'].fillna(train['new_transactions_price_sum'].mode()[0], inplace=True) \n",
        "test['new_transactions_price_sum'].fillna(test['new_transactions_price_sum'].mode()[0], inplace=True) \n",
        "train['new_transactions_price_mean'].fillna(train['new_transactions_price_mean'].mode()[0], inplace=True) \n",
        "test['new_transactions_price_mean'].fillna(test['new_transactions_price_mean'].mode()[0], inplace=True) \n",
        "train['new_transactions_price_min'].fillna(train['new_transactions_price_min'].mode()[0], inplace=True) \n",
        "test['new_transactions_price_min'].fillna(test['new_transactions_price_min'].mode()[0], inplace=True) \n",
        "train['new_transactions_price_max'].fillna(train['new_transactions_price_max'].mode()[0], inplace=True) \n",
        "test['new_transactions_price_max'].fillna(test['new_transactions_price_max'].mode()[0], inplace=True) \n",
        "train['new_purchase_date_diff_now'].fillna(train['new_purchase_date_diff_now'].mode()[0], inplace=True) \n",
        "test['new_purchase_date_diff_now'].fillna(test['new_purchase_date_diff_now'].mode()[0], inplace=True) \n",
        "train['installments_ratio'].fillna(train['installments_ratio'].mode()[0], inplace=True) \n",
        "test['installments_ratio'].fillna(test['installments_ratio'].mode()[0], inplace=True) \n",
        "train['purchase_amount_ratio'].fillna(train['purchase_amount_ratio'].mode()[0], inplace=True) \n",
        "test['purchase_amount_ratio'].fillna(test['purchase_amount_ratio'].mode()[0], inplace=True) "
      ],
      "execution_count": null,
      "outputs": []
    },
    {
      "cell_type": "code",
      "metadata": {
        "id": "p-SkIfdb0zmk",
        "outputId": "23504e20-0a48-41cc-cba4-b56194d66be6",
        "colab": {
          "base_uri": "https://localhost:8080/",
          "height": 34
        }
      },
      "source": [
        "train.columns[train.isna().any()]"
      ],
      "execution_count": null,
      "outputs": [
        {
          "output_type": "execute_result",
          "data": {
            "text/plain": [
              "Index([], dtype='object')"
            ]
          },
          "metadata": {
            "tags": []
          },
          "execution_count": 250
        }
      ]
    },
    {
      "cell_type": "code",
      "metadata": {
        "id": "ESTDgOhbv_Tk",
        "outputId": "2ce143de-ff0c-45c7-ac57-26d9867731bc",
        "colab": {
          "base_uri": "https://localhost:8080/",
          "height": 34
        }
      },
      "source": [
        "test.columns[test.isna().any()]"
      ],
      "execution_count": null,
      "outputs": [
        {
          "output_type": "execute_result",
          "data": {
            "text/plain": [
              "Index(['target'], dtype='object')"
            ]
          },
          "metadata": {
            "tags": []
          },
          "execution_count": 251
        }
      ]
    },
    {
      "cell_type": "code",
      "metadata": {
        "id": "4L5C2z6JTiez"
      },
      "source": [
        "## Load the predicted labels from Binary Classification Model\n",
        "\n",
        "with open('Binary_Classification_predictions/predicted_labels_train.pkl','rb') as f:\n",
        "  train_labels = pickle.load(f)\n",
        "\n",
        "with open('Binary_Classification_predictions/predicted_labels_test.pkl','rb') as f:\n",
        "  test_labels = pickle.load(f)\n",
        "\n",
        "with open('Binary_Classification_predictions/prob_labels_train.pkl', 'rb') as f:\n",
        "  train_prob = pickle.load(f)\n",
        "\n",
        "with open('Binary_Classification_predictions/prob_labels_test.pkl', 'rb') as f:\n",
        "  test_prob = pickle.load(f)\n"
      ],
      "execution_count": null,
      "outputs": []
    },
    {
      "cell_type": "code",
      "metadata": {
        "id": "Lfs-4h_-e5e1"
      },
      "source": [
        "train['outlier_prob'] = train_prob\n",
        "train['outlier_pred'] = train_labels\n",
        "test['outlier_prob'] = test_prob\n",
        "test['outlier_pred'] = test_labels"
      ],
      "execution_count": null,
      "outputs": []
    },
    {
      "cell_type": "code",
      "metadata": {
        "id": "wyBxHNLCb5dT",
        "outputId": "e3aa2912-8fd3-4eca-ee1f-539a8571eaaf",
        "colab": {
          "base_uri": "https://localhost:8080/",
          "height": 102
        }
      },
      "source": [
        "train.info()"
      ],
      "execution_count": null,
      "outputs": [
        {
          "output_type": "stream",
          "text": [
            "<class 'pandas.core.frame.DataFrame'>\n",
            "Int64Index: 201917 entries, 0 to 201916\n",
            "Columns: 228 entries, card_id to outlier_pred\n",
            "dtypes: float16(172), float32(5), float64(11), int16(15), int32(2), int64(1), int8(21), object(1)\n",
            "memory usage: 103.0+ MB\n"
          ],
          "name": "stdout"
        }
      ]
    },
    {
      "cell_type": "code",
      "metadata": {
        "id": "S7shW3fi-ZPE",
        "outputId": "1ed0a115-b69f-4e35-f5fc-2748a6f82032",
        "colab": {
          "base_uri": "https://localhost:8080/",
          "height": 102
        }
      },
      "source": [
        "test.info()"
      ],
      "execution_count": null,
      "outputs": [
        {
          "output_type": "stream",
          "text": [
            "<class 'pandas.core.frame.DataFrame'>\n",
            "Int64Index: 123623 entries, 0 to 123622\n",
            "Columns: 227 entries, card_id to outlier_pred\n",
            "dtypes: float16(171), float32(8), float64(11), int16(12), int32(3), int64(1), int8(20), object(1)\n",
            "memory usage: 63.9+ MB\n"
          ],
          "name": "stdout"
        }
      ]
    },
    {
      "cell_type": "code",
      "metadata": {
        "id": "XpUNDw-kxwJX"
      },
      "source": [
        "#Load the full regression predictions\n",
        "\n",
        "with open('train_predictions_full_regression.pkl', 'rb') as f:\n",
        "  full_regression_train_preds = pickle.load(f)\n",
        "\n",
        "with open('test_predictions_full_regression.pkl', 'rb') as f:\n",
        "  full_regression_test_preds = pickle.load(f)\n"
      ],
      "execution_count": null,
      "outputs": []
    },
    {
      "cell_type": "code",
      "metadata": {
        "id": "iU90HWoz1lDD"
      },
      "source": [
        "train = train.merge(full_regression_train_preds, on='card_id', how='left')\n",
        "test = test.merge(full_regression_test_preds, on='card_id', how='left')"
      ],
      "execution_count": null,
      "outputs": []
    },
    {
      "cell_type": "code",
      "metadata": {
        "id": "0o1uUEuE2WBS",
        "outputId": "a12f4d9a-b88f-46e7-87be-ef2146d79d76",
        "colab": {
          "base_uri": "https://localhost:8080/",
          "height": 102
        }
      },
      "source": [
        "train.info()"
      ],
      "execution_count": null,
      "outputs": [
        {
          "output_type": "stream",
          "text": [
            "<class 'pandas.core.frame.DataFrame'>\n",
            "Int64Index: 201917 entries, 0 to 201916\n",
            "Columns: 229 entries, card_id to full_regression_prediction\n",
            "dtypes: float16(172), float32(5), float64(12), int16(15), int32(2), int64(1), int8(21), object(1)\n",
            "memory usage: 104.6+ MB\n"
          ],
          "name": "stdout"
        }
      ]
    },
    {
      "cell_type": "code",
      "metadata": {
        "id": "L2n4TjG22lxQ",
        "outputId": "2ee0ff1d-9523-4e6a-c7ff-207baad84aad",
        "colab": {
          "base_uri": "https://localhost:8080/",
          "height": 102
        }
      },
      "source": [
        "test.info()"
      ],
      "execution_count": null,
      "outputs": [
        {
          "output_type": "stream",
          "text": [
            "<class 'pandas.core.frame.DataFrame'>\n",
            "Int64Index: 123623 entries, 0 to 123622\n",
            "Columns: 228 entries, card_id to full_regression_prediction\n",
            "dtypes: float16(171), float32(8), float64(12), int16(12), int32(3), int64(1), int8(20), object(1)\n",
            "memory usage: 64.8+ MB\n"
          ],
          "name": "stdout"
        }
      ]
    },
    {
      "cell_type": "code",
      "metadata": {
        "id": "vOQY997tOvCE"
      },
      "source": [
        "train_card_ids = train['card_id']\n",
        "train_target = train['target']"
      ],
      "execution_count": null,
      "outputs": []
    },
    {
      "cell_type": "code",
      "metadata": {
        "id": "L1PQ_6FM0SUG"
      },
      "source": [
        "test_card_ids = test['card_id']\n",
        "test.drop(columns=['card_id', 'target'], axis=1, inplace=True)"
      ],
      "execution_count": null,
      "outputs": []
    },
    {
      "cell_type": "markdown",
      "metadata": {
        "id": "vAi0WviIRnhX"
      },
      "source": [
        "# High Prob Model"
      ]
    },
    {
      "cell_type": "markdown",
      "metadata": {
        "id": "2deo042TW8w2"
      },
      "source": [
        "\n",
        "**This would be a stacking model**"
      ]
    },
    {
      "cell_type": "code",
      "metadata": {
        "id": "0bB60ZysTYqB",
        "outputId": "5d19d6cf-1d8b-405b-82f7-c7bfba5a5bb3",
        "colab": {
          "base_uri": "https://localhost:8080/",
          "height": 102
        }
      },
      "source": [
        "# Create the dataset for training and test\n",
        "high_prob_data = train[train['outlier_pred'] == 1]\n",
        "high_prob_data.info()"
      ],
      "execution_count": null,
      "outputs": [
        {
          "output_type": "stream",
          "text": [
            "<class 'pandas.core.frame.DataFrame'>\n",
            "Int64Index: 22831 entries, 5 to 201908\n",
            "Columns: 229 entries, card_id to full_regression_prediction\n",
            "dtypes: float16(172), float32(5), float64(12), int16(15), int32(2), int64(1), int8(21), object(1)\n",
            "memory usage: 11.8+ MB\n"
          ],
          "name": "stdout"
        }
      ]
    },
    {
      "cell_type": "code",
      "metadata": {
        "id": "EkJvT0BTu9KZ",
        "outputId": "4b267cfe-17b4-40a5-b525-754285209e77",
        "colab": {
          "base_uri": "https://localhost:8080/",
          "height": 102
        }
      },
      "source": [
        "rare_outliers = high_prob_data[high_prob_data['rare_datapoints'] == 0]\n",
        "rare_outliers.info()"
      ],
      "execution_count": null,
      "outputs": [
        {
          "output_type": "stream",
          "text": [
            "<class 'pandas.core.frame.DataFrame'>\n",
            "Int64Index: 21242 entries, 5 to 201908\n",
            "Columns: 229 entries, card_id to full_regression_prediction\n",
            "dtypes: float16(172), float32(5), float64(12), int16(15), int32(2), int64(1), int8(21), object(1)\n",
            "memory usage: 11.0+ MB\n"
          ],
          "name": "stdout"
        }
      ]
    },
    {
      "cell_type": "markdown",
      "metadata": {
        "id": "yaW0OfOd4aER"
      },
      "source": [
        "So we have 1589 correctly predicted points as outliers. \n",
        "<br>\n",
        " "
      ]
    },
    {
      "cell_type": "code",
      "metadata": {
        "id": "wo-16w77xsms"
      },
      "source": [
        "high_prob_data = high_prob_data[high_prob_data['rare_datapoints'] == 1]\n",
        "rare_outliers = rare_outliers.sample(411)"
      ],
      "execution_count": null,
      "outputs": []
    },
    {
      "cell_type": "code",
      "metadata": {
        "id": "L68D-uzuEqIy",
        "outputId": "c387dcd7-7320-4aca-d3f7-d32cbe83556b",
        "colab": {
          "base_uri": "https://localhost:8080/",
          "height": 102
        }
      },
      "source": [
        "high_prob_data = high_prob_data.append(rare_outliers, ignore_index=True)\n",
        "high_prob_data.info()"
      ],
      "execution_count": null,
      "outputs": [
        {
          "output_type": "stream",
          "text": [
            "<class 'pandas.core.frame.DataFrame'>\n",
            "RangeIndex: 2000 entries, 0 to 1999\n",
            "Columns: 229 entries, card_id to full_regression_prediction\n",
            "dtypes: float16(172), float32(5), float64(12), int16(15), int32(2), int64(1), int8(21), object(1)\n",
            "memory usage: 1.0+ MB\n"
          ],
          "name": "stdout"
        }
      ]
    },
    {
      "cell_type": "code",
      "metadata": {
        "id": "1eQMJsXe1oad"
      },
      "source": [
        "#Load the top 150 features\n",
        "#Start with top 50\n",
        "\n",
        "with open('top_150_features.pkl', 'rb') as f:\n",
        "  top_features = pickle.load(f)\n",
        "\n",
        "top_features = list(top_features[:10])"
      ],
      "execution_count": null,
      "outputs": []
    },
    {
      "cell_type": "code",
      "metadata": {
        "id": "TbX4B5lt3UIu"
      },
      "source": [
        "top_features.append('full_regression_prediction')\n",
        "top_features.append('outlier_prob')\n",
        "top_features.append('outlier_pred')"
      ],
      "execution_count": null,
      "outputs": []
    },
    {
      "cell_type": "code",
      "metadata": {
        "id": "_rspPFzv4myl"
      },
      "source": [
        "y_high_prob = high_prob_data['target']\n",
        "high_prob_card_ids = high_prob_data['card_id']\n",
        "high_prob_data.drop(columns=['card_id', 'target', 'rare_datapoints'], axis=1, inplace=True)"
      ],
      "execution_count": null,
      "outputs": []
    },
    {
      "cell_type": "code",
      "metadata": {
        "id": "BFufXz2j6Yec"
      },
      "source": [
        "high_prob_data = high_prob_data[top_features]\n",
        "train = train[top_features]\n",
        "test = test[top_features]"
      ],
      "execution_count": null,
      "outputs": []
    },
    {
      "cell_type": "code",
      "metadata": {
        "id": "OkGk9R_J50FV",
        "outputId": "67cf33f5-7103-4324-826b-f1e615a4efdb",
        "colab": {
          "base_uri": "https://localhost:8080/",
          "height": 119
        }
      },
      "source": [
        "folds_stack = KFold(n_splits=5, shuffle=True, random_state=4590)\n",
        "oof_high_pred = np.zeros(high_prob_data.shape[0])\n",
        "train_pred = np.zeros(train.shape[0])\n",
        "pred_high_prob = np.zeros(test.shape[0])\n",
        "\n",
        "for fold_, (trn_idx, val_idx) in enumerate(folds_stack.split(high_prob_data,y_high_prob)):\n",
        "    print(\"fold {}\".format(fold_))\n",
        "    trn_data, trn_y = high_prob_data.iloc[trn_idx], y_high_prob.iloc[trn_idx]\n",
        "    val_data, val_y = high_prob_data.iloc[val_idx], y_high_prob.iloc[val_idx]\n",
        "    \n",
        "    #clf_3 = lgb.LGBMRegressor()\n",
        "    clf_3 = BayesianRidge()\n",
        "    clf_3.fit(trn_data, trn_y)\n",
        "    \n",
        "    oof_high_pred[val_idx] = clf_3.predict(val_data)\n",
        "    train_pred += clf_3.predict(train) / 5\n",
        "    pred_high_prob += clf_3.predict(test) / 5\n",
        "    \n",
        "np.sqrt(mean_squared_error(y_high_prob.values, oof_high_pred))"
      ],
      "execution_count": null,
      "outputs": [
        {
          "output_type": "stream",
          "text": [
            "fold 0\n",
            "fold 1\n",
            "fold 2\n",
            "fold 3\n",
            "fold 4\n"
          ],
          "name": "stdout"
        },
        {
          "output_type": "execute_result",
          "data": {
            "text/plain": [
              "13.29265833591198"
            ]
          },
          "metadata": {
            "tags": []
          },
          "execution_count": 283
        }
      ]
    },
    {
      "cell_type": "code",
      "metadata": {
        "id": "c1qUkb5jQoBj",
        "outputId": "b3f1eea1-d6e0-456b-8352-6b5e56ee840e",
        "colab": {
          "base_uri": "https://localhost:8080/",
          "height": 34
        }
      },
      "source": [
        "cv_rmse = sqrt(mean_squared_error(y_high_prob.values, oof_high_pred))\n",
        "print(\"CV RMSE: {:2.5f}\".format(cv_rmse))"
      ],
      "execution_count": null,
      "outputs": [
        {
          "output_type": "stream",
          "text": [
            "CV RMSE: 13.29266\n"
          ],
          "name": "stdout"
        }
      ]
    },
    {
      "cell_type": "code",
      "metadata": {
        "id": "dUtN2c1m69lJ",
        "outputId": "d8661a7f-e610-4316-b2df-16653d827e5c",
        "colab": {
          "base_uri": "https://localhost:8080/",
          "height": 34
        }
      },
      "source": [
        "cv_rmse = sqrt(mean_squared_error(train_pred, train_target))\n",
        "print(\"Entire Train data RMSE: {:2.5f}\".format(cv_rmse))"
      ],
      "execution_count": null,
      "outputs": [
        {
          "output_type": "stream",
          "text": [
            "Entire Train data RMSE: 24.78733\n"
          ],
          "name": "stdout"
        }
      ]
    },
    {
      "cell_type": "code",
      "metadata": {
        "id": "uxKddcos7aDd",
        "outputId": "26db1dfa-1bbb-4118-fc7c-2ad0c7d93679",
        "colab": {
          "base_uri": "https://localhost:8080/",
          "height": 51
        }
      },
      "source": [
        "print(max(train_pred))\n",
        "print(min(train_pred))"
      ],
      "execution_count": null,
      "outputs": [
        {
          "output_type": "stream",
          "text": [
            "-21.87140376655802\n",
            "-123.09560275003373\n"
          ],
          "name": "stdout"
        }
      ]
    },
    {
      "cell_type": "code",
      "metadata": {
        "id": "Klxq20ZTABn2",
        "outputId": "42dda5f5-9c4d-41e8-ee3d-47d83c2e30f0",
        "colab": {
          "base_uri": "https://localhost:8080/",
          "height": 51
        }
      },
      "source": [
        "print(max(pred_high_prob))\n",
        "print(min(pred_high_prob))"
      ],
      "execution_count": null,
      "outputs": [
        {
          "output_type": "stream",
          "text": [
            "-21.8131266126191\n",
            "-326.7762898232499\n"
          ],
          "name": "stdout"
        }
      ]
    },
    {
      "cell_type": "markdown",
      "metadata": {
        "id": "lrUnD75nYs3M"
      },
      "source": [
        "# Evaluate the models on entire train data:"
      ]
    },
    {
      "cell_type": "code",
      "metadata": {
        "id": "ms_1IyKx9WEK"
      },
      "source": [
        "high_prob_train = pd.DataFrame()\n",
        "high_prob_train['card_id'] = train_card_ids\n",
        "high_prob_train['high_prob_score'] = train_pred"
      ],
      "execution_count": null,
      "outputs": []
    },
    {
      "cell_type": "code",
      "metadata": {
        "id": "3I81QwKQAOEc",
        "outputId": "64ecbca3-8aee-47e7-f07e-ec2a49bd7817",
        "colab": {
          "base_uri": "https://localhost:8080/",
          "height": 204
        }
      },
      "source": [
        "high_prob_train.head()"
      ],
      "execution_count": null,
      "outputs": [
        {
          "output_type": "execute_result",
          "data": {
            "text/html": [
              "<div>\n",
              "<style scoped>\n",
              "    .dataframe tbody tr th:only-of-type {\n",
              "        vertical-align: middle;\n",
              "    }\n",
              "\n",
              "    .dataframe tbody tr th {\n",
              "        vertical-align: top;\n",
              "    }\n",
              "\n",
              "    .dataframe thead th {\n",
              "        text-align: right;\n",
              "    }\n",
              "</style>\n",
              "<table border=\"1\" class=\"dataframe\">\n",
              "  <thead>\n",
              "    <tr style=\"text-align: right;\">\n",
              "      <th></th>\n",
              "      <th>card_id</th>\n",
              "      <th>high_prob_score</th>\n",
              "    </tr>\n",
              "  </thead>\n",
              "  <tbody>\n",
              "    <tr>\n",
              "      <th>0</th>\n",
              "      <td>C_ID_92a2005557</td>\n",
              "      <td>-23.407989</td>\n",
              "    </tr>\n",
              "    <tr>\n",
              "      <th>1</th>\n",
              "      <td>C_ID_3d0044924f</td>\n",
              "      <td>-25.568459</td>\n",
              "    </tr>\n",
              "    <tr>\n",
              "      <th>2</th>\n",
              "      <td>C_ID_d639edf6cd</td>\n",
              "      <td>-25.956868</td>\n",
              "    </tr>\n",
              "    <tr>\n",
              "      <th>3</th>\n",
              "      <td>C_ID_186d6a6901</td>\n",
              "      <td>-24.202300</td>\n",
              "    </tr>\n",
              "    <tr>\n",
              "      <th>4</th>\n",
              "      <td>C_ID_cdbd2c0db2</td>\n",
              "      <td>-23.421759</td>\n",
              "    </tr>\n",
              "  </tbody>\n",
              "</table>\n",
              "</div>"
            ],
            "text/plain": [
              "           card_id  high_prob_score\n",
              "0  C_ID_92a2005557       -23.407989\n",
              "1  C_ID_3d0044924f       -25.568459\n",
              "2  C_ID_d639edf6cd       -25.956868\n",
              "3  C_ID_186d6a6901       -24.202300\n",
              "4  C_ID_cdbd2c0db2       -23.421759"
            ]
          },
          "metadata": {
            "tags": []
          },
          "execution_count": 289
        }
      ]
    },
    {
      "cell_type": "code",
      "metadata": {
        "id": "3eXy5y1--wu6"
      },
      "source": [
        "high_prob_test = pd.DataFrame()\n",
        "high_prob_test['card_id'] = test_card_ids\n",
        "high_prob_test['high_prob_score'] = pred_high_prob"
      ],
      "execution_count": null,
      "outputs": []
    },
    {
      "cell_type": "markdown",
      "metadata": {
        "id": "gZitc9Kv-H2D"
      },
      "source": [
        "Clip under -33.218750"
      ]
    },
    {
      "cell_type": "code",
      "metadata": {
        "id": "XwBmHL95AJDZ"
      },
      "source": [
        "#high_prob_train['high_prob_score'] = high_prob_train['high_prob_score'].apply(lambda x: -33.218750 if x < -33.218750 else x)\n",
        "#high_prob_test['high_prob_score'] = high_prob_test['high_prob_score'].apply(lambda x: -33.218750 if x < -33.218750 else x)"
      ],
      "execution_count": null,
      "outputs": []
    },
    {
      "cell_type": "code",
      "metadata": {
        "id": "bfK71Fe2BovN",
        "outputId": "795c9b43-af39-4732-d581-5bcaad659668",
        "colab": {
          "base_uri": "https://localhost:8080/",
          "height": 34
        }
      },
      "source": [
        "cv_rmse = sqrt(mean_squared_error(high_prob_train['high_prob_score'], train_target))\n",
        "print(\"CV RMSE: {:2.5f}\".format(cv_rmse))"
      ],
      "execution_count": null,
      "outputs": [
        {
          "output_type": "stream",
          "text": [
            "CV RMSE: 24.78733\n"
          ],
          "name": "stdout"
        }
      ]
    },
    {
      "cell_type": "code",
      "metadata": {
        "id": "slH2knva-ztg"
      },
      "source": [
        "with open('Low_and_High_prob_predictions/high_prob_train_predictions.pkl', 'wb') as f:\n",
        "  pickle.dump(high_prob_train, f)\n",
        "\n",
        "with open('Low_and_High_prob_predictions/high_prob_test_predictions.pkl', 'wb') as f:\n",
        "  pickle.dump(high_prob_test, f)"
      ],
      "execution_count": null,
      "outputs": []
    }
  ]
}